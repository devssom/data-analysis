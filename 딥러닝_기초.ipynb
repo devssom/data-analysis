{
  "nbformat": 4,
  "nbformat_minor": 0,
  "metadata": {
    "colab": {
      "name": "딥러닝 기초.ipynb",
      "provenance": [],
      "collapsed_sections": [],
      "authorship_tag": "ABX9TyPpdtKamG9ji/v4bKtsPAxa",
      "include_colab_link": true
    },
    "kernelspec": {
      "name": "python3",
      "display_name": "Python 3"
    },
    "language_info": {
      "name": "python"
    }
  },
  "cells": [
    {
      "cell_type": "markdown",
      "metadata": {
        "id": "view-in-github",
        "colab_type": "text"
      },
      "source": [
        "<a href=\"https://colab.research.google.com/github/devssom/data-analysis/blob/main/%EB%94%A5%EB%9F%AC%EB%8B%9D_%EA%B8%B0%EC%B4%88.ipynb\" target=\"_parent\"><img src=\"https://colab.research.google.com/assets/colab-badge.svg\" alt=\"Open In Colab\"/></a>"
      ]
    },
    {
      "cell_type": "markdown",
      "metadata": {
        "id": "145Zt9tObH7q"
      },
      "source": [
        "사용할 데이터\n",
        "- 레모네이드 : https://raw.githubusercontent.com/blackdew/ml-tensorflow/master/data/csv/lemonade.csv\n",
        "- 보스턴집값 : https://raw.githubusercontent.com/blackdew/ml-tensorflow/master/data/csv/boston.csv\n",
        "- 아이리스 : https://raw.githubusercontent.com/blackdew/ml-tensorflow/master/data/csv/iris.csv"
      ]
    },
    {
      "cell_type": "markdown",
      "metadata": {
        "id": "fconrSplcX6x"
      },
      "source": [
        "# 1. 레모네이드 실습"
      ]
    },
    {
      "cell_type": "markdown",
      "metadata": {
        "id": "Y2hgEpr_bMzU"
      },
      "source": [
        "## 1.1 데이터 준비\n",
        "독립변수와 종속변수를 분리해내는 것"
      ]
    },
    {
      "cell_type": "code",
      "metadata": {
        "colab": {
          "base_uri": "https://localhost:8080/",
          "height": 235
        },
        "id": "wHhfE3RAbif_",
        "outputId": "bd184153-7086-4fd6-9d5c-c961cb5a966f"
      },
      "source": [
        "import pandas as pd\n",
        "\n",
        "path = \"https://raw.githubusercontent.com/blackdew/ml-tensorflow/master/data/csv/lemonade.csv\"\n",
        "lemon = pd.read_csv(path)\n",
        "lemon"
      ],
      "execution_count": null,
      "outputs": [
        {
          "output_type": "execute_result",
          "data": {
            "text/html": [
              "<div>\n",
              "<style scoped>\n",
              "    .dataframe tbody tr th:only-of-type {\n",
              "        vertical-align: middle;\n",
              "    }\n",
              "\n",
              "    .dataframe tbody tr th {\n",
              "        vertical-align: top;\n",
              "    }\n",
              "\n",
              "    .dataframe thead th {\n",
              "        text-align: right;\n",
              "    }\n",
              "</style>\n",
              "<table border=\"1\" class=\"dataframe\">\n",
              "  <thead>\n",
              "    <tr style=\"text-align: right;\">\n",
              "      <th></th>\n",
              "      <th>온도</th>\n",
              "      <th>판매량</th>\n",
              "    </tr>\n",
              "  </thead>\n",
              "  <tbody>\n",
              "    <tr>\n",
              "      <th>0</th>\n",
              "      <td>20</td>\n",
              "      <td>40</td>\n",
              "    </tr>\n",
              "    <tr>\n",
              "      <th>1</th>\n",
              "      <td>21</td>\n",
              "      <td>42</td>\n",
              "    </tr>\n",
              "    <tr>\n",
              "      <th>2</th>\n",
              "      <td>22</td>\n",
              "      <td>44</td>\n",
              "    </tr>\n",
              "    <tr>\n",
              "      <th>3</th>\n",
              "      <td>23</td>\n",
              "      <td>46</td>\n",
              "    </tr>\n",
              "    <tr>\n",
              "      <th>4</th>\n",
              "      <td>24</td>\n",
              "      <td>48</td>\n",
              "    </tr>\n",
              "    <tr>\n",
              "      <th>5</th>\n",
              "      <td>25</td>\n",
              "      <td>50</td>\n",
              "    </tr>\n",
              "  </tbody>\n",
              "</table>\n",
              "</div>"
            ],
            "text/plain": [
              "   온도  판매량\n",
              "0  20   40\n",
              "1  21   42\n",
              "2  22   44\n",
              "3  23   46\n",
              "4  24   48\n",
              "5  25   50"
            ]
          },
          "metadata": {},
          "execution_count": 3
        }
      ]
    },
    {
      "cell_type": "code",
      "metadata": {
        "colab": {
          "base_uri": "https://localhost:8080/"
        },
        "id": "0chsG7Q1byZl",
        "outputId": "6fd54a6c-2fdc-465b-9259-fe48329f6e31"
      },
      "source": [
        "print(lemon.shape)"
      ],
      "execution_count": null,
      "outputs": [
        {
          "output_type": "stream",
          "text": [
            "(6, 2)\n"
          ],
          "name": "stdout"
        }
      ]
    },
    {
      "cell_type": "code",
      "metadata": {
        "colab": {
          "base_uri": "https://localhost:8080/"
        },
        "id": "xov5hQKmbzaB",
        "outputId": "a14091e2-c519-4083-fd76-1fe5a2501062"
      },
      "source": [
        "x = lemon[['온도']]\n",
        "y = lemon[['판매량']]\n",
        "\n",
        "print(x.shape, y.shape)"
      ],
      "execution_count": null,
      "outputs": [
        {
          "output_type": "stream",
          "text": [
            "(6, 1) (6, 1)\n"
          ],
          "name": "stdout"
        }
      ]
    },
    {
      "cell_type": "code",
      "metadata": {
        "colab": {
          "base_uri": "https://localhost:8080/",
          "height": 235
        },
        "id": "PYwi57kib_zB",
        "outputId": "a364a3ea-2eed-44e3-e5a4-8a9b9f7f77bd"
      },
      "source": [
        "x"
      ],
      "execution_count": null,
      "outputs": [
        {
          "output_type": "execute_result",
          "data": {
            "text/html": [
              "<div>\n",
              "<style scoped>\n",
              "    .dataframe tbody tr th:only-of-type {\n",
              "        vertical-align: middle;\n",
              "    }\n",
              "\n",
              "    .dataframe tbody tr th {\n",
              "        vertical-align: top;\n",
              "    }\n",
              "\n",
              "    .dataframe thead th {\n",
              "        text-align: right;\n",
              "    }\n",
              "</style>\n",
              "<table border=\"1\" class=\"dataframe\">\n",
              "  <thead>\n",
              "    <tr style=\"text-align: right;\">\n",
              "      <th></th>\n",
              "      <th>온도</th>\n",
              "    </tr>\n",
              "  </thead>\n",
              "  <tbody>\n",
              "    <tr>\n",
              "      <th>0</th>\n",
              "      <td>20</td>\n",
              "    </tr>\n",
              "    <tr>\n",
              "      <th>1</th>\n",
              "      <td>21</td>\n",
              "    </tr>\n",
              "    <tr>\n",
              "      <th>2</th>\n",
              "      <td>22</td>\n",
              "    </tr>\n",
              "    <tr>\n",
              "      <th>3</th>\n",
              "      <td>23</td>\n",
              "    </tr>\n",
              "    <tr>\n",
              "      <th>4</th>\n",
              "      <td>24</td>\n",
              "    </tr>\n",
              "    <tr>\n",
              "      <th>5</th>\n",
              "      <td>25</td>\n",
              "    </tr>\n",
              "  </tbody>\n",
              "</table>\n",
              "</div>"
            ],
            "text/plain": [
              "   온도\n",
              "0  20\n",
              "1  21\n",
              "2  22\n",
              "3  23\n",
              "4  24\n",
              "5  25"
            ]
          },
          "metadata": {},
          "execution_count": 19
        }
      ]
    },
    {
      "cell_type": "code",
      "metadata": {
        "colab": {
          "base_uri": "https://localhost:8080/",
          "height": 235
        },
        "id": "4c_JTNnWcBq4",
        "outputId": "1f74c59b-4049-48d8-ec26-8fbbc4ed6fc2"
      },
      "source": [
        "y"
      ],
      "execution_count": null,
      "outputs": [
        {
          "output_type": "execute_result",
          "data": {
            "text/html": [
              "<div>\n",
              "<style scoped>\n",
              "    .dataframe tbody tr th:only-of-type {\n",
              "        vertical-align: middle;\n",
              "    }\n",
              "\n",
              "    .dataframe tbody tr th {\n",
              "        vertical-align: top;\n",
              "    }\n",
              "\n",
              "    .dataframe thead th {\n",
              "        text-align: right;\n",
              "    }\n",
              "</style>\n",
              "<table border=\"1\" class=\"dataframe\">\n",
              "  <thead>\n",
              "    <tr style=\"text-align: right;\">\n",
              "      <th></th>\n",
              "      <th>판매량</th>\n",
              "    </tr>\n",
              "  </thead>\n",
              "  <tbody>\n",
              "    <tr>\n",
              "      <th>0</th>\n",
              "      <td>40</td>\n",
              "    </tr>\n",
              "    <tr>\n",
              "      <th>1</th>\n",
              "      <td>42</td>\n",
              "    </tr>\n",
              "    <tr>\n",
              "      <th>2</th>\n",
              "      <td>44</td>\n",
              "    </tr>\n",
              "    <tr>\n",
              "      <th>3</th>\n",
              "      <td>46</td>\n",
              "    </tr>\n",
              "    <tr>\n",
              "      <th>4</th>\n",
              "      <td>48</td>\n",
              "    </tr>\n",
              "    <tr>\n",
              "      <th>5</th>\n",
              "      <td>50</td>\n",
              "    </tr>\n",
              "  </tbody>\n",
              "</table>\n",
              "</div>"
            ],
            "text/plain": [
              "   판매량\n",
              "0   40\n",
              "1   42\n",
              "2   44\n",
              "3   46\n",
              "4   48\n",
              "5   50"
            ]
          },
          "metadata": {},
          "execution_count": 20
        }
      ]
    },
    {
      "cell_type": "markdown",
      "metadata": {
        "id": "HSdiMEo5bQjY"
      },
      "source": [
        "## 1.2. 모델 준비"
      ]
    },
    {
      "cell_type": "code",
      "metadata": {
        "id": "0pgpHGl4k2lR"
      },
      "source": [
        "import tensorflow as tf\n",
        "\n",
        "X = tf.keras.layers.Input(shape=[1])\n",
        "Y = tf.keras.layers.Dense(1)(X)\n",
        "model = tf.keras.models.Model(X, Y)\n",
        "model.compile(loss='mse')"
      ],
      "execution_count": null,
      "outputs": []
    },
    {
      "cell_type": "markdown",
      "metadata": {
        "id": "T21XujbGbT5J"
      },
      "source": [
        "## 1.3. 모델 학습(FIT)시키기"
      ]
    },
    {
      "cell_type": "code",
      "metadata": {
        "colab": {
          "base_uri": "https://localhost:8080/"
        },
        "id": "HVwAnmW6ljWV",
        "outputId": "310f7d9e-14d5-4779-c5e6-6f66707fc89d"
      },
      "source": [
        "model.fit(x, y, epochs=1000, verbose=0)\n",
        "model.fit(x, y, epochs=10)"
      ],
      "execution_count": null,
      "outputs": [
        {
          "output_type": "stream",
          "text": [
            "Epoch 1/10\n",
            "1/1 [==============================] - 0s 5ms/step - loss: 4.8699e-04\n",
            "Epoch 2/10\n",
            "1/1 [==============================] - 0s 8ms/step - loss: 4.8670e-04\n",
            "Epoch 3/10\n",
            "1/1 [==============================] - 0s 4ms/step - loss: 4.8636e-04\n",
            "Epoch 4/10\n",
            "1/1 [==============================] - 0s 6ms/step - loss: 4.8606e-04\n",
            "Epoch 5/10\n",
            "1/1 [==============================] - 0s 14ms/step - loss: 4.8572e-04\n",
            "Epoch 6/10\n",
            "1/1 [==============================] - 0s 5ms/step - loss: 4.8534e-04\n",
            "Epoch 7/10\n",
            "1/1 [==============================] - 0s 5ms/step - loss: 4.8496e-04\n",
            "Epoch 8/10\n",
            "1/1 [==============================] - 0s 5ms/step - loss: 4.8460e-04\n",
            "Epoch 9/10\n",
            "1/1 [==============================] - 0s 5ms/step - loss: 4.8432e-04\n",
            "Epoch 10/10\n",
            "1/1 [==============================] - 0s 4ms/step - loss: 4.8413e-04\n"
          ],
          "name": "stdout"
        },
        {
          "output_type": "execute_result",
          "data": {
            "text/plain": [
              "<keras.callbacks.History at 0x7f5758f21350>"
            ]
          },
          "metadata": {},
          "execution_count": 27
        }
      ]
    },
    {
      "cell_type": "markdown",
      "metadata": {
        "id": "7BdIJqp2bZon"
      },
      "source": [
        "##1.4. 모델 이용하기"
      ]
    },
    {
      "cell_type": "code",
      "metadata": {
        "colab": {
          "base_uri": "https://localhost:8080/"
        },
        "id": "xSoSJKw_lqx-",
        "outputId": "dbd61dd0-820d-4024-c0d9-995ab7b88c81"
      },
      "source": [
        "model.predict([[15]])"
      ],
      "execution_count": null,
      "outputs": [
        {
          "output_type": "execute_result",
          "data": {
            "text/plain": [
              "array([[30.090715]], dtype=float32)"
            ]
          },
          "metadata": {},
          "execution_count": 28
        }
      ]
    },
    {
      "cell_type": "code",
      "metadata": {
        "colab": {
          "base_uri": "https://localhost:8080/"
        },
        "id": "SgAUQ5zCppms",
        "outputId": "6190a2ad-2cb8-4d41-902a-04535251e5ec"
      },
      "source": [
        "model.predict(x)"
      ],
      "execution_count": null,
      "outputs": [
        {
          "output_type": "execute_result",
          "data": {
            "text/plain": [
              "array([[40.038967],\n",
              "       [42.028618],\n",
              "       [44.01827 ],\n",
              "       [46.00792 ],\n",
              "       [47.99757 ],\n",
              "       [49.98722 ]], dtype=float32)"
            ]
          },
          "metadata": {},
          "execution_count": 29
        }
      ]
    },
    {
      "cell_type": "code",
      "metadata": {
        "colab": {
          "base_uri": "https://localhost:8080/"
        },
        "id": "FIieEdKwpt15",
        "outputId": "cf240a91-2743-4a23-c679-7f7d3a80f2c3"
      },
      "source": [
        "model.get_weights()"
      ],
      "execution_count": null,
      "outputs": [
        {
          "output_type": "execute_result",
          "data": {
            "text/plain": [
              "[array([[1.9896504]], dtype=float32), array([0.24596037], dtype=float32)]"
            ]
          },
          "metadata": {},
          "execution_count": 30
        }
      ]
    },
    {
      "cell_type": "code",
      "metadata": {
        "colab": {
          "base_uri": "https://localhost:8080/"
        },
        "id": "0OeIzGU_p_Hx",
        "outputId": "92391ec0-063d-4be7-d293-8f47fbb5f211"
      },
      "source": [
        "# 판매량 = 1.9896504 * 온도 + 0.24596037\n",
        "\n",
        "판매량 = 1.9896504 * 22 + 0.24596037\n",
        "판매량"
      ],
      "execution_count": null,
      "outputs": [
        {
          "output_type": "execute_result",
          "data": {
            "text/plain": [
              "44.018269169999996"
            ]
          },
          "metadata": {},
          "execution_count": 33
        }
      ]
    },
    {
      "cell_type": "markdown",
      "metadata": {
        "id": "6Tcyy_uDcb97"
      },
      "source": [
        "# 2. 보스턴 집값 실습"
      ]
    },
    {
      "cell_type": "markdown",
      "metadata": {
        "id": "WJci-jpycedb"
      },
      "source": [
        "## 2.1 데이터 준비\n",
        "독립변수와 종속변수를 분리해내는 것\n",
        "\n",
        "-> 보스턴 x_input, y_label 만들기 (종속변수: 'medv')"
      ]
    },
    {
      "cell_type": "code",
      "metadata": {
        "colab": {
          "base_uri": "https://localhost:8080/",
          "height": 204
        },
        "id": "aBN6uHizbQFj",
        "outputId": "752fe0d9-878e-43db-e4c7-18153c403a42"
      },
      "source": [
        "import pandas as pd\n",
        "\n",
        "path = \"https://raw.githubusercontent.com/blackdew/ml-tensorflow/master/data/csv/boston.csv\"\n",
        "boston = pd.read_csv(path)\n",
        "boston.head()"
      ],
      "execution_count": null,
      "outputs": [
        {
          "output_type": "execute_result",
          "data": {
            "text/html": [
              "<div>\n",
              "<style scoped>\n",
              "    .dataframe tbody tr th:only-of-type {\n",
              "        vertical-align: middle;\n",
              "    }\n",
              "\n",
              "    .dataframe tbody tr th {\n",
              "        vertical-align: top;\n",
              "    }\n",
              "\n",
              "    .dataframe thead th {\n",
              "        text-align: right;\n",
              "    }\n",
              "</style>\n",
              "<table border=\"1\" class=\"dataframe\">\n",
              "  <thead>\n",
              "    <tr style=\"text-align: right;\">\n",
              "      <th></th>\n",
              "      <th>crim</th>\n",
              "      <th>zn</th>\n",
              "      <th>indus</th>\n",
              "      <th>chas</th>\n",
              "      <th>nox</th>\n",
              "      <th>rm</th>\n",
              "      <th>age</th>\n",
              "      <th>dis</th>\n",
              "      <th>rad</th>\n",
              "      <th>tax</th>\n",
              "      <th>ptratio</th>\n",
              "      <th>b</th>\n",
              "      <th>lstat</th>\n",
              "      <th>medv</th>\n",
              "    </tr>\n",
              "  </thead>\n",
              "  <tbody>\n",
              "    <tr>\n",
              "      <th>0</th>\n",
              "      <td>0.00632</td>\n",
              "      <td>18.0</td>\n",
              "      <td>2.31</td>\n",
              "      <td>0</td>\n",
              "      <td>0.538</td>\n",
              "      <td>6.575</td>\n",
              "      <td>65.2</td>\n",
              "      <td>4.0900</td>\n",
              "      <td>1</td>\n",
              "      <td>296</td>\n",
              "      <td>15.3</td>\n",
              "      <td>396.90</td>\n",
              "      <td>4.98</td>\n",
              "      <td>24.0</td>\n",
              "    </tr>\n",
              "    <tr>\n",
              "      <th>1</th>\n",
              "      <td>0.02731</td>\n",
              "      <td>0.0</td>\n",
              "      <td>7.07</td>\n",
              "      <td>0</td>\n",
              "      <td>0.469</td>\n",
              "      <td>6.421</td>\n",
              "      <td>78.9</td>\n",
              "      <td>4.9671</td>\n",
              "      <td>2</td>\n",
              "      <td>242</td>\n",
              "      <td>17.8</td>\n",
              "      <td>396.90</td>\n",
              "      <td>9.14</td>\n",
              "      <td>21.6</td>\n",
              "    </tr>\n",
              "    <tr>\n",
              "      <th>2</th>\n",
              "      <td>0.02729</td>\n",
              "      <td>0.0</td>\n",
              "      <td>7.07</td>\n",
              "      <td>0</td>\n",
              "      <td>0.469</td>\n",
              "      <td>7.185</td>\n",
              "      <td>61.1</td>\n",
              "      <td>4.9671</td>\n",
              "      <td>2</td>\n",
              "      <td>242</td>\n",
              "      <td>17.8</td>\n",
              "      <td>392.83</td>\n",
              "      <td>4.03</td>\n",
              "      <td>34.7</td>\n",
              "    </tr>\n",
              "    <tr>\n",
              "      <th>3</th>\n",
              "      <td>0.03237</td>\n",
              "      <td>0.0</td>\n",
              "      <td>2.18</td>\n",
              "      <td>0</td>\n",
              "      <td>0.458</td>\n",
              "      <td>6.998</td>\n",
              "      <td>45.8</td>\n",
              "      <td>6.0622</td>\n",
              "      <td>3</td>\n",
              "      <td>222</td>\n",
              "      <td>18.7</td>\n",
              "      <td>394.63</td>\n",
              "      <td>2.94</td>\n",
              "      <td>33.4</td>\n",
              "    </tr>\n",
              "    <tr>\n",
              "      <th>4</th>\n",
              "      <td>0.06905</td>\n",
              "      <td>0.0</td>\n",
              "      <td>2.18</td>\n",
              "      <td>0</td>\n",
              "      <td>0.458</td>\n",
              "      <td>7.147</td>\n",
              "      <td>54.2</td>\n",
              "      <td>6.0622</td>\n",
              "      <td>3</td>\n",
              "      <td>222</td>\n",
              "      <td>18.7</td>\n",
              "      <td>396.90</td>\n",
              "      <td>5.33</td>\n",
              "      <td>36.2</td>\n",
              "    </tr>\n",
              "  </tbody>\n",
              "</table>\n",
              "</div>"
            ],
            "text/plain": [
              "      crim    zn  indus  chas    nox  ...  tax  ptratio       b  lstat  medv\n",
              "0  0.00632  18.0   2.31     0  0.538  ...  296     15.3  396.90   4.98  24.0\n",
              "1  0.02731   0.0   7.07     0  0.469  ...  242     17.8  396.90   9.14  21.6\n",
              "2  0.02729   0.0   7.07     0  0.469  ...  242     17.8  392.83   4.03  34.7\n",
              "3  0.03237   0.0   2.18     0  0.458  ...  222     18.7  394.63   2.94  33.4\n",
              "4  0.06905   0.0   2.18     0  0.458  ...  222     18.7  396.90   5.33  36.2\n",
              "\n",
              "[5 rows x 14 columns]"
            ]
          },
          "metadata": {},
          "execution_count": 12
        }
      ]
    },
    {
      "cell_type": "code",
      "metadata": {
        "colab": {
          "base_uri": "https://localhost:8080/"
        },
        "id": "xXeVQTIYbMU0",
        "outputId": "90eff2e5-a218-4caf-f7a3-be85946e8e60"
      },
      "source": [
        "print(boston.shape)"
      ],
      "execution_count": null,
      "outputs": [
        {
          "output_type": "stream",
          "text": [
            "(506, 14)\n"
          ],
          "name": "stdout"
        }
      ]
    },
    {
      "cell_type": "code",
      "metadata": {
        "colab": {
          "base_uri": "https://localhost:8080/"
        },
        "id": "HstDVEUwZKd3",
        "outputId": "ffea8b42-178b-4b19-f560-f7c38f641497"
      },
      "source": [
        "x = boston[['crim', 'zn', 'indus', 'chas', 'nox', 'rm', 'age', 'dis', 'rad', 'tax',\n",
        "            'ptratio', 'b', 'lstat']]\n",
        "y = boston[['medv']]\n",
        "\n",
        "print(x.shape, y.shape)"
      ],
      "execution_count": null,
      "outputs": [
        {
          "output_type": "stream",
          "text": [
            "(506, 13) (506, 1)\n"
          ],
          "name": "stdout"
        }
      ]
    },
    {
      "cell_type": "code",
      "metadata": {
        "colab": {
          "base_uri": "https://localhost:8080/"
        },
        "id": "jACfpZt-srAe",
        "outputId": "9f6505eb-3a38-4f90-ebba-ede7fc6d0df9"
      },
      "source": [
        "X = tf.keras.layers.Input(shape=[13])\n",
        "Y = tf.keras.layers.Dense(1)(X)\n",
        "model = tf.keras.models.Model(X, Y)\n",
        "model.compile(loss='mse')\n",
        "\n",
        "model.summary()"
      ],
      "execution_count": null,
      "outputs": [
        {
          "output_type": "stream",
          "text": [
            "Model: \"model_4\"\n",
            "_________________________________________________________________\n",
            "Layer (type)                 Output Shape              Param #   \n",
            "=================================================================\n",
            "input_5 (InputLayer)         [(None, 13)]              0         \n",
            "_________________________________________________________________\n",
            "dense_4 (Dense)              (None, 1)                 14        \n",
            "=================================================================\n",
            "Total params: 14\n",
            "Trainable params: 14\n",
            "Non-trainable params: 0\n",
            "_________________________________________________________________\n"
          ],
          "name": "stdout"
        }
      ]
    },
    {
      "cell_type": "code",
      "metadata": {
        "colab": {
          "base_uri": "https://localhost:8080/"
        },
        "id": "lnljEUFZsz_V",
        "outputId": "909db2ab-2271-4be7-cc90-bc42bb613255"
      },
      "source": [
        "model.fit(x, y, epochs=1000, verbose=0)\n",
        "model.fit(x, y, epochs=10)"
      ],
      "execution_count": null,
      "outputs": [
        {
          "output_type": "stream",
          "text": [
            "Epoch 1/10\n",
            "16/16 [==============================] - 0s 1ms/step - loss: 24.3806\n",
            "Epoch 2/10\n",
            "16/16 [==============================] - 0s 1ms/step - loss: 24.9838\n",
            "Epoch 3/10\n",
            "16/16 [==============================] - 0s 1ms/step - loss: 24.8298\n",
            "Epoch 4/10\n",
            "16/16 [==============================] - 0s 1ms/step - loss: 24.9184\n",
            "Epoch 5/10\n",
            "16/16 [==============================] - 0s 1ms/step - loss: 24.9690\n",
            "Epoch 6/10\n",
            "16/16 [==============================] - 0s 1ms/step - loss: 24.8909\n",
            "Epoch 7/10\n",
            "16/16 [==============================] - 0s 2ms/step - loss: 24.3178\n",
            "Epoch 8/10\n",
            "16/16 [==============================] - 0s 1ms/step - loss: 24.5775\n",
            "Epoch 9/10\n",
            "16/16 [==============================] - 0s 2ms/step - loss: 24.0519\n",
            "Epoch 10/10\n",
            "16/16 [==============================] - 0s 2ms/step - loss: 25.0438\n"
          ],
          "name": "stdout"
        },
        {
          "output_type": "execute_result",
          "data": {
            "text/plain": [
              "<keras.callbacks.History at 0x7f5758e4db90>"
            ]
          },
          "metadata": {},
          "execution_count": 37
        }
      ]
    },
    {
      "cell_type": "code",
      "metadata": {
        "colab": {
          "base_uri": "https://localhost:8080/"
        },
        "id": "4V-PqWyQzf0E",
        "outputId": "ef775f83-cff2-4f51-fd80-e8115c56b96c"
      },
      "source": [
        "model.predict(x[:5])"
      ],
      "execution_count": null,
      "outputs": [
        {
          "output_type": "execute_result",
          "data": {
            "text/plain": [
              "array([[30.472223],\n",
              "       [25.318722],\n",
              "       [31.666788],\n",
              "       [30.548607],\n",
              "       [30.127996]], dtype=float32)"
            ]
          },
          "metadata": {},
          "execution_count": 39
        }
      ]
    },
    {
      "cell_type": "code",
      "metadata": {
        "colab": {
          "base_uri": "https://localhost:8080/"
        },
        "id": "nJxlRCjy0I2R",
        "outputId": "e6716591-2267-4fc0-da81-a46378f8b2ed"
      },
      "source": [
        "model.predict(x[-5:])"
      ],
      "execution_count": null,
      "outputs": [
        {
          "output_type": "execute_result",
          "data": {
            "text/plain": [
              "array([[26.833881],\n",
              "       [24.976582],\n",
              "       [31.016485],\n",
              "       [29.42258 ],\n",
              "       [24.877672]], dtype=float32)"
            ]
          },
          "metadata": {},
          "execution_count": 40
        }
      ]
    },
    {
      "cell_type": "code",
      "metadata": {
        "colab": {
          "base_uri": "https://localhost:8080/"
        },
        "id": "ukoRMSH50twy",
        "outputId": "86507680-60ff-4a07-a752-4f0648f4dcce"
      },
      "source": [
        "model.get_weights()"
      ],
      "execution_count": null,
      "outputs": [
        {
          "output_type": "execute_result",
          "data": {
            "text/plain": [
              "[array([[-9.10145342e-02],\n",
              "        [ 5.87902889e-02],\n",
              "        [-4.18759547e-02],\n",
              "        [ 2.97760129e+00],\n",
              "        [ 1.22751486e+00],\n",
              "        [ 5.02920628e+00],\n",
              "        [-4.22755443e-03],\n",
              "        [-9.85246599e-01],\n",
              "        [ 1.72963232e-01],\n",
              "        [-9.27913841e-03],\n",
              "        [-3.02776366e-01],\n",
              "        [ 1.54567575e-02],\n",
              "        [-4.87947226e-01]], dtype=float32), array([3.5904973], dtype=float32)]"
            ]
          },
          "metadata": {},
          "execution_count": 41
        }
      ]
    },
    {
      "cell_type": "code",
      "metadata": {
        "id": "F5WMZCyO0yBz"
      },
      "source": [
        "# medv = -9.10145342e-02 * x1 + 5.87902889e-02 * x2 + -4.18759547e-02 * x3 + 2.97760129e+00 * x4 + 1.22751486e+00 * x5 + 5.02920628e+00 * x6 + -4.22755443e-03 * x7 + -9.85246599e-01 * x8 + 1.72963232e-01 * x9 + -9.27913841e-03 * x10 + -3.02776366e-01 * x11 + 1.54567575e-02 * x12 + -4.87947226e-01 * x13 + 3.5904973"
      ],
      "execution_count": null,
      "outputs": []
    },
    {
      "cell_type": "markdown",
      "metadata": {
        "id": "LwF6dOY-eLZM"
      },
      "source": [
        "# 3. 아이리스 품종 분류 실습\n",
        "\n",
        "지금까지의 회귀 모델과 다른 분류 모델"
      ]
    },
    {
      "cell_type": "markdown",
      "metadata": {
        "id": "5-fBAwHoeQu7"
      },
      "source": [
        "## 3.1 데이터 준비\n",
        "독립변수와 종속변수를 분리해내는 것"
      ]
    },
    {
      "cell_type": "code",
      "metadata": {
        "colab": {
          "base_uri": "https://localhost:8080/",
          "height": 419
        },
        "id": "pGwXhjpKeU4f",
        "outputId": "05cde752-ff8b-4242-ca06-34829891a776"
      },
      "source": [
        "import pandas as pd\n",
        "# 데이터를 준비합니다. \n",
        "\n",
        "path = 'https://raw.githubusercontent.com/blackdew/ml-tensorflow/master/data/csv/iris.csv'\n",
        "data = pd.read_csv(path)\n",
        "data"
      ],
      "execution_count": null,
      "outputs": [
        {
          "output_type": "execute_result",
          "data": {
            "text/html": [
              "<div>\n",
              "<style scoped>\n",
              "    .dataframe tbody tr th:only-of-type {\n",
              "        vertical-align: middle;\n",
              "    }\n",
              "\n",
              "    .dataframe tbody tr th {\n",
              "        vertical-align: top;\n",
              "    }\n",
              "\n",
              "    .dataframe thead th {\n",
              "        text-align: right;\n",
              "    }\n",
              "</style>\n",
              "<table border=\"1\" class=\"dataframe\">\n",
              "  <thead>\n",
              "    <tr style=\"text-align: right;\">\n",
              "      <th></th>\n",
              "      <th>꽃잎길이</th>\n",
              "      <th>꽃잎폭</th>\n",
              "      <th>꽃받침길이</th>\n",
              "      <th>꽃받침폭</th>\n",
              "      <th>품종</th>\n",
              "    </tr>\n",
              "  </thead>\n",
              "  <tbody>\n",
              "    <tr>\n",
              "      <th>0</th>\n",
              "      <td>5.1</td>\n",
              "      <td>3.5</td>\n",
              "      <td>1.4</td>\n",
              "      <td>0.2</td>\n",
              "      <td>setosa</td>\n",
              "    </tr>\n",
              "    <tr>\n",
              "      <th>1</th>\n",
              "      <td>4.9</td>\n",
              "      <td>3.0</td>\n",
              "      <td>1.4</td>\n",
              "      <td>0.2</td>\n",
              "      <td>setosa</td>\n",
              "    </tr>\n",
              "    <tr>\n",
              "      <th>2</th>\n",
              "      <td>4.7</td>\n",
              "      <td>3.2</td>\n",
              "      <td>1.3</td>\n",
              "      <td>0.2</td>\n",
              "      <td>setosa</td>\n",
              "    </tr>\n",
              "    <tr>\n",
              "      <th>3</th>\n",
              "      <td>4.6</td>\n",
              "      <td>3.1</td>\n",
              "      <td>1.5</td>\n",
              "      <td>0.2</td>\n",
              "      <td>setosa</td>\n",
              "    </tr>\n",
              "    <tr>\n",
              "      <th>4</th>\n",
              "      <td>5.0</td>\n",
              "      <td>3.6</td>\n",
              "      <td>1.4</td>\n",
              "      <td>0.2</td>\n",
              "      <td>setosa</td>\n",
              "    </tr>\n",
              "    <tr>\n",
              "      <th>...</th>\n",
              "      <td>...</td>\n",
              "      <td>...</td>\n",
              "      <td>...</td>\n",
              "      <td>...</td>\n",
              "      <td>...</td>\n",
              "    </tr>\n",
              "    <tr>\n",
              "      <th>145</th>\n",
              "      <td>6.7</td>\n",
              "      <td>3.0</td>\n",
              "      <td>5.2</td>\n",
              "      <td>2.3</td>\n",
              "      <td>virginica</td>\n",
              "    </tr>\n",
              "    <tr>\n",
              "      <th>146</th>\n",
              "      <td>6.3</td>\n",
              "      <td>2.5</td>\n",
              "      <td>5.0</td>\n",
              "      <td>1.9</td>\n",
              "      <td>virginica</td>\n",
              "    </tr>\n",
              "    <tr>\n",
              "      <th>147</th>\n",
              "      <td>6.5</td>\n",
              "      <td>3.0</td>\n",
              "      <td>5.2</td>\n",
              "      <td>2.0</td>\n",
              "      <td>virginica</td>\n",
              "    </tr>\n",
              "    <tr>\n",
              "      <th>148</th>\n",
              "      <td>6.2</td>\n",
              "      <td>3.4</td>\n",
              "      <td>5.4</td>\n",
              "      <td>2.3</td>\n",
              "      <td>virginica</td>\n",
              "    </tr>\n",
              "    <tr>\n",
              "      <th>149</th>\n",
              "      <td>5.9</td>\n",
              "      <td>3.0</td>\n",
              "      <td>5.1</td>\n",
              "      <td>1.8</td>\n",
              "      <td>virginica</td>\n",
              "    </tr>\n",
              "  </tbody>\n",
              "</table>\n",
              "<p>150 rows × 5 columns</p>\n",
              "</div>"
            ],
            "text/plain": [
              "     꽃잎길이  꽃잎폭  꽃받침길이  꽃받침폭         품종\n",
              "0     5.1  3.5    1.4   0.2     setosa\n",
              "1     4.9  3.0    1.4   0.2     setosa\n",
              "2     4.7  3.2    1.3   0.2     setosa\n",
              "3     4.6  3.1    1.5   0.2     setosa\n",
              "4     5.0  3.6    1.4   0.2     setosa\n",
              "..    ...  ...    ...   ...        ...\n",
              "145   6.7  3.0    5.2   2.3  virginica\n",
              "146   6.3  2.5    5.0   1.9  virginica\n",
              "147   6.5  3.0    5.2   2.0  virginica\n",
              "148   6.2  3.4    5.4   2.3  virginica\n",
              "149   5.9  3.0    5.1   1.8  virginica\n",
              "\n",
              "[150 rows x 5 columns]"
            ]
          },
          "metadata": {},
          "execution_count": 65
        }
      ]
    },
    {
      "cell_type": "code",
      "metadata": {
        "colab": {
          "base_uri": "https://localhost:8080/"
        },
        "id": "IQWUMyApCo1S",
        "outputId": "3c91a22d-75d1-4691-bae8-6438f78908a7"
      },
      "source": [
        "print(data.shape)\n",
        "print(data.columns)\n",
        "print(data.info())"
      ],
      "execution_count": null,
      "outputs": [
        {
          "output_type": "stream",
          "text": [
            "(150, 5)\n",
            "Index(['꽃잎길이', '꽃잎폭', '꽃받침길이', '꽃받침폭', '품종'], dtype='object')\n",
            "<class 'pandas.core.frame.DataFrame'>\n",
            "RangeIndex: 150 entries, 0 to 149\n",
            "Data columns (total 5 columns):\n",
            " #   Column  Non-Null Count  Dtype  \n",
            "---  ------  --------------  -----  \n",
            " 0   꽃잎길이    150 non-null    float64\n",
            " 1   꽃잎폭     150 non-null    float64\n",
            " 2   꽃받침길이   150 non-null    float64\n",
            " 3   꽃받침폭    150 non-null    float64\n",
            " 4   품종      150 non-null    object \n",
            "dtypes: float64(4), object(1)\n",
            "memory usage: 6.0+ KB\n",
            "None\n"
          ],
          "name": "stdout"
        }
      ]
    },
    {
      "cell_type": "code",
      "metadata": {
        "colab": {
          "base_uri": "https://localhost:8080/",
          "height": 419
        },
        "id": "i2bBqmYc3pwP",
        "outputId": "c8870762-78b0-4dd2-db74-d108cebbb224"
      },
      "source": [
        "# 모든 범주형 변수를 원핫인코딩으로 수치형으로 변경해주기\n",
        "\n",
        "onehot = pd.get_dummies(data)\n",
        "onehot"
      ],
      "execution_count": null,
      "outputs": [
        {
          "output_type": "execute_result",
          "data": {
            "text/html": [
              "<div>\n",
              "<style scoped>\n",
              "    .dataframe tbody tr th:only-of-type {\n",
              "        vertical-align: middle;\n",
              "    }\n",
              "\n",
              "    .dataframe tbody tr th {\n",
              "        vertical-align: top;\n",
              "    }\n",
              "\n",
              "    .dataframe thead th {\n",
              "        text-align: right;\n",
              "    }\n",
              "</style>\n",
              "<table border=\"1\" class=\"dataframe\">\n",
              "  <thead>\n",
              "    <tr style=\"text-align: right;\">\n",
              "      <th></th>\n",
              "      <th>꽃잎길이</th>\n",
              "      <th>꽃잎폭</th>\n",
              "      <th>꽃받침길이</th>\n",
              "      <th>꽃받침폭</th>\n",
              "      <th>품종_setosa</th>\n",
              "      <th>품종_versicolor</th>\n",
              "      <th>품종_virginica</th>\n",
              "    </tr>\n",
              "  </thead>\n",
              "  <tbody>\n",
              "    <tr>\n",
              "      <th>0</th>\n",
              "      <td>5.1</td>\n",
              "      <td>3.5</td>\n",
              "      <td>1.4</td>\n",
              "      <td>0.2</td>\n",
              "      <td>1</td>\n",
              "      <td>0</td>\n",
              "      <td>0</td>\n",
              "    </tr>\n",
              "    <tr>\n",
              "      <th>1</th>\n",
              "      <td>4.9</td>\n",
              "      <td>3.0</td>\n",
              "      <td>1.4</td>\n",
              "      <td>0.2</td>\n",
              "      <td>1</td>\n",
              "      <td>0</td>\n",
              "      <td>0</td>\n",
              "    </tr>\n",
              "    <tr>\n",
              "      <th>2</th>\n",
              "      <td>4.7</td>\n",
              "      <td>3.2</td>\n",
              "      <td>1.3</td>\n",
              "      <td>0.2</td>\n",
              "      <td>1</td>\n",
              "      <td>0</td>\n",
              "      <td>0</td>\n",
              "    </tr>\n",
              "    <tr>\n",
              "      <th>3</th>\n",
              "      <td>4.6</td>\n",
              "      <td>3.1</td>\n",
              "      <td>1.5</td>\n",
              "      <td>0.2</td>\n",
              "      <td>1</td>\n",
              "      <td>0</td>\n",
              "      <td>0</td>\n",
              "    </tr>\n",
              "    <tr>\n",
              "      <th>4</th>\n",
              "      <td>5.0</td>\n",
              "      <td>3.6</td>\n",
              "      <td>1.4</td>\n",
              "      <td>0.2</td>\n",
              "      <td>1</td>\n",
              "      <td>0</td>\n",
              "      <td>0</td>\n",
              "    </tr>\n",
              "    <tr>\n",
              "      <th>...</th>\n",
              "      <td>...</td>\n",
              "      <td>...</td>\n",
              "      <td>...</td>\n",
              "      <td>...</td>\n",
              "      <td>...</td>\n",
              "      <td>...</td>\n",
              "      <td>...</td>\n",
              "    </tr>\n",
              "    <tr>\n",
              "      <th>145</th>\n",
              "      <td>6.7</td>\n",
              "      <td>3.0</td>\n",
              "      <td>5.2</td>\n",
              "      <td>2.3</td>\n",
              "      <td>0</td>\n",
              "      <td>0</td>\n",
              "      <td>1</td>\n",
              "    </tr>\n",
              "    <tr>\n",
              "      <th>146</th>\n",
              "      <td>6.3</td>\n",
              "      <td>2.5</td>\n",
              "      <td>5.0</td>\n",
              "      <td>1.9</td>\n",
              "      <td>0</td>\n",
              "      <td>0</td>\n",
              "      <td>1</td>\n",
              "    </tr>\n",
              "    <tr>\n",
              "      <th>147</th>\n",
              "      <td>6.5</td>\n",
              "      <td>3.0</td>\n",
              "      <td>5.2</td>\n",
              "      <td>2.0</td>\n",
              "      <td>0</td>\n",
              "      <td>0</td>\n",
              "      <td>1</td>\n",
              "    </tr>\n",
              "    <tr>\n",
              "      <th>148</th>\n",
              "      <td>6.2</td>\n",
              "      <td>3.4</td>\n",
              "      <td>5.4</td>\n",
              "      <td>2.3</td>\n",
              "      <td>0</td>\n",
              "      <td>0</td>\n",
              "      <td>1</td>\n",
              "    </tr>\n",
              "    <tr>\n",
              "      <th>149</th>\n",
              "      <td>5.9</td>\n",
              "      <td>3.0</td>\n",
              "      <td>5.1</td>\n",
              "      <td>1.8</td>\n",
              "      <td>0</td>\n",
              "      <td>0</td>\n",
              "      <td>1</td>\n",
              "    </tr>\n",
              "  </tbody>\n",
              "</table>\n",
              "<p>150 rows × 7 columns</p>\n",
              "</div>"
            ],
            "text/plain": [
              "     꽃잎길이  꽃잎폭  꽃받침길이  꽃받침폭  품종_setosa  품종_versicolor  품종_virginica\n",
              "0     5.1  3.5    1.4   0.2          1              0             0\n",
              "1     4.9  3.0    1.4   0.2          1              0             0\n",
              "2     4.7  3.2    1.3   0.2          1              0             0\n",
              "3     4.6  3.1    1.5   0.2          1              0             0\n",
              "4     5.0  3.6    1.4   0.2          1              0             0\n",
              "..    ...  ...    ...   ...        ...            ...           ...\n",
              "145   6.7  3.0    5.2   2.3          0              0             1\n",
              "146   6.3  2.5    5.0   1.9          0              0             1\n",
              "147   6.5  3.0    5.2   2.0          0              0             1\n",
              "148   6.2  3.4    5.4   2.3          0              0             1\n",
              "149   5.9  3.0    5.1   1.8          0              0             1\n",
              "\n",
              "[150 rows x 7 columns]"
            ]
          },
          "metadata": {},
          "execution_count": 62
        }
      ]
    },
    {
      "cell_type": "code",
      "metadata": {
        "colab": {
          "base_uri": "https://localhost:8080/"
        },
        "id": "_VwOfvw7ekxo",
        "outputId": "bab1b6b0-45d9-48ae-ceac-6a601ce71f34"
      },
      "source": [
        "# 독립변수와 종속변수 분리해주기\n",
        "\n",
        "x = onehot[['꽃잎길이', '꽃잎폭', '꽃받침길이', '꽃받침폭']]\n",
        "y = onehot[['품종_setosa', '품종_versicolor', '품종_virginica']]\n",
        "print(x.shape, y.shape)"
      ],
      "execution_count": null,
      "outputs": [
        {
          "output_type": "stream",
          "text": [
            "(150, 4) (150, 3)\n"
          ],
          "name": "stdout"
        }
      ]
    },
    {
      "cell_type": "code",
      "metadata": {
        "colab": {
          "base_uri": "https://localhost:8080/"
        },
        "id": "Lwi3VHz14vK4",
        "outputId": "0b1d27a8-8a05-48e6-ae68-2b5afcdf93cd"
      },
      "source": [
        "# 모델을 준비합니다. \n",
        "X = tf.keras.layers.Input(shape=[4])\n",
        "Y = tf.keras.layers.Dense(3, activation='softmax')(X)\n",
        "model = tf.keras.models.Model(X, Y)\n",
        "model.compile(loss='categorical_crossentropy', metrics='accuracy')\n",
        "\n",
        "model.summary()"
      ],
      "execution_count": null,
      "outputs": [
        {
          "output_type": "stream",
          "text": [
            "Model: \"model_5\"\n",
            "_________________________________________________________________\n",
            "Layer (type)                 Output Shape              Param #   \n",
            "=================================================================\n",
            "input_6 (InputLayer)         [(None, 4)]               0         \n",
            "_________________________________________________________________\n",
            "dense_5 (Dense)              (None, 3)                 15        \n",
            "=================================================================\n",
            "Total params: 15\n",
            "Trainable params: 15\n",
            "Non-trainable params: 0\n",
            "_________________________________________________________________\n"
          ],
          "name": "stdout"
        }
      ]
    },
    {
      "cell_type": "code",
      "metadata": {
        "colab": {
          "base_uri": "https://localhost:8080/"
        },
        "id": "nxDeloAYCrNM",
        "outputId": "b6fa6b01-dadc-4d63-889f-c71bdff48bdd"
      },
      "source": [
        "model.fit(x, y, epochs=1000, verbose=0)  # verbose가 없으면 한번 학습할 때마다 한 줄씩 출력하게됨\n",
        "model.fit(x, y, epochs=10) # 위에서 1000번 학습하는 건 안보고 싶지만 그 다음에 10번 학습하는 것만 출력해서 보는 것"
      ],
      "execution_count": null,
      "outputs": [
        {
          "output_type": "stream",
          "text": [
            "Epoch 1/10\n",
            "5/5 [==============================] - 0s 2ms/step - loss: 0.0689 - accuracy: 0.9800\n",
            "Epoch 2/10\n",
            "5/5 [==============================] - 0s 2ms/step - loss: 0.0690 - accuracy: 0.9800\n",
            "Epoch 3/10\n",
            "5/5 [==============================] - 0s 2ms/step - loss: 0.0689 - accuracy: 0.9800\n",
            "Epoch 4/10\n",
            "5/5 [==============================] - 0s 2ms/step - loss: 0.0693 - accuracy: 0.9800\n",
            "Epoch 5/10\n",
            "5/5 [==============================] - 0s 2ms/step - loss: 0.0688 - accuracy: 0.9800\n",
            "Epoch 6/10\n",
            "5/5 [==============================] - 0s 2ms/step - loss: 0.0690 - accuracy: 0.9800\n",
            "Epoch 7/10\n",
            "5/5 [==============================] - 0s 2ms/step - loss: 0.0689 - accuracy: 0.9800\n",
            "Epoch 8/10\n",
            "5/5 [==============================] - 0s 3ms/step - loss: 0.0687 - accuracy: 0.9800\n",
            "Epoch 9/10\n",
            "5/5 [==============================] - 0s 2ms/step - loss: 0.0688 - accuracy: 0.9800\n",
            "Epoch 10/10\n",
            "5/5 [==============================] - 0s 3ms/step - loss: 0.0687 - accuracy: 0.9800\n"
          ],
          "name": "stdout"
        },
        {
          "output_type": "execute_result",
          "data": {
            "text/plain": [
              "<keras.callbacks.History at 0x7f575454ded0>"
            ]
          },
          "metadata": {},
          "execution_count": 73
        }
      ]
    },
    {
      "cell_type": "code",
      "metadata": {
        "colab": {
          "base_uri": "https://localhost:8080/"
        },
        "id": "MRZZsg5eDPW9",
        "outputId": "85e808d9-1708-497b-f2f0-37a157e47148"
      },
      "source": [
        "model.predict(x[:5])"
      ],
      "execution_count": null,
      "outputs": [
        {
          "output_type": "execute_result",
          "data": {
            "text/plain": [
              "array([[9.99999881e-01, 1.56256590e-07, 4.03749702e-17],\n",
              "       [9.99996662e-01, 3.38422865e-06, 6.03811756e-15],\n",
              "       [9.99999285e-01, 7.20214643e-07, 7.44424488e-16],\n",
              "       [9.99993443e-01, 6.60864134e-06, 2.29886656e-14],\n",
              "       [9.99999881e-01, 1.05089555e-07, 2.46396144e-17]], dtype=float32)"
            ]
          },
          "metadata": {},
          "execution_count": 76
        }
      ]
    },
    {
      "cell_type": "code",
      "metadata": {
        "colab": {
          "base_uri": "https://localhost:8080/",
          "height": 204
        },
        "id": "J7SLbgZwDJR3",
        "outputId": "3916b092-dabb-4a4a-d235-6bdfbb45c803"
      },
      "source": [
        "y[-5:]"
      ],
      "execution_count": null,
      "outputs": [
        {
          "output_type": "execute_result",
          "data": {
            "text/html": [
              "<div>\n",
              "<style scoped>\n",
              "    .dataframe tbody tr th:only-of-type {\n",
              "        vertical-align: middle;\n",
              "    }\n",
              "\n",
              "    .dataframe tbody tr th {\n",
              "        vertical-align: top;\n",
              "    }\n",
              "\n",
              "    .dataframe thead th {\n",
              "        text-align: right;\n",
              "    }\n",
              "</style>\n",
              "<table border=\"1\" class=\"dataframe\">\n",
              "  <thead>\n",
              "    <tr style=\"text-align: right;\">\n",
              "      <th></th>\n",
              "      <th>품종_setosa</th>\n",
              "      <th>품종_versicolor</th>\n",
              "      <th>품종_virginica</th>\n",
              "    </tr>\n",
              "  </thead>\n",
              "  <tbody>\n",
              "    <tr>\n",
              "      <th>145</th>\n",
              "      <td>0</td>\n",
              "      <td>0</td>\n",
              "      <td>1</td>\n",
              "    </tr>\n",
              "    <tr>\n",
              "      <th>146</th>\n",
              "      <td>0</td>\n",
              "      <td>0</td>\n",
              "      <td>1</td>\n",
              "    </tr>\n",
              "    <tr>\n",
              "      <th>147</th>\n",
              "      <td>0</td>\n",
              "      <td>0</td>\n",
              "      <td>1</td>\n",
              "    </tr>\n",
              "    <tr>\n",
              "      <th>148</th>\n",
              "      <td>0</td>\n",
              "      <td>0</td>\n",
              "      <td>1</td>\n",
              "    </tr>\n",
              "    <tr>\n",
              "      <th>149</th>\n",
              "      <td>0</td>\n",
              "      <td>0</td>\n",
              "      <td>1</td>\n",
              "    </tr>\n",
              "  </tbody>\n",
              "</table>\n",
              "</div>"
            ],
            "text/plain": [
              "     품종_setosa  품종_versicolor  품종_virginica\n",
              "145          0              0             1\n",
              "146          0              0             1\n",
              "147          0              0             1\n",
              "148          0              0             1\n",
              "149          0              0             1"
            ]
          },
          "metadata": {},
          "execution_count": 79
        }
      ]
    },
    {
      "cell_type": "code",
      "metadata": {
        "colab": {
          "base_uri": "https://localhost:8080/"
        },
        "id": "8OArDo5tEOa4",
        "outputId": "12a1d1a6-be86-4bf8-c9e8-aef8fb03de5a"
      },
      "source": [
        "model.get_weights()"
      ],
      "execution_count": null,
      "outputs": [
        {
          "output_type": "execute_result",
          "data": {
            "text/plain": [
              "[array([[  2.143701  ,   0.58377826,  -1.4825209 ],\n",
              "        [  6.9116473 ,   1.384849  ,  -1.6531408 ],\n",
              "        [ -8.677012  ,  -1.1374265 ,   2.3782299 ],\n",
              "        [-10.401354  ,  -3.2837942 ,   3.708508  ]], dtype=float32),\n",
              " array([ 3.9953582,  3.64406  , -3.5817835], dtype=float32)]"
            ]
          },
          "metadata": {},
          "execution_count": 80
        }
      ]
    },
    {
      "cell_type": "markdown",
      "metadata": {
        "id": "q9lhW7iKbGmC"
      },
      "source": [
        "# 4. 진짜 인공신경망\n",
        "보스턴 집값 예측 모델로 만들기"
      ]
    },
    {
      "cell_type": "code",
      "metadata": {
        "colab": {
          "base_uri": "https://localhost:8080/"
        },
        "id": "ipCFKRV_Hybh",
        "outputId": "6ebcbe9c-9446-42f7-fdc2-d74924f7d9d3"
      },
      "source": [
        "import pandas as pd\n",
        "\n",
        "path = \"https://raw.githubusercontent.com/blackdew/ml-tensorflow/master/data/csv/boston.csv\"\n",
        "boston = pd.read_csv(path)\n",
        "\n",
        "x = boston[['crim', 'zn', 'indus', 'chas', 'nox', 'rm', 'age', 'dis', 'rad', 'tax',\n",
        "            'ptratio', 'b', 'lstat']]\n",
        "y = boston[['medv']]\n",
        "\n",
        "print(x.shape, y.shape)"
      ],
      "execution_count": null,
      "outputs": [
        {
          "output_type": "stream",
          "text": [
            "(506, 13) (506, 1)\n"
          ],
          "name": "stdout"
        }
      ]
    },
    {
      "cell_type": "code",
      "metadata": {
        "colab": {
          "base_uri": "https://localhost:8080/"
        },
        "id": "Q6ELxXYPIA2m",
        "outputId": "085831cd-e1db-4d5d-9d53-fbd06c2dd3ad"
      },
      "source": [
        "# H를 히든 레이어로 넣어줌. 그리고 Y에 X 대신 H값을 넣어줌\n",
        "\n",
        "X = tf.keras.layers.Input(shape=[13])\n",
        "H = tf.keras.layers.Dense(5)(X)  \n",
        "Y = tf.keras.layers.Dense(1)(H)\n",
        "model = tf.keras.models.Model(X, Y)\n",
        "model.compile(loss='mse')\n",
        "\n",
        "model.summary()"
      ],
      "execution_count": null,
      "outputs": [
        {
          "output_type": "stream",
          "text": [
            "Model: \"model_7\"\n",
            "_________________________________________________________________\n",
            "Layer (type)                 Output Shape              Param #   \n",
            "=================================================================\n",
            "input_11 (InputLayer)        [(None, 13)]              0         \n",
            "_________________________________________________________________\n",
            "dense_7 (Dense)              (None, 5)                 70        \n",
            "_________________________________________________________________\n",
            "dense_8 (Dense)              (None, 1)                 6         \n",
            "=================================================================\n",
            "Total params: 76\n",
            "Trainable params: 76\n",
            "Non-trainable params: 0\n",
            "_________________________________________________________________\n"
          ],
          "name": "stdout"
        }
      ]
    },
    {
      "cell_type": "code",
      "metadata": {
        "colab": {
          "base_uri": "https://localhost:8080/"
        },
        "id": "2OM3wTpKIFSD",
        "outputId": "b0187685-22b7-4234-a172-d621cea685c3"
      },
      "source": [
        "# 2000번 돌리니까 loss 값이 26까지 떨어짐\n",
        "\n",
        "model.fit(x, y, epochs=1000, verbose=0)\n",
        "model.fit(x, y, epochs=10)"
      ],
      "execution_count": null,
      "outputs": [
        {
          "output_type": "stream",
          "text": [
            "Epoch 1/10\n",
            "16/16 [==============================] - 0s 1ms/step - loss: 25.2623\n",
            "Epoch 2/10\n",
            "16/16 [==============================] - 0s 1ms/step - loss: 26.7107\n",
            "Epoch 3/10\n",
            "16/16 [==============================] - 0s 1ms/step - loss: 25.6053\n",
            "Epoch 4/10\n",
            "16/16 [==============================] - 0s 1ms/step - loss: 25.9584\n",
            "Epoch 5/10\n",
            "16/16 [==============================] - 0s 1ms/step - loss: 25.3978\n",
            "Epoch 6/10\n",
            "16/16 [==============================] - 0s 1ms/step - loss: 27.3780\n",
            "Epoch 7/10\n",
            "16/16 [==============================] - 0s 1ms/step - loss: 25.3586\n",
            "Epoch 8/10\n",
            "16/16 [==============================] - 0s 1ms/step - loss: 27.3952\n",
            "Epoch 9/10\n",
            "16/16 [==============================] - 0s 1ms/step - loss: 25.4271\n",
            "Epoch 10/10\n",
            "16/16 [==============================] - 0s 2ms/step - loss: 27.3253\n"
          ],
          "name": "stdout"
        },
        {
          "output_type": "execute_result",
          "data": {
            "text/plain": [
              "<keras.callbacks.History at 0x7f57521bf550>"
            ]
          },
          "metadata": {},
          "execution_count": 90
        }
      ]
    },
    {
      "cell_type": "code",
      "metadata": {
        "colab": {
          "base_uri": "https://localhost:8080/"
        },
        "id": "gtnLjWW3IMFc",
        "outputId": "52f29a72-a916-4821-d23e-8a6a69571b9c"
      },
      "source": [
        "# 맘에 안들어서 히든 레이어를 더 깊게 해줄거야\n",
        "\n",
        "X = tf.keras.layers.Input(shape=[13])\n",
        "H1 = tf.keras.layers.Dense(5)(X)\n",
        "H2 = tf.keras.layers.Dense(4)(H1)\n",
        "H3 = tf.keras.layers.Dense(2)(H2)  \n",
        "Y = tf.keras.layers.Dense(1)(H3)\n",
        "model = tf.keras.models.Model(X, Y)\n",
        "model.compile(loss='mse')\n",
        "\n",
        "model.summary()"
      ],
      "execution_count": null,
      "outputs": [
        {
          "output_type": "stream",
          "text": [
            "Model: \"model_11\"\n",
            "_________________________________________________________________\n",
            "Layer (type)                 Output Shape              Param #   \n",
            "=================================================================\n",
            "input_15 (InputLayer)        [(None, 13)]              0         \n",
            "_________________________________________________________________\n",
            "dense_21 (Dense)             (None, 5)                 70        \n",
            "_________________________________________________________________\n",
            "dense_22 (Dense)             (None, 4)                 24        \n",
            "_________________________________________________________________\n",
            "dense_23 (Dense)             (None, 2)                 10        \n",
            "_________________________________________________________________\n",
            "dense_24 (Dense)             (None, 1)                 3         \n",
            "=================================================================\n",
            "Total params: 107\n",
            "Trainable params: 107\n",
            "Non-trainable params: 0\n",
            "_________________________________________________________________\n"
          ],
          "name": "stdout"
        }
      ]
    },
    {
      "cell_type": "code",
      "metadata": {
        "colab": {
          "base_uri": "https://localhost:8080/"
        },
        "id": "En31KExLJzgN",
        "outputId": "9b582f19-5014-4db9-be5e-354557fc2522"
      },
      "source": [
        "# 별로 안낮아지네..?\n",
        "model.fit(x, y, epochs=1000, verbose=0)\n",
        "model.fit(x, y, epochs=10)"
      ],
      "execution_count": null,
      "outputs": [
        {
          "output_type": "stream",
          "text": [
            "Epoch 1/10\n",
            "16/16 [==============================] - 0s 2ms/step - loss: 13.7694\n",
            "Epoch 2/10\n",
            "16/16 [==============================] - 0s 2ms/step - loss: 14.0487\n",
            "Epoch 3/10\n",
            "16/16 [==============================] - 0s 2ms/step - loss: 15.2907\n",
            "Epoch 4/10\n",
            "16/16 [==============================] - 0s 2ms/step - loss: 14.0925\n",
            "Epoch 5/10\n",
            "16/16 [==============================] - 0s 2ms/step - loss: 14.0068\n",
            "Epoch 6/10\n",
            "16/16 [==============================] - 0s 2ms/step - loss: 14.1642\n",
            "Epoch 7/10\n",
            "16/16 [==============================] - 0s 2ms/step - loss: 13.9561\n",
            "Epoch 8/10\n",
            "16/16 [==============================] - 0s 2ms/step - loss: 14.7141\n",
            "Epoch 9/10\n",
            "16/16 [==============================] - 0s 2ms/step - loss: 13.7488\n",
            "Epoch 10/10\n",
            "16/16 [==============================] - 0s 2ms/step - loss: 13.9495\n"
          ],
          "name": "stdout"
        },
        {
          "output_type": "execute_result",
          "data": {
            "text/plain": [
              "<keras.callbacks.History at 0x7f80360c6cd0>"
            ]
          },
          "metadata": {},
          "execution_count": 9
        }
      ]
    },
    {
      "cell_type": "markdown",
      "metadata": {
        "id": "9vghEy7JzjV6"
      },
      "source": [
        "# 4. 텐서플로우의 이해"
      ]
    },
    {
      "cell_type": "markdown",
      "metadata": {
        "id": "Iyyziysgzsk_"
      },
      "source": [
        "## 4.1 모델을 구성하는 여러가지 방법\n",
        "1. Functional vs Sequential\n",
        "2. parameter optimizer\n",
        "3. activation layer 사용하는 것\n",
        "4. layers, activations, optimzers, losses"
      ]
    },
    {
      "cell_type": "code",
      "metadata": {
        "id": "-eR1U993J1qx",
        "colab": {
          "base_uri": "https://localhost:8080/"
        },
        "outputId": "45a43d68-13b7-4f28-989d-9a453ac61fa2"
      },
      "source": [
        "import pandas as pd\n",
        "\n",
        "# 데이터를 준비합니다. \n",
        "path = \"https://raw.githubusercontent.com/blackdew/ml-tensorflow/master/data/csv/boston.csv\"\n",
        "data = pd.read_csv(path)\n",
        "print(data.shape)\n",
        "data.columns\n",
        "\n",
        "x = data[['crim', 'zn', 'indus', 'chas', 'nox', 'rm', 'age', 'dis', 'rad', 'tax', 'ptratio', 'b', 'lstat']]\n",
        "y = data[['medv']]\n",
        "print(x.shape, y.shape)"
      ],
      "execution_count": null,
      "outputs": [
        {
          "output_type": "stream",
          "text": [
            "(506, 14)\n",
            "(506, 13) (506, 1)\n"
          ],
          "name": "stdout"
        }
      ]
    },
    {
      "cell_type": "code",
      "metadata": {
        "colab": {
          "base_uri": "https://localhost:8080/",
          "height": 758
        },
        "id": "TREYRitL0CbE",
        "outputId": "412e4e66-949a-45dd-8a71-e9fae3fde0a7"
      },
      "source": [
        "import tensorflow as tf\n",
        "# 모델을 준비합니다. \n",
        "\n",
        "# functional\n",
        "X = tf.keras.layers.Input(shape=[13])\n",
        "H = tf.keras.layers.Dense(5)(X)\n",
        "H = tf.keras.layers.Activation(tf.keras.activations.swish)(H)\n",
        "H = tf.keras.layers.Dense(3)(H)\n",
        "H = tf.keras.layers.Activation('swish')(H)\n",
        "H = tf.keras.layers.Dense(3)(H)\n",
        "H = tf.keras.layers.Activation('swish')(H)\n",
        "Y = tf.keras.layers.Dense(1)(H)\n",
        "\n",
        "model = tf.keras.models.Model(X, Y)\n",
        "model.compile(optimizer=tf.keras.optimizers.RMSprop(), loss=tf.keras.losses.mse)\n",
        "\n",
        "tf.keras.utils.plot_model(model)"
      ],
      "execution_count": null,
      "outputs": [
        {
          "output_type": "execute_result",
          "data": {
            "image/png": "[encoded data removed]",
            "text/plain": [
              "<IPython.core.display.Image object>"
            ]
          },
          "metadata": {},
          "execution_count": 14
        }
      ]
    },
    {
      "cell_type": "code",
      "metadata": {
        "colab": {
          "base_uri": "https://localhost:8080/"
        },
        "id": "qw6dD-eK0F0t",
        "outputId": "e10f5683-65ac-4965-f836-145e8d92420e"
      },
      "source": [
        "model.fit(x, y, epochs=10, batch_size=128, shuffle=True)"
      ],
      "execution_count": null,
      "outputs": [
        {
          "output_type": "stream",
          "text": [
            "Epoch 1/10\n",
            "4/4 [==============================] - 1s 4ms/step - loss: 379.5707\n",
            "Epoch 2/10\n",
            "4/4 [==============================] - 0s 4ms/step - loss: 308.1096\n",
            "Epoch 3/10\n",
            "4/4 [==============================] - 0s 3ms/step - loss: 263.9320\n",
            "Epoch 4/10\n",
            "4/4 [==============================] - 0s 4ms/step - loss: 228.1736\n",
            "Epoch 5/10\n",
            "4/4 [==============================] - 0s 3ms/step - loss: 198.2362\n",
            "Epoch 6/10\n",
            "4/4 [==============================] - 0s 3ms/step - loss: 174.4886\n",
            "Epoch 7/10\n",
            "4/4 [==============================] - 0s 3ms/step - loss: 156.2456\n",
            "Epoch 8/10\n",
            "4/4 [==============================] - 0s 4ms/step - loss: 142.7551\n",
            "Epoch 9/10\n",
            "4/4 [==============================] - 0s 4ms/step - loss: 132.6341\n",
            "Epoch 10/10\n",
            "4/4 [==============================] - 0s 3ms/step - loss: 124.9249\n"
          ],
          "name": "stdout"
        },
        {
          "output_type": "execute_result",
          "data": {
            "text/plain": [
              "<keras.callbacks.History at 0x7f8035fbcc10>"
            ]
          },
          "metadata": {},
          "execution_count": 15
        }
      ]
    },
    {
      "cell_type": "code",
      "metadata": {
        "colab": {
          "base_uri": "https://localhost:8080/",
          "height": 564
        },
        "id": "oHTHPyEN0JrT",
        "outputId": "10a70b2e-d74c-4ab2-b1ca-1fbb6a5e9547"
      },
      "source": [
        "import tensorflow as tf\n",
        "# 모델을 준비합니다. \n",
        "\n",
        "# functional\n",
        "X = tf.keras.layers.Input(shape=[13])\n",
        "H1 = tf.keras.layers.Dense(5, activation='swish')(X)\n",
        "H2 = tf.keras.layers.Dense(5, activation='swish')(X)\n",
        "H3 = tf.keras.layers.Dense(5, activation='swish')(H2)\n",
        "H4 = tf.keras.layers.Add()([H1, H3])\n",
        "H = tf.keras.layers.Dense(3, activation='swish')(H4)\n",
        "Y = tf.keras.layers.Dense(1)(H)\n",
        "\n",
        "model = tf.keras.models.Model(X, Y)\n",
        "model.compile(loss='mse')\n",
        "\n",
        "tf.keras.utils.plot_model(model)"
      ],
      "execution_count": null,
      "outputs": [
        {
          "output_type": "execute_result",
          "data": {
            "image/png": "[encoded data removed]",
            "text/plain": [
              "<IPython.core.display.Image object>"
            ]
          },
          "metadata": {},
          "execution_count": 16
        }
      ]
    },
    {
      "cell_type": "code",
      "metadata": {
        "colab": {
          "base_uri": "https://localhost:8080/",
          "height": 466
        },
        "id": "W08GxoKH0Lrk",
        "outputId": "1dfbd0f9-c3c3-476e-c341-82b62abcbbfc"
      },
      "source": [
        "# sequential\n",
        "model_seq = tf.keras.models.Sequential()\n",
        "model_seq.add(tf.keras.layers.Input(shape=[13]))\n",
        "model_seq.add(tf.keras.layers.Dense(5, activation='swish'))\n",
        "model_seq.add(tf.keras.layers.Dense(3, activation='swish'))\n",
        "model_seq.add(tf.keras.layers.Dense(3, activation='swish'))\n",
        "model_seq.add(tf.keras.layers.Dense(1))\n",
        "model_seq.compile(loss='mse')\n",
        "\n",
        "tf.keras.utils.plot_model(model_seq)"
      ],
      "execution_count": null,
      "outputs": [
        {
          "output_type": "execute_result",
          "data": {
            "image/png": "[encoded data removed]",
            "text/plain": [
              "<IPython.core.display.Image object>"
            ]
          },
          "metadata": {},
          "execution_count": 17
        }
      ]
    },
    {
      "cell_type": "code",
      "metadata": {
        "colab": {
          "base_uri": "https://localhost:8080/"
        },
        "id": "Z45i-Ba10Oe_",
        "outputId": "61661881-f05f-4c35-9163-952ae2e844c9"
      },
      "source": [
        "model_seq.fit(x, y, epochs=100)"
      ],
      "execution_count": null,
      "outputs": [
        {
          "output_type": "stream",
          "text": [
            "Epoch 1/100\n",
            "16/16 [==============================] - 0s 2ms/step - loss: 30.1195\n",
            "Epoch 2/100\n",
            "16/16 [==============================] - 0s 2ms/step - loss: 30.5391\n",
            "Epoch 3/100\n",
            "16/16 [==============================] - 0s 2ms/step - loss: 30.7189\n",
            "Epoch 4/100\n",
            "16/16 [==============================] - 0s 2ms/step - loss: 29.9748\n",
            "Epoch 5/100\n",
            "16/16 [==============================] - 0s 2ms/step - loss: 29.4115\n",
            "Epoch 6/100\n",
            "16/16 [==============================] - 0s 3ms/step - loss: 30.9536\n",
            "Epoch 7/100\n",
            "16/16 [==============================] - 0s 2ms/step - loss: 29.0164\n",
            "Epoch 8/100\n",
            "16/16 [==============================] - 0s 2ms/step - loss: 29.8245\n",
            "Epoch 9/100\n",
            "16/16 [==============================] - 0s 2ms/step - loss: 29.9776\n",
            "Epoch 10/100\n",
            "16/16 [==============================] - 0s 2ms/step - loss: 29.3812\n",
            "Epoch 11/100\n",
            "16/16 [==============================] - 0s 2ms/step - loss: 30.1335\n",
            "Epoch 12/100\n",
            "16/16 [==============================] - 0s 2ms/step - loss: 29.5614\n",
            "Epoch 13/100\n",
            "16/16 [==============================] - 0s 2ms/step - loss: 30.3142\n",
            "Epoch 14/100\n",
            "16/16 [==============================] - 0s 2ms/step - loss: 29.9677\n",
            "Epoch 15/100\n",
            "16/16 [==============================] - 0s 2ms/step - loss: 30.5149\n",
            "Epoch 16/100\n",
            "16/16 [==============================] - 0s 2ms/step - loss: 29.6676\n",
            "Epoch 17/100\n",
            "16/16 [==============================] - 0s 2ms/step - loss: 30.4618\n",
            "Epoch 18/100\n",
            "16/16 [==============================] - 0s 2ms/step - loss: 31.2245\n",
            "Epoch 19/100\n",
            "16/16 [==============================] - 0s 2ms/step - loss: 29.1792\n",
            "Epoch 20/100\n",
            "16/16 [==============================] - 0s 2ms/step - loss: 31.0298\n",
            "Epoch 21/100\n",
            "16/16 [==============================] - 0s 2ms/step - loss: 29.0397\n",
            "Epoch 22/100\n",
            "16/16 [==============================] - 0s 2ms/step - loss: 30.0634\n",
            "Epoch 23/100\n",
            "16/16 [==============================] - 0s 1ms/step - loss: 29.9214\n",
            "Epoch 24/100\n",
            "16/16 [==============================] - 0s 2ms/step - loss: 31.0421\n",
            "Epoch 25/100\n",
            "16/16 [==============================] - 0s 2ms/step - loss: 29.9100\n",
            "Epoch 26/100\n",
            "16/16 [==============================] - 0s 2ms/step - loss: 29.3612\n",
            "Epoch 27/100\n",
            "16/16 [==============================] - 0s 2ms/step - loss: 29.4394\n",
            "Epoch 28/100\n",
            "16/16 [==============================] - 0s 2ms/step - loss: 29.9932\n",
            "Epoch 29/100\n",
            "16/16 [==============================] - 0s 2ms/step - loss: 30.0427\n",
            "Epoch 30/100\n",
            "16/16 [==============================] - 0s 2ms/step - loss: 30.7835\n",
            "Epoch 31/100\n",
            "16/16 [==============================] - 0s 3ms/step - loss: 30.0998\n",
            "Epoch 32/100\n",
            "16/16 [==============================] - 0s 2ms/step - loss: 28.9370\n",
            "Epoch 33/100\n",
            "16/16 [==============================] - 0s 2ms/step - loss: 30.3735\n",
            "Epoch 34/100\n",
            "16/16 [==============================] - 0s 2ms/step - loss: 29.0512\n",
            "Epoch 35/100\n",
            "16/16 [==============================] - 0s 2ms/step - loss: 30.5418\n",
            "Epoch 36/100\n",
            "16/16 [==============================] - 0s 2ms/step - loss: 30.0553\n",
            "Epoch 37/100\n",
            "16/16 [==============================] - 0s 3ms/step - loss: 30.0748\n",
            "Epoch 38/100\n",
            "16/16 [==============================] - 0s 2ms/step - loss: 28.7438\n",
            "Epoch 39/100\n",
            "16/16 [==============================] - 0s 2ms/step - loss: 29.8484\n",
            "Epoch 40/100\n",
            "16/16 [==============================] - 0s 2ms/step - loss: 29.9577\n",
            "Epoch 41/100\n",
            "16/16 [==============================] - 0s 2ms/step - loss: 28.8461\n",
            "Epoch 42/100\n",
            "16/16 [==============================] - 0s 2ms/step - loss: 28.2310\n",
            "Epoch 43/100\n",
            "16/16 [==============================] - 0s 2ms/step - loss: 29.2850\n",
            "Epoch 44/100\n",
            "16/16 [==============================] - 0s 2ms/step - loss: 31.4637\n",
            "Epoch 45/100\n",
            "16/16 [==============================] - 0s 2ms/step - loss: 29.2604\n",
            "Epoch 46/100\n",
            "16/16 [==============================] - 0s 2ms/step - loss: 30.3967\n",
            "Epoch 47/100\n",
            "16/16 [==============================] - 0s 2ms/step - loss: 29.6381\n",
            "Epoch 48/100\n",
            "16/16 [==============================] - 0s 2ms/step - loss: 29.9500\n",
            "Epoch 49/100\n",
            "16/16 [==============================] - 0s 2ms/step - loss: 30.0663\n",
            "Epoch 50/100\n",
            "16/16 [==============================] - 0s 2ms/step - loss: 27.9715\n",
            "Epoch 51/100\n",
            "16/16 [==============================] - 0s 2ms/step - loss: 30.1346\n",
            "Epoch 52/100\n",
            "16/16 [==============================] - 0s 2ms/step - loss: 29.6456\n",
            "Epoch 53/100\n",
            "16/16 [==============================] - 0s 2ms/step - loss: 28.6889\n",
            "Epoch 54/100\n",
            "16/16 [==============================] - 0s 2ms/step - loss: 30.7450\n",
            "Epoch 55/100\n",
            "16/16 [==============================] - 0s 2ms/step - loss: 29.3568\n",
            "Epoch 56/100\n",
            "16/16 [==============================] - 0s 2ms/step - loss: 30.9030\n",
            "Epoch 57/100\n",
            "16/16 [==============================] - 0s 2ms/step - loss: 29.2767\n",
            "Epoch 58/100\n",
            "16/16 [==============================] - 0s 2ms/step - loss: 29.9613\n",
            "Epoch 59/100\n",
            "16/16 [==============================] - 0s 2ms/step - loss: 30.3776\n",
            "Epoch 60/100\n",
            "16/16 [==============================] - 0s 2ms/step - loss: 30.0534\n",
            "Epoch 61/100\n",
            "16/16 [==============================] - 0s 2ms/step - loss: 29.5587\n",
            "Epoch 62/100\n",
            "16/16 [==============================] - 0s 2ms/step - loss: 29.8156\n",
            "Epoch 63/100\n",
            "16/16 [==============================] - 0s 2ms/step - loss: 28.7008\n",
            "Epoch 64/100\n",
            "16/16 [==============================] - 0s 2ms/step - loss: 29.1514\n",
            "Epoch 65/100\n",
            "16/16 [==============================] - 0s 2ms/step - loss: 29.8407\n",
            "Epoch 66/100\n",
            "16/16 [==============================] - 0s 2ms/step - loss: 28.6138\n",
            "Epoch 67/100\n",
            "16/16 [==============================] - 0s 2ms/step - loss: 30.2486\n",
            "Epoch 68/100\n",
            "16/16 [==============================] - 0s 2ms/step - loss: 28.6389\n",
            "Epoch 69/100\n",
            "16/16 [==============================] - 0s 2ms/step - loss: 28.5811\n",
            "Epoch 70/100\n",
            "16/16 [==============================] - 0s 2ms/step - loss: 30.6261\n",
            "Epoch 71/100\n",
            "16/16 [==============================] - 0s 3ms/step - loss: 28.7436\n",
            "Epoch 72/100\n",
            "16/16 [==============================] - 0s 2ms/step - loss: 29.4677\n",
            "Epoch 73/100\n",
            "16/16 [==============================] - 0s 2ms/step - loss: 30.6556\n",
            "Epoch 74/100\n",
            "16/16 [==============================] - 0s 2ms/step - loss: 29.4465\n",
            "Epoch 75/100\n",
            "16/16 [==============================] - 0s 2ms/step - loss: 29.4988\n",
            "Epoch 76/100\n",
            "16/16 [==============================] - 0s 2ms/step - loss: 29.1716\n",
            "Epoch 77/100\n",
            "16/16 [==============================] - 0s 2ms/step - loss: 29.0357\n",
            "Epoch 78/100\n",
            "16/16 [==============================] - 0s 2ms/step - loss: 29.6809\n",
            "Epoch 79/100\n",
            "16/16 [==============================] - 0s 2ms/step - loss: 29.1433\n",
            "Epoch 80/100\n",
            "16/16 [==============================] - 0s 2ms/step - loss: 28.9353\n",
            "Epoch 81/100\n",
            "16/16 [==============================] - 0s 2ms/step - loss: 27.9920\n",
            "Epoch 82/100\n",
            "16/16 [==============================] - 0s 2ms/step - loss: 29.3258\n",
            "Epoch 83/100\n",
            "16/16 [==============================] - 0s 2ms/step - loss: 29.6800\n",
            "Epoch 84/100\n",
            "16/16 [==============================] - 0s 2ms/step - loss: 28.5339\n",
            "Epoch 85/100\n",
            "16/16 [==============================] - 0s 2ms/step - loss: 28.6997\n",
            "Epoch 86/100\n",
            "16/16 [==============================] - 0s 2ms/step - loss: 29.1987\n",
            "Epoch 87/100\n",
            "16/16 [==============================] - 0s 2ms/step - loss: 30.1708\n",
            "Epoch 88/100\n",
            "16/16 [==============================] - 0s 2ms/step - loss: 28.3122\n",
            "Epoch 89/100\n",
            "16/16 [==============================] - 0s 2ms/step - loss: 29.1804\n",
            "Epoch 90/100\n",
            "16/16 [==============================] - 0s 2ms/step - loss: 30.2826\n",
            "Epoch 91/100\n",
            "16/16 [==============================] - 0s 2ms/step - loss: 28.5741\n",
            "Epoch 92/100\n",
            "16/16 [==============================] - 0s 2ms/step - loss: 28.5197\n",
            "Epoch 93/100\n",
            "16/16 [==============================] - 0s 2ms/step - loss: 29.2497\n",
            "Epoch 94/100\n",
            "16/16 [==============================] - 0s 2ms/step - loss: 29.9340\n",
            "Epoch 95/100\n",
            "16/16 [==============================] - 0s 2ms/step - loss: 29.9006\n",
            "Epoch 96/100\n",
            "16/16 [==============================] - 0s 2ms/step - loss: 30.7319\n",
            "Epoch 97/100\n",
            "16/16 [==============================] - 0s 2ms/step - loss: 28.2554\n",
            "Epoch 98/100\n",
            "16/16 [==============================] - 0s 2ms/step - loss: 29.9954\n",
            "Epoch 99/100\n",
            "16/16 [==============================] - 0s 2ms/step - loss: 28.1371\n",
            "Epoch 100/100\n",
            "16/16 [==============================] - 0s 2ms/step - loss: 29.7736\n"
          ],
          "name": "stdout"
        },
        {
          "output_type": "execute_result",
          "data": {
            "text/plain": [
              "<keras.callbacks.History at 0x7f8035de58d0>"
            ]
          },
          "metadata": {},
          "execution_count": 20
        }
      ]
    },
    {
      "cell_type": "markdown",
      "metadata": {
        "id": "i0LPU0zyyU_I"
      },
      "source": [
        "## 4.2 Train / Test / Validaion\n",
        "- Train: 학습\n",
        "- Test: 수능시험\n",
        "- Validation: 모의고사"
      ]
    },
    {
      "cell_type": "code",
      "metadata": {
        "colab": {
          "base_uri": "https://localhost:8080/"
        },
        "id": "cjM2Wm_OyVaD",
        "outputId": "52e44129-073f-4918-aa9b-caa6775d3071"
      },
      "source": [
        "import pandas as pd\n",
        "\n",
        "# 데이터를 준비합니다. \n",
        "path = \"https://raw.githubusercontent.com/blackdew/ml-tensorflow/master/data/csv/boston.csv\"\n",
        "data = pd.read_csv(path)\n",
        "print(data.shape)\n",
        "data.columns\n",
        "\n",
        "num = int(506 * 0.7)\n",
        "print(num)\n",
        "\n",
        "train, test = data[:num], data[num:]\n",
        "print(train.shape, test.shape)"
      ],
      "execution_count": null,
      "outputs": [
        {
          "output_type": "stream",
          "text": [
            "(506, 14)\n",
            "354\n",
            "(354, 14) (152, 14)\n"
          ],
          "name": "stdout"
        }
      ]
    },
    {
      "cell_type": "code",
      "metadata": {
        "colab": {
          "base_uri": "https://localhost:8080/"
        },
        "id": "49TZfqQHyXfw",
        "outputId": "5e234ccd-ec82-4a20-f8f2-0b953103e3c3"
      },
      "source": [
        "x_train = train[['crim', 'zn', 'indus', 'chas', 'nox', 'rm', 'age', 'dis', 'rad', 'tax', 'ptratio', 'b', 'lstat']]\n",
        "y_train = train[['medv']]\n",
        "print(x_train.shape, y_train.shape)\n",
        "\n",
        "x_test = test[['crim', 'zn', 'indus', 'chas', 'nox', 'rm', 'age', 'dis', 'rad', 'tax', 'ptratio', 'b', 'lstat']]\n",
        "y_test = test[['medv']]\n",
        "print(x_test.shape, y_test.shape)"
      ],
      "execution_count": null,
      "outputs": [
        {
          "output_type": "stream",
          "text": [
            "(354, 13) (354, 1)\n",
            "(152, 13) (152, 1)\n"
          ],
          "name": "stdout"
        }
      ]
    },
    {
      "cell_type": "code",
      "metadata": {
        "colab": {
          "base_uri": "https://localhost:8080/",
          "height": 758
        },
        "id": "YJiHv_fRyZx0",
        "outputId": "d1e3bac8-ac13-4541-f4e0-0b0775211a53"
      },
      "source": [
        "import tensorflow as tf\n",
        "# 모델을 준비합니다. \n",
        "\n",
        "# functional\n",
        "X = tf.keras.layers.Input(shape=[13])\n",
        "H = tf.keras.layers.Dense(5)(X)\n",
        "H = tf.keras.layers.Activation('swish')(H)\n",
        "H = tf.keras.layers.Dense(3)(H)\n",
        "H = tf.keras.layers.Activation('swish')(H)\n",
        "H = tf.keras.layers.Dense(3)(H)\n",
        "H = tf.keras.layers.Activation('swish')(H)\n",
        "Y = tf.keras.layers.Dense(1)(H)\n",
        "\n",
        "model = tf.keras.models.Model(X, Y)\n",
        "model.compile(optimizer='rmsprop', loss='mse')\n",
        "\n",
        "tf.keras.utils.plot_model(model)"
      ],
      "execution_count": null,
      "outputs": [
        {
          "output_type": "execute_result",
          "data": {
            "image/png": "[encoded data removed]",
            "text/plain": [
              "<IPython.core.display.Image object>"
            ]
          },
          "metadata": {},
          "execution_count": 5
        }
      ]
    },
    {
      "cell_type": "code",
      "metadata": {
        "colab": {
          "base_uri": "https://localhost:8080/"
        },
        "id": "tn4244yIy7jB",
        "outputId": "e61dbbc5-fc20-49f2-f540-444f8b1f3a56"
      },
      "source": [
        "model.fit(x_train, y_train, epochs=500, batch_size=128, shuffle=True, validation_split=0.2)"
      ],
      "execution_count": null,
      "outputs": [
        {
          "output_type": "stream",
          "text": [
            "Epoch 1/500\n",
            "3/3 [==============================] - 0s 94ms/step - loss: 23.0431 - val_loss: 22.6499\n",
            "Epoch 2/500\n",
            "3/3 [==============================] - 0s 13ms/step - loss: 21.5743 - val_loss: 21.7946\n",
            "Epoch 3/500\n",
            "3/3 [==============================] - 0s 13ms/step - loss: 21.5645 - val_loss: 19.6764\n",
            "Epoch 4/500\n",
            "3/3 [==============================] - 0s 15ms/step - loss: 21.7677 - val_loss: 18.2998\n",
            "Epoch 5/500\n",
            "3/3 [==============================] - 0s 13ms/step - loss: 22.4758 - val_loss: 18.5489\n",
            "Epoch 6/500\n",
            "3/3 [==============================] - 0s 16ms/step - loss: 21.8181 - val_loss: 19.4284\n",
            "Epoch 7/500\n",
            "3/3 [==============================] - 0s 15ms/step - loss: 21.6810 - val_loss: 34.8777\n",
            "Epoch 8/500\n",
            "3/3 [==============================] - 0s 14ms/step - loss: 22.3286 - val_loss: 28.1830\n",
            "Epoch 9/500\n",
            "3/3 [==============================] - 0s 18ms/step - loss: 21.6298 - val_loss: 28.1714\n",
            "Epoch 10/500\n",
            "3/3 [==============================] - 0s 16ms/step - loss: 21.5304 - val_loss: 31.5930\n",
            "Epoch 11/500\n",
            "3/3 [==============================] - 0s 15ms/step - loss: 23.5407 - val_loss: 24.7002\n",
            "Epoch 12/500\n",
            "3/3 [==============================] - 0s 17ms/step - loss: 21.9296 - val_loss: 20.1051\n",
            "Epoch 13/500\n",
            "3/3 [==============================] - 0s 17ms/step - loss: 21.7395 - val_loss: 16.6941\n",
            "Epoch 14/500\n",
            "3/3 [==============================] - 0s 17ms/step - loss: 22.5274 - val_loss: 24.7427\n",
            "Epoch 15/500\n",
            "3/3 [==============================] - 0s 28ms/step - loss: 21.2484 - val_loss: 18.2331\n",
            "Epoch 16/500\n",
            "3/3 [==============================] - 0s 18ms/step - loss: 22.5825 - val_loss: 29.4192\n",
            "Epoch 17/500\n",
            "3/3 [==============================] - 0s 14ms/step - loss: 21.5671 - val_loss: 21.8756\n",
            "Epoch 18/500\n",
            "3/3 [==============================] - 0s 14ms/step - loss: 22.2520 - val_loss: 29.7419\n",
            "Epoch 19/500\n",
            "3/3 [==============================] - 0s 15ms/step - loss: 21.6080 - val_loss: 26.0522\n",
            "Epoch 20/500\n",
            "3/3 [==============================] - 0s 22ms/step - loss: 21.2691 - val_loss: 26.9778\n",
            "Epoch 21/500\n",
            "3/3 [==============================] - 0s 13ms/step - loss: 21.6101 - val_loss: 26.2372\n",
            "Epoch 22/500\n",
            "3/3 [==============================] - 0s 16ms/step - loss: 21.2545 - val_loss: 31.4837\n",
            "Epoch 23/500\n",
            "3/3 [==============================] - 0s 17ms/step - loss: 21.6929 - val_loss: 24.3013\n",
            "Epoch 24/500\n",
            "3/3 [==============================] - 0s 16ms/step - loss: 21.2112 - val_loss: 27.7242\n",
            "Epoch 25/500\n",
            "3/3 [==============================] - 0s 16ms/step - loss: 21.1724 - val_loss: 25.9776\n",
            "Epoch 26/500\n",
            "3/3 [==============================] - 0s 14ms/step - loss: 21.1878 - val_loss: 25.4168\n",
            "Epoch 27/500\n",
            "3/3 [==============================] - 0s 15ms/step - loss: 21.5886 - val_loss: 17.0029\n",
            "Epoch 28/500\n",
            "3/3 [==============================] - 0s 14ms/step - loss: 21.9623 - val_loss: 36.2638\n",
            "Epoch 29/500\n",
            "3/3 [==============================] - 0s 16ms/step - loss: 21.9883 - val_loss: 23.9882\n",
            "Epoch 30/500\n",
            "3/3 [==============================] - 0s 18ms/step - loss: 21.1528 - val_loss: 30.6686\n",
            "Epoch 31/500\n",
            "3/3 [==============================] - 0s 16ms/step - loss: 21.5363 - val_loss: 34.3492\n",
            "Epoch 32/500\n",
            "3/3 [==============================] - 0s 16ms/step - loss: 22.7676 - val_loss: 25.0615\n",
            "Epoch 33/500\n",
            "3/3 [==============================] - 0s 14ms/step - loss: 21.0405 - val_loss: 21.7879\n",
            "Epoch 34/500\n",
            "3/3 [==============================] - 0s 13ms/step - loss: 21.3180 - val_loss: 20.7521\n",
            "Epoch 35/500\n",
            "3/3 [==============================] - 0s 17ms/step - loss: 20.9671 - val_loss: 26.9389\n",
            "Epoch 36/500\n",
            "3/3 [==============================] - 0s 15ms/step - loss: 21.2309 - val_loss: 27.0539\n",
            "Epoch 37/500\n",
            "3/3 [==============================] - 0s 14ms/step - loss: 21.1785 - val_loss: 20.4564\n",
            "Epoch 38/500\n",
            "3/3 [==============================] - 0s 15ms/step - loss: 22.3437 - val_loss: 32.2860\n",
            "Epoch 39/500\n",
            "3/3 [==============================] - 0s 15ms/step - loss: 21.4436 - val_loss: 20.6791\n",
            "Epoch 40/500\n",
            "3/3 [==============================] - 0s 13ms/step - loss: 20.9969 - val_loss: 21.9133\n",
            "Epoch 41/500\n",
            "3/3 [==============================] - 0s 15ms/step - loss: 20.9580 - val_loss: 18.9996\n",
            "Epoch 42/500\n",
            "3/3 [==============================] - 0s 15ms/step - loss: 21.8316 - val_loss: 21.2303\n",
            "Epoch 43/500\n",
            "3/3 [==============================] - 0s 16ms/step - loss: 21.0039 - val_loss: 21.7545\n",
            "Epoch 44/500\n",
            "3/3 [==============================] - 0s 17ms/step - loss: 20.8829 - val_loss: 19.1311\n",
            "Epoch 45/500\n",
            "3/3 [==============================] - 0s 16ms/step - loss: 20.9411 - val_loss: 33.7592\n",
            "Epoch 46/500\n",
            "3/3 [==============================] - 0s 13ms/step - loss: 22.3447 - val_loss: 32.5095\n",
            "Epoch 47/500\n",
            "3/3 [==============================] - 0s 16ms/step - loss: 21.6765 - val_loss: 25.0804\n",
            "Epoch 48/500\n",
            "3/3 [==============================] - 0s 13ms/step - loss: 20.8628 - val_loss: 35.7822\n",
            "Epoch 49/500\n",
            "3/3 [==============================] - 0s 12ms/step - loss: 21.4685 - val_loss: 25.1989\n",
            "Epoch 50/500\n",
            "3/3 [==============================] - 0s 13ms/step - loss: 20.9093 - val_loss: 20.6802\n",
            "Epoch 51/500\n",
            "3/3 [==============================] - 0s 18ms/step - loss: 21.7012 - val_loss: 22.1968\n",
            "Epoch 52/500\n",
            "3/3 [==============================] - 0s 16ms/step - loss: 20.9048 - val_loss: 20.1816\n",
            "Epoch 53/500\n",
            "3/3 [==============================] - 0s 15ms/step - loss: 21.0695 - val_loss: 32.3750\n",
            "Epoch 54/500\n",
            "3/3 [==============================] - 0s 13ms/step - loss: 22.0366 - val_loss: 20.2954\n",
            "Epoch 55/500\n",
            "3/3 [==============================] - 0s 16ms/step - loss: 20.7008 - val_loss: 30.4227\n",
            "Epoch 56/500\n",
            "3/3 [==============================] - 0s 15ms/step - loss: 20.9268 - val_loss: 28.0430\n",
            "Epoch 57/500\n",
            "3/3 [==============================] - 0s 16ms/step - loss: 21.4898 - val_loss: 37.2801\n",
            "Epoch 58/500\n",
            "3/3 [==============================] - 0s 14ms/step - loss: 22.1342 - val_loss: 29.4432\n",
            "Epoch 59/500\n",
            "3/3 [==============================] - 0s 13ms/step - loss: 20.8796 - val_loss: 24.0753\n",
            "Epoch 60/500\n",
            "3/3 [==============================] - 0s 13ms/step - loss: 20.6387 - val_loss: 25.8131\n",
            "Epoch 61/500\n",
            "3/3 [==============================] - 0s 16ms/step - loss: 21.2226 - val_loss: 22.9163\n",
            "Epoch 62/500\n",
            "3/3 [==============================] - 0s 15ms/step - loss: 20.6646 - val_loss: 18.6221\n",
            "Epoch 63/500\n",
            "3/3 [==============================] - 0s 15ms/step - loss: 21.2504 - val_loss: 32.3339\n",
            "Epoch 64/500\n",
            "3/3 [==============================] - 0s 19ms/step - loss: 21.2712 - val_loss: 33.8508\n",
            "Epoch 65/500\n",
            "3/3 [==============================] - 0s 15ms/step - loss: 21.1109 - val_loss: 20.4793\n",
            "Epoch 66/500\n",
            "3/3 [==============================] - 0s 22ms/step - loss: 20.5410 - val_loss: 23.9083\n",
            "Epoch 67/500\n",
            "3/3 [==============================] - 0s 18ms/step - loss: 21.2212 - val_loss: 20.5102\n",
            "Epoch 68/500\n",
            "3/3 [==============================] - 0s 21ms/step - loss: 20.8136 - val_loss: 17.5282\n",
            "Epoch 69/500\n",
            "3/3 [==============================] - 0s 18ms/step - loss: 20.7547 - val_loss: 31.2195\n",
            "Epoch 70/500\n",
            "3/3 [==============================] - 0s 16ms/step - loss: 20.7290 - val_loss: 24.7118\n",
            "Epoch 71/500\n",
            "3/3 [==============================] - 0s 18ms/step - loss: 20.7469 - val_loss: 31.4458\n",
            "Epoch 72/500\n",
            "3/3 [==============================] - 0s 14ms/step - loss: 22.2435 - val_loss: 18.6325\n",
            "Epoch 73/500\n",
            "3/3 [==============================] - 0s 14ms/step - loss: 21.1304 - val_loss: 29.1415\n",
            "Epoch 74/500\n",
            "3/3 [==============================] - 0s 15ms/step - loss: 20.6696 - val_loss: 23.3536\n",
            "Epoch 75/500\n",
            "3/3 [==============================] - 0s 15ms/step - loss: 20.4931 - val_loss: 23.6167\n",
            "Epoch 76/500\n",
            "3/3 [==============================] - 0s 15ms/step - loss: 20.3683 - val_loss: 20.9881\n",
            "Epoch 77/500\n",
            "3/3 [==============================] - 0s 14ms/step - loss: 20.4199 - val_loss: 20.4910\n",
            "Epoch 78/500\n",
            "3/3 [==============================] - 0s 15ms/step - loss: 22.6869 - val_loss: 18.3182\n",
            "Epoch 79/500\n",
            "3/3 [==============================] - 0s 16ms/step - loss: 21.0403 - val_loss: 16.9045\n",
            "Epoch 80/500\n",
            "3/3 [==============================] - 0s 15ms/step - loss: 21.5900 - val_loss: 22.1464\n",
            "Epoch 81/500\n",
            "3/3 [==============================] - 0s 16ms/step - loss: 20.3907 - val_loss: 17.2522\n",
            "Epoch 82/500\n",
            "3/3 [==============================] - 0s 16ms/step - loss: 21.1651 - val_loss: 28.4260\n",
            "Epoch 83/500\n",
            "3/3 [==============================] - 0s 14ms/step - loss: 21.7282 - val_loss: 29.6670\n",
            "Epoch 84/500\n",
            "3/3 [==============================] - 0s 21ms/step - loss: 20.8246 - val_loss: 26.0869\n",
            "Epoch 85/500\n",
            "3/3 [==============================] - 0s 17ms/step - loss: 20.2233 - val_loss: 15.9988\n",
            "Epoch 86/500\n",
            "3/3 [==============================] - 0s 16ms/step - loss: 22.3704 - val_loss: 21.3856\n",
            "Epoch 87/500\n",
            "3/3 [==============================] - 0s 16ms/step - loss: 20.5075 - val_loss: 32.5858\n",
            "Epoch 88/500\n",
            "3/3 [==============================] - 0s 15ms/step - loss: 21.7422 - val_loss: 17.5081\n",
            "Epoch 89/500\n",
            "3/3 [==============================] - 0s 19ms/step - loss: 20.7438 - val_loss: 23.8689\n",
            "Epoch 90/500\n",
            "3/3 [==============================] - 0s 16ms/step - loss: 20.7436 - val_loss: 20.0354\n",
            "Epoch 91/500\n",
            "3/3 [==============================] - 0s 15ms/step - loss: 20.3603 - val_loss: 23.8160\n",
            "Epoch 92/500\n",
            "3/3 [==============================] - 0s 16ms/step - loss: 20.2008 - val_loss: 20.6322\n",
            "Epoch 93/500\n",
            "3/3 [==============================] - 0s 16ms/step - loss: 20.8300 - val_loss: 19.1990\n",
            "Epoch 94/500\n",
            "3/3 [==============================] - 0s 15ms/step - loss: 20.9892 - val_loss: 19.1585\n",
            "Epoch 95/500\n",
            "3/3 [==============================] - 0s 18ms/step - loss: 20.7157 - val_loss: 19.8878\n",
            "Epoch 96/500\n",
            "3/3 [==============================] - 0s 16ms/step - loss: 20.9993 - val_loss: 33.0815\n",
            "Epoch 97/500\n",
            "3/3 [==============================] - 0s 16ms/step - loss: 21.1594 - val_loss: 17.3967\n",
            "Epoch 98/500\n",
            "3/3 [==============================] - 0s 17ms/step - loss: 21.0586 - val_loss: 19.5073\n",
            "Epoch 99/500\n",
            "3/3 [==============================] - 0s 20ms/step - loss: 20.3765 - val_loss: 19.0985\n",
            "Epoch 100/500\n",
            "3/3 [==============================] - 0s 22ms/step - loss: 20.4397 - val_loss: 37.1458\n",
            "Epoch 101/500\n",
            "3/3 [==============================] - 0s 17ms/step - loss: 22.0009 - val_loss: 23.8075\n",
            "Epoch 102/500\n",
            "3/3 [==============================] - 0s 16ms/step - loss: 20.1340 - val_loss: 24.7401\n",
            "Epoch 103/500\n",
            "3/3 [==============================] - 0s 19ms/step - loss: 20.3374 - val_loss: 23.4524\n",
            "Epoch 104/500\n",
            "3/3 [==============================] - 0s 16ms/step - loss: 20.2419 - val_loss: 19.3387\n",
            "Epoch 105/500\n",
            "3/3 [==============================] - 0s 16ms/step - loss: 20.2719 - val_loss: 35.1693\n",
            "Epoch 106/500\n",
            "3/3 [==============================] - 0s 16ms/step - loss: 21.5983 - val_loss: 25.8838\n",
            "Epoch 107/500\n",
            "3/3 [==============================] - 0s 16ms/step - loss: 20.2629 - val_loss: 36.2424\n",
            "Epoch 108/500\n",
            "3/3 [==============================] - 0s 15ms/step - loss: 20.6093 - val_loss: 17.0409\n",
            "Epoch 109/500\n",
            "3/3 [==============================] - 0s 14ms/step - loss: 20.7990 - val_loss: 18.6267\n",
            "Epoch 110/500\n",
            "3/3 [==============================] - 0s 16ms/step - loss: 20.2940 - val_loss: 31.9927\n",
            "Epoch 111/500\n",
            "3/3 [==============================] - 0s 24ms/step - loss: 20.4848 - val_loss: 20.5914\n",
            "Epoch 112/500\n",
            "3/3 [==============================] - 0s 13ms/step - loss: 20.0909 - val_loss: 23.6620\n",
            "Epoch 113/500\n",
            "3/3 [==============================] - 0s 14ms/step - loss: 20.0286 - val_loss: 18.1609\n",
            "Epoch 114/500\n",
            "3/3 [==============================] - 0s 17ms/step - loss: 20.3845 - val_loss: 23.5271\n",
            "Epoch 115/500\n",
            "3/3 [==============================] - 0s 15ms/step - loss: 20.0300 - val_loss: 27.7832\n",
            "Epoch 116/500\n",
            "3/3 [==============================] - 0s 14ms/step - loss: 20.4727 - val_loss: 19.5419\n",
            "Epoch 117/500\n",
            "3/3 [==============================] - 0s 17ms/step - loss: 20.3820 - val_loss: 15.9798\n",
            "Epoch 118/500\n",
            "3/3 [==============================] - 0s 16ms/step - loss: 21.1147 - val_loss: 17.2699\n",
            "Epoch 119/500\n",
            "3/3 [==============================] - 0s 16ms/step - loss: 20.6142 - val_loss: 31.3531\n",
            "Epoch 120/500\n",
            "3/3 [==============================] - 0s 14ms/step - loss: 20.6530 - val_loss: 27.7562\n",
            "Epoch 121/500\n",
            "3/3 [==============================] - 0s 14ms/step - loss: 20.3419 - val_loss: 29.0359\n",
            "Epoch 122/500\n",
            "3/3 [==============================] - 0s 17ms/step - loss: 20.4847 - val_loss: 18.4499\n",
            "Epoch 123/500\n",
            "3/3 [==============================] - 0s 14ms/step - loss: 20.1071 - val_loss: 34.1908\n",
            "Epoch 124/500\n",
            "3/3 [==============================] - 0s 18ms/step - loss: 21.6059 - val_loss: 31.9369\n",
            "Epoch 125/500\n",
            "3/3 [==============================] - 0s 16ms/step - loss: 20.7554 - val_loss: 21.9382\n",
            "Epoch 126/500\n",
            "3/3 [==============================] - 0s 16ms/step - loss: 19.9764 - val_loss: 25.2194\n",
            "Epoch 127/500\n",
            "3/3 [==============================] - 0s 16ms/step - loss: 20.1886 - val_loss: 28.6080\n",
            "Epoch 128/500\n",
            "3/3 [==============================] - 0s 19ms/step - loss: 20.0809 - val_loss: 18.5361\n",
            "Epoch 129/500\n",
            "3/3 [==============================] - 0s 14ms/step - loss: 20.8346 - val_loss: 25.7778\n",
            "Epoch 130/500\n",
            "3/3 [==============================] - 0s 14ms/step - loss: 20.2466 - val_loss: 32.2433\n",
            "Epoch 131/500\n",
            "3/3 [==============================] - 0s 15ms/step - loss: 20.3078 - val_loss: 20.2498\n",
            "Epoch 132/500\n",
            "3/3 [==============================] - 0s 15ms/step - loss: 19.9013 - val_loss: 25.2289\n",
            "Epoch 133/500\n",
            "3/3 [==============================] - 0s 18ms/step - loss: 19.9202 - val_loss: 24.9111\n",
            "Epoch 134/500\n",
            "3/3 [==============================] - 0s 16ms/step - loss: 19.8467 - val_loss: 15.2896\n",
            "Epoch 135/500\n",
            "3/3 [==============================] - 0s 16ms/step - loss: 21.0744 - val_loss: 20.1166\n",
            "Epoch 136/500\n",
            "3/3 [==============================] - 0s 26ms/step - loss: 19.9354 - val_loss: 29.6025\n",
            "Epoch 137/500\n",
            "3/3 [==============================] - 0s 15ms/step - loss: 19.9118 - val_loss: 15.8538\n",
            "Epoch 138/500\n",
            "3/3 [==============================] - 0s 16ms/step - loss: 21.1956 - val_loss: 19.0709\n",
            "Epoch 139/500\n",
            "3/3 [==============================] - 0s 15ms/step - loss: 19.8240 - val_loss: 27.2334\n",
            "Epoch 140/500\n",
            "3/3 [==============================] - 0s 15ms/step - loss: 20.3203 - val_loss: 28.4466\n",
            "Epoch 141/500\n",
            "3/3 [==============================] - 0s 17ms/step - loss: 20.0205 - val_loss: 27.8355\n",
            "Epoch 142/500\n",
            "3/3 [==============================] - 0s 17ms/step - loss: 20.2783 - val_loss: 19.0106\n",
            "Epoch 143/500\n",
            "3/3 [==============================] - 0s 16ms/step - loss: 20.3848 - val_loss: 17.1013\n",
            "Epoch 144/500\n",
            "3/3 [==============================] - 0s 18ms/step - loss: 19.9978 - val_loss: 26.7647\n",
            "Epoch 145/500\n",
            "3/3 [==============================] - 0s 15ms/step - loss: 20.1087 - val_loss: 36.9408\n",
            "Epoch 146/500\n",
            "3/3 [==============================] - 0s 15ms/step - loss: 20.7837 - val_loss: 20.3016\n",
            "Epoch 147/500\n",
            "3/3 [==============================] - 0s 17ms/step - loss: 19.9808 - val_loss: 19.3928\n",
            "Epoch 148/500\n",
            "3/3 [==============================] - 0s 18ms/step - loss: 20.2772 - val_loss: 23.5560\n",
            "Epoch 149/500\n",
            "3/3 [==============================] - 0s 15ms/step - loss: 20.3851 - val_loss: 22.7927\n",
            "Epoch 150/500\n",
            "3/3 [==============================] - 0s 16ms/step - loss: 19.7012 - val_loss: 16.2966\n",
            "Epoch 151/500\n",
            "3/3 [==============================] - 0s 16ms/step - loss: 20.8621 - val_loss: 22.6000\n",
            "Epoch 152/500\n",
            "3/3 [==============================] - 0s 17ms/step - loss: 19.7999 - val_loss: 23.8944\n",
            "Epoch 153/500\n",
            "3/3 [==============================] - 0s 16ms/step - loss: 21.2780 - val_loss: 20.9253\n",
            "Epoch 154/500\n",
            "3/3 [==============================] - 0s 19ms/step - loss: 19.6954 - val_loss: 31.6216\n",
            "Epoch 155/500\n",
            "3/3 [==============================] - 0s 22ms/step - loss: 20.4516 - val_loss: 19.8003\n",
            "Epoch 156/500\n",
            "3/3 [==============================] - 0s 20ms/step - loss: 19.6718 - val_loss: 27.6470\n",
            "Epoch 157/500\n",
            "3/3 [==============================] - 0s 16ms/step - loss: 20.4788 - val_loss: 33.8473\n",
            "Epoch 158/500\n",
            "3/3 [==============================] - 0s 16ms/step - loss: 20.4148 - val_loss: 17.2025\n",
            "Epoch 159/500\n",
            "3/3 [==============================] - 0s 18ms/step - loss: 20.3098 - val_loss: 25.6960\n",
            "Epoch 160/500\n",
            "3/3 [==============================] - 0s 15ms/step - loss: 19.8159 - val_loss: 28.8385\n",
            "Epoch 161/500\n",
            "3/3 [==============================] - 0s 16ms/step - loss: 19.8697 - val_loss: 21.0764\n",
            "Epoch 162/500\n",
            "3/3 [==============================] - 0s 16ms/step - loss: 19.8323 - val_loss: 17.4644\n",
            "Epoch 163/500\n",
            "3/3 [==============================] - 0s 15ms/step - loss: 19.9305 - val_loss: 24.4922\n",
            "Epoch 164/500\n",
            "3/3 [==============================] - 0s 14ms/step - loss: 20.0238 - val_loss: 18.2992\n",
            "Epoch 165/500\n",
            "3/3 [==============================] - 0s 14ms/step - loss: 19.9372 - val_loss: 37.4729\n",
            "Epoch 166/500\n",
            "3/3 [==============================] - 0s 15ms/step - loss: 21.4321 - val_loss: 19.8792\n",
            "Epoch 167/500\n",
            "3/3 [==============================] - 0s 15ms/step - loss: 19.7111 - val_loss: 16.3692\n",
            "Epoch 168/500\n",
            "3/3 [==============================] - 0s 13ms/step - loss: 20.1180 - val_loss: 19.4140\n",
            "Epoch 169/500\n",
            "3/3 [==============================] - 0s 18ms/step - loss: 19.6618 - val_loss: 17.6732\n",
            "Epoch 170/500\n",
            "3/3 [==============================] - 0s 15ms/step - loss: 19.7745 - val_loss: 19.4638\n",
            "Epoch 171/500\n",
            "3/3 [==============================] - 0s 16ms/step - loss: 19.5758 - val_loss: 21.7186\n",
            "Epoch 172/500\n",
            "3/3 [==============================] - 0s 15ms/step - loss: 19.8890 - val_loss: 15.0176\n",
            "Epoch 173/500\n",
            "3/3 [==============================] - 0s 19ms/step - loss: 20.4442 - val_loss: 16.5860\n",
            "Epoch 174/500\n",
            "3/3 [==============================] - 0s 21ms/step - loss: 19.8705 - val_loss: 27.4007\n",
            "Epoch 175/500\n",
            "3/3 [==============================] - 0s 16ms/step - loss: 20.3543 - val_loss: 18.2637\n",
            "Epoch 176/500\n",
            "3/3 [==============================] - 0s 20ms/step - loss: 19.9359 - val_loss: 19.3555\n",
            "Epoch 177/500\n",
            "3/3 [==============================] - 0s 15ms/step - loss: 19.7754 - val_loss: 36.2951\n",
            "Epoch 178/500\n",
            "3/3 [==============================] - 0s 16ms/step - loss: 20.9805 - val_loss: 21.0072\n",
            "Epoch 179/500\n",
            "3/3 [==============================] - 0s 15ms/step - loss: 19.8072 - val_loss: 16.6321\n",
            "Epoch 180/500\n",
            "3/3 [==============================] - 0s 15ms/step - loss: 20.6002 - val_loss: 26.7177\n",
            "Epoch 181/500\n",
            "3/3 [==============================] - 0s 17ms/step - loss: 19.6124 - val_loss: 17.7386\n",
            "Epoch 182/500\n",
            "3/3 [==============================] - 0s 19ms/step - loss: 19.7687 - val_loss: 35.7872\n",
            "Epoch 183/500\n",
            "3/3 [==============================] - 0s 16ms/step - loss: 20.7464 - val_loss: 19.7235\n",
            "Epoch 184/500\n",
            "3/3 [==============================] - 0s 15ms/step - loss: 19.6400 - val_loss: 35.6230\n",
            "Epoch 185/500\n",
            "3/3 [==============================] - 0s 15ms/step - loss: 21.3580 - val_loss: 24.3628\n",
            "Epoch 186/500\n",
            "3/3 [==============================] - 0s 17ms/step - loss: 19.5183 - val_loss: 19.9314\n",
            "Epoch 187/500\n",
            "3/3 [==============================] - 0s 18ms/step - loss: 19.4611 - val_loss: 21.7774\n",
            "Epoch 188/500\n",
            "3/3 [==============================] - 0s 16ms/step - loss: 19.4989 - val_loss: 36.7450\n",
            "Epoch 189/500\n",
            "3/3 [==============================] - 0s 15ms/step - loss: 20.5099 - val_loss: 20.9184\n",
            "Epoch 190/500\n",
            "3/3 [==============================] - 0s 17ms/step - loss: 19.5327 - val_loss: 16.7890\n",
            "Epoch 191/500\n",
            "3/3 [==============================] - 0s 16ms/step - loss: 19.8913 - val_loss: 20.6612\n",
            "Epoch 192/500\n",
            "3/3 [==============================] - 0s 14ms/step - loss: 19.4979 - val_loss: 21.1606\n",
            "Epoch 193/500\n",
            "3/3 [==============================] - 0s 21ms/step - loss: 19.7898 - val_loss: 16.3635\n",
            "Epoch 194/500\n",
            "3/3 [==============================] - 0s 13ms/step - loss: 21.0054 - val_loss: 26.2867\n",
            "Epoch 195/500\n",
            "3/3 [==============================] - 0s 18ms/step - loss: 19.6719 - val_loss: 23.3806\n",
            "Epoch 196/500\n",
            "3/3 [==============================] - 0s 14ms/step - loss: 19.5162 - val_loss: 20.9707\n",
            "Epoch 197/500\n",
            "3/3 [==============================] - 0s 15ms/step - loss: 19.4431 - val_loss: 28.1840\n",
            "Epoch 198/500\n",
            "3/3 [==============================] - 0s 15ms/step - loss: 20.2034 - val_loss: 27.7543\n",
            "Epoch 199/500\n",
            "3/3 [==============================] - 0s 19ms/step - loss: 19.4959 - val_loss: 14.2616\n",
            "Epoch 200/500\n",
            "3/3 [==============================] - 0s 16ms/step - loss: 21.8027 - val_loss: 22.4807\n",
            "Epoch 201/500\n",
            "3/3 [==============================] - 0s 16ms/step - loss: 19.3413 - val_loss: 20.1916\n",
            "Epoch 202/500\n",
            "3/3 [==============================] - 0s 18ms/step - loss: 19.5221 - val_loss: 22.6424\n",
            "Epoch 203/500\n",
            "3/3 [==============================] - 0s 16ms/step - loss: 19.5104 - val_loss: 28.0228\n",
            "Epoch 204/500\n",
            "3/3 [==============================] - 0s 13ms/step - loss: 19.6319 - val_loss: 27.0252\n",
            "Epoch 205/500\n",
            "3/3 [==============================] - 0s 18ms/step - loss: 20.3531 - val_loss: 22.6884\n",
            "Epoch 206/500\n",
            "3/3 [==============================] - 0s 16ms/step - loss: 19.6781 - val_loss: 19.8083\n",
            "Epoch 207/500\n",
            "3/3 [==============================] - 0s 15ms/step - loss: 19.3632 - val_loss: 17.5078\n",
            "Epoch 208/500\n",
            "3/3 [==============================] - 0s 14ms/step - loss: 19.8338 - val_loss: 23.3453\n",
            "Epoch 209/500\n",
            "3/3 [==============================] - 0s 15ms/step - loss: 19.5708 - val_loss: 24.9494\n",
            "Epoch 210/500\n",
            "3/3 [==============================] - 0s 14ms/step - loss: 19.9220 - val_loss: 41.8499\n",
            "Epoch 211/500\n",
            "3/3 [==============================] - 0s 18ms/step - loss: 21.6841 - val_loss: 25.4346\n",
            "Epoch 212/500\n",
            "3/3 [==============================] - 0s 15ms/step - loss: 19.6291 - val_loss: 26.4156\n",
            "Epoch 213/500\n",
            "3/3 [==============================] - 0s 16ms/step - loss: 19.8481 - val_loss: 17.6500\n",
            "Epoch 214/500\n",
            "3/3 [==============================] - 0s 16ms/step - loss: 19.4767 - val_loss: 19.7819\n",
            "Epoch 215/500\n",
            "3/3 [==============================] - 0s 18ms/step - loss: 19.5904 - val_loss: 20.5226\n",
            "Epoch 216/500\n",
            "3/3 [==============================] - 0s 15ms/step - loss: 19.6373 - val_loss: 21.4094\n",
            "Epoch 217/500\n",
            "3/3 [==============================] - 0s 19ms/step - loss: 19.9693 - val_loss: 22.9458\n",
            "Epoch 218/500\n",
            "3/3 [==============================] - 0s 16ms/step - loss: 19.4603 - val_loss: 20.0604\n",
            "Epoch 219/500\n",
            "3/3 [==============================] - 0s 17ms/step - loss: 19.4047 - val_loss: 24.5803\n",
            "Epoch 220/500\n",
            "3/3 [==============================] - 0s 17ms/step - loss: 19.9147 - val_loss: 34.3249\n",
            "Epoch 221/500\n",
            "3/3 [==============================] - 0s 16ms/step - loss: 20.1559 - val_loss: 30.5183\n",
            "Epoch 222/500\n",
            "3/3 [==============================] - 0s 24ms/step - loss: 19.6891 - val_loss: 17.5103\n",
            "Epoch 223/500\n",
            "3/3 [==============================] - 0s 18ms/step - loss: 19.5021 - val_loss: 20.4053\n",
            "Epoch 224/500\n",
            "3/3 [==============================] - 0s 17ms/step - loss: 19.2007 - val_loss: 33.7315\n",
            "Epoch 225/500\n",
            "3/3 [==============================] - 0s 18ms/step - loss: 20.2367 - val_loss: 26.9850\n",
            "Epoch 226/500\n",
            "3/3 [==============================] - 0s 17ms/step - loss: 19.8229 - val_loss: 18.7025\n",
            "Epoch 227/500\n",
            "3/3 [==============================] - 0s 19ms/step - loss: 19.3379 - val_loss: 23.3435\n",
            "Epoch 228/500\n",
            "3/3 [==============================] - 0s 17ms/step - loss: 19.3386 - val_loss: 16.9470\n",
            "Epoch 229/500\n",
            "3/3 [==============================] - 0s 17ms/step - loss: 19.3769 - val_loss: 22.1310\n",
            "Epoch 230/500\n",
            "3/3 [==============================] - 0s 14ms/step - loss: 19.1278 - val_loss: 14.2841\n",
            "Epoch 231/500\n",
            "3/3 [==============================] - 0s 15ms/step - loss: 20.2188 - val_loss: 18.5683\n",
            "Epoch 232/500\n",
            "3/3 [==============================] - 0s 16ms/step - loss: 19.2748 - val_loss: 27.1919\n",
            "Epoch 233/500\n",
            "3/3 [==============================] - 0s 17ms/step - loss: 19.2895 - val_loss: 25.6212\n",
            "Epoch 234/500\n",
            "3/3 [==============================] - 0s 16ms/step - loss: 21.8680 - val_loss: 17.8652\n",
            "Epoch 235/500\n",
            "3/3 [==============================] - 0s 18ms/step - loss: 19.2697 - val_loss: 19.2852\n",
            "Epoch 236/500\n",
            "3/3 [==============================] - 0s 17ms/step - loss: 19.2117 - val_loss: 22.8718\n",
            "Epoch 237/500\n",
            "3/3 [==============================] - 0s 15ms/step - loss: 19.1026 - val_loss: 23.9585\n",
            "Epoch 238/500\n",
            "3/3 [==============================] - 0s 21ms/step - loss: 19.3317 - val_loss: 22.3387\n",
            "Epoch 239/500\n",
            "3/3 [==============================] - 0s 17ms/step - loss: 19.0365 - val_loss: 15.3367\n",
            "Epoch 240/500\n",
            "3/3 [==============================] - 0s 16ms/step - loss: 20.2514 - val_loss: 21.9208\n",
            "Epoch 241/500\n",
            "3/3 [==============================] - 0s 18ms/step - loss: 19.0557 - val_loss: 32.3813\n",
            "Epoch 242/500\n",
            "3/3 [==============================] - 0s 19ms/step - loss: 20.6327 - val_loss: 15.9554\n",
            "Epoch 243/500\n",
            "3/3 [==============================] - 0s 15ms/step - loss: 19.9845 - val_loss: 15.2938\n",
            "Epoch 244/500\n",
            "3/3 [==============================] - 0s 17ms/step - loss: 19.3139 - val_loss: 32.8509\n",
            "Epoch 245/500\n",
            "3/3 [==============================] - 0s 16ms/step - loss: 20.4451 - val_loss: 17.0071\n",
            "Epoch 246/500\n",
            "3/3 [==============================] - 0s 26ms/step - loss: 19.2015 - val_loss: 19.3625\n",
            "Epoch 247/500\n",
            "3/3 [==============================] - 0s 15ms/step - loss: 19.1849 - val_loss: 15.0705\n",
            "Epoch 248/500\n",
            "3/3 [==============================] - 0s 17ms/step - loss: 19.4867 - val_loss: 19.2344\n",
            "Epoch 249/500\n",
            "3/3 [==============================] - 0s 15ms/step - loss: 19.0572 - val_loss: 15.9395\n",
            "Epoch 250/500\n",
            "3/3 [==============================] - 0s 16ms/step - loss: 19.5677 - val_loss: 28.2160\n",
            "Epoch 251/500\n",
            "3/3 [==============================] - 0s 15ms/step - loss: 19.2277 - val_loss: 14.6523\n",
            "Epoch 252/500\n",
            "3/3 [==============================] - 0s 22ms/step - loss: 20.1740 - val_loss: 15.3725\n",
            "Epoch 253/500\n",
            "3/3 [==============================] - 0s 15ms/step - loss: 19.2836 - val_loss: 21.3611\n",
            "Epoch 254/500\n",
            "3/3 [==============================] - 0s 14ms/step - loss: 19.1205 - val_loss: 15.3811\n",
            "Epoch 255/500\n",
            "3/3 [==============================] - 0s 14ms/step - loss: 19.4821 - val_loss: 18.6175\n",
            "Epoch 256/500\n",
            "3/3 [==============================] - 0s 14ms/step - loss: 19.6262 - val_loss: 25.6931\n",
            "Epoch 257/500\n",
            "3/3 [==============================] - 0s 16ms/step - loss: 19.2593 - val_loss: 26.3987\n",
            "Epoch 258/500\n",
            "3/3 [==============================] - 0s 16ms/step - loss: 19.6689 - val_loss: 31.7463\n",
            "Epoch 259/500\n",
            "3/3 [==============================] - 0s 19ms/step - loss: 20.0220 - val_loss: 28.1717\n",
            "Epoch 260/500\n",
            "3/3 [==============================] - 0s 16ms/step - loss: 19.4228 - val_loss: 27.8786\n",
            "Epoch 261/500\n",
            "3/3 [==============================] - 0s 20ms/step - loss: 19.1952 - val_loss: 15.2431\n",
            "Epoch 262/500\n",
            "3/3 [==============================] - 0s 14ms/step - loss: 19.0884 - val_loss: 19.7058\n",
            "Epoch 263/500\n",
            "3/3 [==============================] - 0s 16ms/step - loss: 18.7943 - val_loss: 15.5497\n",
            "Epoch 264/500\n",
            "3/3 [==============================] - 0s 17ms/step - loss: 19.5115 - val_loss: 17.7296\n",
            "Epoch 265/500\n",
            "3/3 [==============================] - 0s 17ms/step - loss: 18.9711 - val_loss: 19.1735\n",
            "Epoch 266/500\n",
            "3/3 [==============================] - 0s 16ms/step - loss: 19.1127 - val_loss: 15.3854\n",
            "Epoch 267/500\n",
            "3/3 [==============================] - 0s 16ms/step - loss: 19.3154 - val_loss: 20.4424\n",
            "Epoch 268/500\n",
            "3/3 [==============================] - 0s 14ms/step - loss: 19.2713 - val_loss: 13.8476\n",
            "Epoch 269/500\n",
            "3/3 [==============================] - 0s 17ms/step - loss: 20.6830 - val_loss: 18.7753\n",
            "Epoch 270/500\n",
            "3/3 [==============================] - 0s 16ms/step - loss: 18.7454 - val_loss: 19.2075\n",
            "Epoch 271/500\n",
            "3/3 [==============================] - 0s 15ms/step - loss: 18.8293 - val_loss: 32.6743\n",
            "Epoch 272/500\n",
            "3/3 [==============================] - 0s 14ms/step - loss: 19.8800 - val_loss: 27.4238\n",
            "Epoch 273/500\n",
            "3/3 [==============================] - 0s 13ms/step - loss: 18.9589 - val_loss: 16.1692\n",
            "Epoch 274/500\n",
            "3/3 [==============================] - 0s 16ms/step - loss: 18.9625 - val_loss: 19.0142\n",
            "Epoch 275/500\n",
            "3/3 [==============================] - 0s 15ms/step - loss: 18.6997 - val_loss: 20.5375\n",
            "Epoch 276/500\n",
            "3/3 [==============================] - 0s 15ms/step - loss: 18.8105 - val_loss: 26.0481\n",
            "Epoch 277/500\n",
            "3/3 [==============================] - 0s 17ms/step - loss: 18.6026 - val_loss: 13.8228\n",
            "Epoch 278/500\n",
            "3/3 [==============================] - 0s 15ms/step - loss: 19.9364 - val_loss: 13.9617\n",
            "Epoch 279/500\n",
            "3/3 [==============================] - 0s 21ms/step - loss: 19.9144 - val_loss: 34.4466\n",
            "Epoch 280/500\n",
            "3/3 [==============================] - 0s 16ms/step - loss: 20.3088 - val_loss: 22.7686\n",
            "Epoch 281/500\n",
            "3/3 [==============================] - 0s 17ms/step - loss: 18.8065 - val_loss: 16.2399\n",
            "Epoch 282/500\n",
            "3/3 [==============================] - 0s 18ms/step - loss: 18.7089 - val_loss: 15.7260\n",
            "Epoch 283/500\n",
            "3/3 [==============================] - 0s 17ms/step - loss: 18.7642 - val_loss: 16.8635\n",
            "Epoch 284/500\n",
            "3/3 [==============================] - 0s 18ms/step - loss: 18.8297 - val_loss: 21.6930\n",
            "Epoch 285/500\n",
            "3/3 [==============================] - 0s 15ms/step - loss: 19.1265 - val_loss: 19.1007\n",
            "Epoch 286/500\n",
            "3/3 [==============================] - 0s 15ms/step - loss: 18.6415 - val_loss: 15.1596\n",
            "Epoch 287/500\n",
            "3/3 [==============================] - 0s 17ms/step - loss: 18.5749 - val_loss: 19.5599\n",
            "Epoch 288/500\n",
            "3/3 [==============================] - 0s 15ms/step - loss: 18.4326 - val_loss: 18.7500\n",
            "Epoch 289/500\n",
            "3/3 [==============================] - 0s 17ms/step - loss: 18.4584 - val_loss: 25.3892\n",
            "Epoch 290/500\n",
            "3/3 [==============================] - 0s 16ms/step - loss: 20.1497 - val_loss: 17.0419\n",
            "Epoch 291/500\n",
            "3/3 [==============================] - 0s 16ms/step - loss: 18.5927 - val_loss: 21.5975\n",
            "Epoch 292/500\n",
            "3/3 [==============================] - 0s 18ms/step - loss: 18.4435 - val_loss: 22.6252\n",
            "Epoch 293/500\n",
            "3/3 [==============================] - 0s 22ms/step - loss: 19.5562 - val_loss: 15.4472\n",
            "Epoch 294/500\n",
            "3/3 [==============================] - 0s 19ms/step - loss: 18.6311 - val_loss: 13.1788\n",
            "Epoch 295/500\n",
            "3/3 [==============================] - 0s 16ms/step - loss: 19.2573 - val_loss: 21.2352\n",
            "Epoch 296/500\n",
            "3/3 [==============================] - 0s 14ms/step - loss: 18.4289 - val_loss: 25.6439\n",
            "Epoch 297/500\n",
            "3/3 [==============================] - 0s 18ms/step - loss: 19.6430 - val_loss: 16.5515\n",
            "Epoch 298/500\n",
            "3/3 [==============================] - 0s 18ms/step - loss: 18.3174 - val_loss: 15.7557\n",
            "Epoch 299/500\n",
            "3/3 [==============================] - 0s 16ms/step - loss: 18.3415 - val_loss: 18.4472\n",
            "Epoch 300/500\n",
            "3/3 [==============================] - 0s 17ms/step - loss: 18.3045 - val_loss: 24.8624\n",
            "Epoch 301/500\n",
            "3/3 [==============================] - 0s 15ms/step - loss: 18.4989 - val_loss: 28.5687\n",
            "Epoch 302/500\n",
            "3/3 [==============================] - 0s 16ms/step - loss: 19.7631 - val_loss: 31.9757\n",
            "Epoch 303/500\n",
            "3/3 [==============================] - 0s 17ms/step - loss: 19.7461 - val_loss: 19.3969\n",
            "Epoch 304/500\n",
            "3/3 [==============================] - 0s 15ms/step - loss: 18.3985 - val_loss: 20.8203\n",
            "Epoch 305/500\n",
            "3/3 [==============================] - 0s 20ms/step - loss: 18.0942 - val_loss: 11.8043\n",
            "Epoch 306/500\n",
            "3/3 [==============================] - 0s 15ms/step - loss: 19.5019 - val_loss: 19.7992\n",
            "Epoch 307/500\n",
            "3/3 [==============================] - 0s 14ms/step - loss: 18.7609 - val_loss: 24.4491\n",
            "Epoch 308/500\n",
            "3/3 [==============================] - 0s 17ms/step - loss: 18.7922 - val_loss: 14.2183\n",
            "Epoch 309/500\n",
            "3/3 [==============================] - 0s 19ms/step - loss: 18.4865 - val_loss: 15.0761\n",
            "Epoch 310/500\n",
            "3/3 [==============================] - 0s 17ms/step - loss: 18.1290 - val_loss: 24.1836\n",
            "Epoch 311/500\n",
            "3/3 [==============================] - 0s 22ms/step - loss: 18.5926 - val_loss: 21.2461\n",
            "Epoch 312/500\n",
            "3/3 [==============================] - 0s 17ms/step - loss: 18.1797 - val_loss: 13.8692\n",
            "Epoch 313/500\n",
            "3/3 [==============================] - 0s 17ms/step - loss: 18.4155 - val_loss: 15.1998\n",
            "Epoch 314/500\n",
            "3/3 [==============================] - 0s 19ms/step - loss: 18.0663 - val_loss: 22.8156\n",
            "Epoch 315/500\n",
            "3/3 [==============================] - 0s 17ms/step - loss: 18.3379 - val_loss: 27.0513\n",
            "Epoch 316/500\n",
            "3/3 [==============================] - 0s 15ms/step - loss: 19.3416 - val_loss: 20.6620\n",
            "Epoch 317/500\n",
            "3/3 [==============================] - 0s 19ms/step - loss: 18.6755 - val_loss: 17.4929\n",
            "Epoch 318/500\n",
            "3/3 [==============================] - 0s 17ms/step - loss: 17.8939 - val_loss: 12.3289\n",
            "Epoch 319/500\n",
            "3/3 [==============================] - 0s 17ms/step - loss: 18.7461 - val_loss: 12.9082\n",
            "Epoch 320/500\n",
            "3/3 [==============================] - 0s 19ms/step - loss: 19.0866 - val_loss: 16.3076\n",
            "Epoch 321/500\n",
            "3/3 [==============================] - 0s 16ms/step - loss: 17.9492 - val_loss: 12.3375\n",
            "Epoch 322/500\n",
            "3/3 [==============================] - 0s 20ms/step - loss: 19.2721 - val_loss: 12.3330\n",
            "Epoch 323/500\n",
            "3/3 [==============================] - 0s 15ms/step - loss: 18.9069 - val_loss: 12.6445\n",
            "Epoch 324/500\n",
            "3/3 [==============================] - 0s 16ms/step - loss: 18.2158 - val_loss: 18.2723\n",
            "Epoch 325/500\n",
            "3/3 [==============================] - 0s 20ms/step - loss: 17.7046 - val_loss: 18.4598\n",
            "Epoch 326/500\n",
            "3/3 [==============================] - 0s 18ms/step - loss: 17.8216 - val_loss: 17.4999\n",
            "Epoch 327/500\n",
            "3/3 [==============================] - 0s 17ms/step - loss: 17.6569 - val_loss: 11.5278\n",
            "Epoch 328/500\n",
            "3/3 [==============================] - 0s 15ms/step - loss: 19.9666 - val_loss: 21.2429\n",
            "Epoch 329/500\n",
            "3/3 [==============================] - 0s 17ms/step - loss: 17.7734 - val_loss: 17.6543\n",
            "Epoch 330/500\n",
            "3/3 [==============================] - 0s 14ms/step - loss: 17.7878 - val_loss: 12.5292\n",
            "Epoch 331/500\n",
            "3/3 [==============================] - 0s 17ms/step - loss: 18.0857 - val_loss: 17.3995\n",
            "Epoch 332/500\n",
            "3/3 [==============================] - 0s 16ms/step - loss: 17.5477 - val_loss: 16.1103\n",
            "Epoch 333/500\n",
            "3/3 [==============================] - 0s 15ms/step - loss: 18.2884 - val_loss: 14.5573\n",
            "Epoch 334/500\n",
            "3/3 [==============================] - 0s 14ms/step - loss: 17.4999 - val_loss: 19.8420\n",
            "Epoch 335/500\n",
            "3/3 [==============================] - 0s 14ms/step - loss: 17.5022 - val_loss: 19.3784\n",
            "Epoch 336/500\n",
            "3/3 [==============================] - 0s 17ms/step - loss: 18.1691 - val_loss: 13.3996\n",
            "Epoch 337/500\n",
            "3/3 [==============================] - 0s 18ms/step - loss: 17.8279 - val_loss: 12.5566\n",
            "Epoch 338/500\n",
            "3/3 [==============================] - 0s 16ms/step - loss: 19.2536 - val_loss: 16.7892\n",
            "Epoch 339/500\n",
            "3/3 [==============================] - 0s 18ms/step - loss: 17.6001 - val_loss: 11.6851\n",
            "Epoch 340/500\n",
            "3/3 [==============================] - 0s 16ms/step - loss: 18.5471 - val_loss: 21.3260\n",
            "Epoch 341/500\n",
            "3/3 [==============================] - 0s 17ms/step - loss: 18.1656 - val_loss: 26.6351\n",
            "Epoch 342/500\n",
            "3/3 [==============================] - 0s 17ms/step - loss: 18.0009 - val_loss: 18.3136\n",
            "Epoch 343/500\n",
            "3/3 [==============================] - 0s 16ms/step - loss: 17.3379 - val_loss: 16.8699\n",
            "Epoch 344/500\n",
            "3/3 [==============================] - 0s 17ms/step - loss: 17.3071 - val_loss: 11.3821\n",
            "Epoch 345/500\n",
            "3/3 [==============================] - 0s 16ms/step - loss: 19.3076 - val_loss: 14.8614\n",
            "Epoch 346/500\n",
            "3/3 [==============================] - 0s 16ms/step - loss: 17.3735 - val_loss: 18.6835\n",
            "Epoch 347/500\n",
            "3/3 [==============================] - 0s 14ms/step - loss: 17.4230 - val_loss: 14.4284\n",
            "Epoch 348/500\n",
            "3/3 [==============================] - 0s 15ms/step - loss: 17.3386 - val_loss: 16.5815\n",
            "Epoch 349/500\n",
            "3/3 [==============================] - 0s 14ms/step - loss: 17.2285 - val_loss: 12.8300\n",
            "Epoch 350/500\n",
            "3/3 [==============================] - 0s 16ms/step - loss: 17.3735 - val_loss: 17.2796\n",
            "Epoch 351/500\n",
            "3/3 [==============================] - 0s 16ms/step - loss: 17.0996 - val_loss: 11.5691\n",
            "Epoch 352/500\n",
            "3/3 [==============================] - 0s 18ms/step - loss: 18.9712 - val_loss: 17.6657\n",
            "Epoch 353/500\n",
            "3/3 [==============================] - 0s 15ms/step - loss: 17.0534 - val_loss: 12.6683\n",
            "Epoch 354/500\n",
            "3/3 [==============================] - 0s 17ms/step - loss: 17.7367 - val_loss: 14.3410\n",
            "Epoch 355/500\n",
            "3/3 [==============================] - 0s 15ms/step - loss: 16.9737 - val_loss: 29.9488\n",
            "Epoch 356/500\n",
            "3/3 [==============================] - 0s 19ms/step - loss: 18.4976 - val_loss: 11.7613\n",
            "Epoch 357/500\n",
            "3/3 [==============================] - 0s 17ms/step - loss: 17.6042 - val_loss: 19.2259\n",
            "Epoch 358/500\n",
            "3/3 [==============================] - 0s 16ms/step - loss: 17.0295 - val_loss: 11.5874\n",
            "Epoch 359/500\n",
            "3/3 [==============================] - 0s 16ms/step - loss: 17.9919 - val_loss: 28.0482\n",
            "Epoch 360/500\n",
            "3/3 [==============================] - 0s 16ms/step - loss: 17.9414 - val_loss: 12.0211\n",
            "Epoch 361/500\n",
            "3/3 [==============================] - 0s 18ms/step - loss: 18.5073 - val_loss: 13.4146\n",
            "Epoch 362/500\n",
            "3/3 [==============================] - 0s 21ms/step - loss: 17.4744 - val_loss: 12.0957\n",
            "Epoch 363/500\n",
            "3/3 [==============================] - 0s 17ms/step - loss: 17.7330 - val_loss: 14.1408\n",
            "Epoch 364/500\n",
            "3/3 [==============================] - 0s 17ms/step - loss: 16.9383 - val_loss: 16.8869\n",
            "Epoch 365/500\n",
            "3/3 [==============================] - 0s 16ms/step - loss: 17.3432 - val_loss: 21.2580\n",
            "Epoch 366/500\n",
            "3/3 [==============================] - 0s 16ms/step - loss: 17.1571 - val_loss: 15.7358\n",
            "Epoch 367/500\n",
            "3/3 [==============================] - 0s 19ms/step - loss: 16.9170 - val_loss: 16.5361\n",
            "Epoch 368/500\n",
            "3/3 [==============================] - 0s 19ms/step - loss: 16.8038 - val_loss: 10.9001\n",
            "Epoch 369/500\n",
            "3/3 [==============================] - 0s 17ms/step - loss: 19.3639 - val_loss: 17.0535\n",
            "Epoch 370/500\n",
            "3/3 [==============================] - 0s 20ms/step - loss: 17.0339 - val_loss: 13.4890\n",
            "Epoch 371/500\n",
            "3/3 [==============================] - 0s 16ms/step - loss: 17.4821 - val_loss: 15.8840\n",
            "Epoch 372/500\n",
            "3/3 [==============================] - 0s 15ms/step - loss: 16.7392 - val_loss: 14.9716\n",
            "Epoch 373/500\n",
            "3/3 [==============================] - 0s 23ms/step - loss: 16.9813 - val_loss: 11.2391\n",
            "Epoch 374/500\n",
            "3/3 [==============================] - 0s 16ms/step - loss: 18.9093 - val_loss: 13.8181\n",
            "Epoch 375/500\n",
            "3/3 [==============================] - 0s 17ms/step - loss: 17.0184 - val_loss: 14.5175\n",
            "Epoch 376/500\n",
            "3/3 [==============================] - 0s 16ms/step - loss: 16.8241 - val_loss: 12.5650\n",
            "Epoch 377/500\n",
            "3/3 [==============================] - 0s 15ms/step - loss: 17.0683 - val_loss: 17.1494\n",
            "Epoch 378/500\n",
            "3/3 [==============================] - 0s 19ms/step - loss: 16.7038 - val_loss: 18.1267\n",
            "Epoch 379/500\n",
            "3/3 [==============================] - 0s 18ms/step - loss: 16.6576 - val_loss: 19.0493\n",
            "Epoch 380/500\n",
            "3/3 [==============================] - 0s 17ms/step - loss: 17.0934 - val_loss: 12.8385\n",
            "Epoch 381/500\n",
            "3/3 [==============================] - 0s 17ms/step - loss: 17.0728 - val_loss: 16.6718\n",
            "Epoch 382/500\n",
            "3/3 [==============================] - 0s 17ms/step - loss: 16.6641 - val_loss: 25.4854\n",
            "Epoch 383/500\n",
            "3/3 [==============================] - 0s 17ms/step - loss: 16.8187 - val_loss: 15.0636\n",
            "Epoch 384/500\n",
            "3/3 [==============================] - 0s 18ms/step - loss: 16.5357 - val_loss: 16.7229\n",
            "Epoch 385/500\n",
            "3/3 [==============================] - 0s 17ms/step - loss: 17.3578 - val_loss: 11.3060\n",
            "Epoch 386/500\n",
            "3/3 [==============================] - 0s 17ms/step - loss: 17.6717 - val_loss: 11.2643\n",
            "Epoch 387/500\n",
            "3/3 [==============================] - 0s 17ms/step - loss: 17.5363 - val_loss: 18.2574\n",
            "Epoch 388/500\n",
            "3/3 [==============================] - 0s 15ms/step - loss: 16.6079 - val_loss: 17.2955\n",
            "Epoch 389/500\n",
            "3/3 [==============================] - 0s 18ms/step - loss: 16.5132 - val_loss: 16.4177\n",
            "Epoch 390/500\n",
            "3/3 [==============================] - 0s 16ms/step - loss: 16.5091 - val_loss: 26.0153\n",
            "Epoch 391/500\n",
            "3/3 [==============================] - 0s 19ms/step - loss: 17.2118 - val_loss: 11.0168\n",
            "Epoch 392/500\n",
            "3/3 [==============================] - 0s 16ms/step - loss: 18.4332 - val_loss: 14.0884\n",
            "Epoch 393/500\n",
            "3/3 [==============================] - 0s 17ms/step - loss: 16.4567 - val_loss: 12.4947\n",
            "Epoch 394/500\n",
            "3/3 [==============================] - 0s 21ms/step - loss: 16.6876 - val_loss: 18.4195\n",
            "Epoch 395/500\n",
            "3/3 [==============================] - 0s 17ms/step - loss: 16.3872 - val_loss: 11.7739\n",
            "Epoch 396/500\n",
            "3/3 [==============================] - 0s 17ms/step - loss: 16.6416 - val_loss: 17.1299\n",
            "Epoch 397/500\n",
            "3/3 [==============================] - 0s 15ms/step - loss: 16.7908 - val_loss: 35.6652\n",
            "Epoch 398/500\n",
            "3/3 [==============================] - 0s 16ms/step - loss: 19.3805 - val_loss: 19.7299\n",
            "Epoch 399/500\n",
            "3/3 [==============================] - 0s 18ms/step - loss: 16.5118 - val_loss: 16.9183\n",
            "Epoch 400/500\n",
            "3/3 [==============================] - 0s 17ms/step - loss: 16.3836 - val_loss: 11.4259\n",
            "Epoch 401/500\n",
            "3/3 [==============================] - 0s 14ms/step - loss: 17.2350 - val_loss: 15.3786\n",
            "Epoch 402/500\n",
            "3/3 [==============================] - 0s 16ms/step - loss: 16.2729 - val_loss: 22.9396\n",
            "Epoch 403/500\n",
            "3/3 [==============================] - 0s 17ms/step - loss: 17.2167 - val_loss: 20.5647\n",
            "Epoch 404/500\n",
            "3/3 [==============================] - 0s 20ms/step - loss: 17.3652 - val_loss: 14.1118\n",
            "Epoch 405/500\n",
            "3/3 [==============================] - 0s 15ms/step - loss: 16.3537 - val_loss: 11.1106\n",
            "Epoch 406/500\n",
            "3/3 [==============================] - 0s 19ms/step - loss: 17.2740 - val_loss: 13.1678\n",
            "Epoch 407/500\n",
            "3/3 [==============================] - 0s 17ms/step - loss: 16.4609 - val_loss: 13.7409\n",
            "Epoch 408/500\n",
            "3/3 [==============================] - 0s 26ms/step - loss: 16.6687 - val_loss: 21.1739\n",
            "Epoch 409/500\n",
            "3/3 [==============================] - 0s 22ms/step - loss: 17.4290 - val_loss: 12.7944\n",
            "Epoch 410/500\n",
            "3/3 [==============================] - 0s 15ms/step - loss: 16.4654 - val_loss: 10.8783\n",
            "Epoch 411/500\n",
            "3/3 [==============================] - 0s 18ms/step - loss: 17.5336 - val_loss: 22.3534\n",
            "Epoch 412/500\n",
            "3/3 [==============================] - 0s 17ms/step - loss: 16.6226 - val_loss: 18.1415\n",
            "Epoch 413/500\n",
            "3/3 [==============================] - 0s 15ms/step - loss: 16.1949 - val_loss: 12.1013\n",
            "Epoch 414/500\n",
            "3/3 [==============================] - 0s 16ms/step - loss: 16.3706 - val_loss: 14.9298\n",
            "Epoch 415/500\n",
            "3/3 [==============================] - 0s 18ms/step - loss: 16.4415 - val_loss: 14.3797\n",
            "Epoch 416/500\n",
            "3/3 [==============================] - 0s 16ms/step - loss: 16.0566 - val_loss: 17.5847\n",
            "Epoch 417/500\n",
            "3/3 [==============================] - 0s 16ms/step - loss: 16.1552 - val_loss: 11.5874\n",
            "Epoch 418/500\n",
            "3/3 [==============================] - 0s 16ms/step - loss: 16.6733 - val_loss: 11.8428\n",
            "Epoch 419/500\n",
            "3/3 [==============================] - 0s 17ms/step - loss: 16.8267 - val_loss: 11.2323\n",
            "Epoch 420/500\n",
            "3/3 [==============================] - 0s 17ms/step - loss: 17.6731 - val_loss: 10.8624\n",
            "Epoch 421/500\n",
            "3/3 [==============================] - 0s 17ms/step - loss: 17.8672 - val_loss: 13.9961\n",
            "Epoch 422/500\n",
            "3/3 [==============================] - 0s 17ms/step - loss: 16.0922 - val_loss: 26.6520\n",
            "Epoch 423/500\n",
            "3/3 [==============================] - 0s 20ms/step - loss: 18.9731 - val_loss: 15.8900\n",
            "Epoch 424/500\n",
            "3/3 [==============================] - 0s 18ms/step - loss: 16.1069 - val_loss: 12.4946\n",
            "Epoch 425/500\n",
            "3/3 [==============================] - 0s 18ms/step - loss: 16.3365 - val_loss: 11.0238\n",
            "Epoch 426/500\n",
            "3/3 [==============================] - 0s 20ms/step - loss: 16.9126 - val_loss: 13.4630\n",
            "Epoch 427/500\n",
            "3/3 [==============================] - 0s 18ms/step - loss: 16.3620 - val_loss: 12.7958\n",
            "Epoch 428/500\n",
            "3/3 [==============================] - 0s 19ms/step - loss: 16.5999 - val_loss: 13.2288\n",
            "Epoch 429/500\n",
            "3/3 [==============================] - 0s 16ms/step - loss: 16.0521 - val_loss: 12.3643\n",
            "Epoch 430/500\n",
            "3/3 [==============================] - 0s 19ms/step - loss: 16.5952 - val_loss: 11.8568\n",
            "Epoch 431/500\n",
            "3/3 [==============================] - 0s 15ms/step - loss: 16.9339 - val_loss: 21.8651\n",
            "Epoch 432/500\n",
            "3/3 [==============================] - 0s 22ms/step - loss: 16.4995 - val_loss: 14.0175\n",
            "Epoch 433/500\n",
            "3/3 [==============================] - 0s 15ms/step - loss: 15.9516 - val_loss: 17.9976\n",
            "Epoch 434/500\n",
            "3/3 [==============================] - 0s 20ms/step - loss: 16.8394 - val_loss: 13.6766\n",
            "Epoch 435/500\n",
            "3/3 [==============================] - 0s 19ms/step - loss: 15.9848 - val_loss: 22.1082\n",
            "Epoch 436/500\n",
            "3/3 [==============================] - 0s 17ms/step - loss: 16.5826 - val_loss: 25.0786\n",
            "Epoch 437/500\n",
            "3/3 [==============================] - 0s 20ms/step - loss: 16.9089 - val_loss: 10.7549\n",
            "Epoch 438/500\n",
            "3/3 [==============================] - 0s 20ms/step - loss: 16.6543 - val_loss: 14.3679\n",
            "Epoch 439/500\n",
            "3/3 [==============================] - 0s 20ms/step - loss: 15.8435 - val_loss: 10.9696\n",
            "Epoch 440/500\n",
            "3/3 [==============================] - 0s 19ms/step - loss: 16.4856 - val_loss: 16.0867\n",
            "Epoch 441/500\n",
            "3/3 [==============================] - 0s 16ms/step - loss: 15.9403 - val_loss: 15.2326\n",
            "Epoch 442/500\n",
            "3/3 [==============================] - 0s 16ms/step - loss: 15.8665 - val_loss: 11.0068\n",
            "Epoch 443/500\n",
            "3/3 [==============================] - 0s 22ms/step - loss: 17.0061 - val_loss: 16.3592\n",
            "Epoch 444/500\n",
            "3/3 [==============================] - 0s 17ms/step - loss: 15.7658 - val_loss: 11.9362\n",
            "Epoch 445/500\n",
            "3/3 [==============================] - 0s 16ms/step - loss: 15.9720 - val_loss: 11.7445\n",
            "Epoch 446/500\n",
            "3/3 [==============================] - 0s 16ms/step - loss: 16.5278 - val_loss: 13.5617\n",
            "Epoch 447/500\n",
            "3/3 [==============================] - 0s 14ms/step - loss: 16.4108 - val_loss: 12.4433\n",
            "Epoch 448/500\n",
            "3/3 [==============================] - 0s 17ms/step - loss: 16.2637 - val_loss: 10.5261\n",
            "Epoch 449/500\n",
            "3/3 [==============================] - 0s 19ms/step - loss: 18.6320 - val_loss: 20.8600\n",
            "Epoch 450/500\n",
            "3/3 [==============================] - 0s 15ms/step - loss: 16.1111 - val_loss: 11.5487\n",
            "Epoch 451/500\n",
            "3/3 [==============================] - 0s 16ms/step - loss: 16.8024 - val_loss: 11.5373\n",
            "Epoch 452/500\n",
            "3/3 [==============================] - 0s 15ms/step - loss: 16.1263 - val_loss: 21.9169\n",
            "Epoch 453/500\n",
            "3/3 [==============================] - 0s 17ms/step - loss: 16.2654 - val_loss: 17.9246\n",
            "Epoch 454/500\n",
            "3/3 [==============================] - 0s 22ms/step - loss: 15.9663 - val_loss: 16.2514\n",
            "Epoch 455/500\n",
            "3/3 [==============================] - 0s 16ms/step - loss: 15.7153 - val_loss: 16.2744\n",
            "Epoch 456/500\n",
            "3/3 [==============================] - 0s 23ms/step - loss: 15.6776 - val_loss: 10.5719\n",
            "Epoch 457/500\n",
            "3/3 [==============================] - 0s 20ms/step - loss: 16.8042 - val_loss: 15.3962\n",
            "Epoch 458/500\n",
            "3/3 [==============================] - 0s 17ms/step - loss: 15.7635 - val_loss: 27.7295\n",
            "Epoch 459/500\n",
            "3/3 [==============================] - 0s 20ms/step - loss: 17.9149 - val_loss: 11.7601\n",
            "Epoch 460/500\n",
            "3/3 [==============================] - 0s 19ms/step - loss: 15.7721 - val_loss: 16.9116\n",
            "Epoch 461/500\n",
            "3/3 [==============================] - 0s 16ms/step - loss: 15.6340 - val_loss: 11.3428\n",
            "Epoch 462/500\n",
            "3/3 [==============================] - 0s 20ms/step - loss: 16.0747 - val_loss: 16.9084\n",
            "Epoch 463/500\n",
            "3/3 [==============================] - 0s 18ms/step - loss: 15.9689 - val_loss: 12.3231\n",
            "Epoch 464/500\n",
            "3/3 [==============================] - 0s 21ms/step - loss: 15.8446 - val_loss: 11.0943\n",
            "Epoch 465/500\n",
            "3/3 [==============================] - 0s 15ms/step - loss: 16.5077 - val_loss: 24.7635\n",
            "Epoch 466/500\n",
            "3/3 [==============================] - 0s 17ms/step - loss: 16.3018 - val_loss: 16.1498\n",
            "Epoch 467/500\n",
            "3/3 [==============================] - 0s 16ms/step - loss: 15.6513 - val_loss: 13.7221\n",
            "Epoch 468/500\n",
            "3/3 [==============================] - 0s 17ms/step - loss: 16.2306 - val_loss: 19.0118\n",
            "Epoch 469/500\n",
            "3/3 [==============================] - 0s 21ms/step - loss: 15.8927 - val_loss: 14.6495\n",
            "Epoch 470/500\n",
            "3/3 [==============================] - 0s 17ms/step - loss: 15.5083 - val_loss: 10.6382\n",
            "Epoch 471/500\n",
            "3/3 [==============================] - 0s 16ms/step - loss: 17.1382 - val_loss: 10.5704\n",
            "Epoch 472/500\n",
            "3/3 [==============================] - 0s 14ms/step - loss: 18.1704 - val_loss: 19.8628\n",
            "Epoch 473/500\n",
            "3/3 [==============================] - 0s 17ms/step - loss: 15.8459 - val_loss: 14.3033\n",
            "Epoch 474/500\n",
            "3/3 [==============================] - 0s 16ms/step - loss: 15.6268 - val_loss: 12.0545\n",
            "Epoch 475/500\n",
            "3/3 [==============================] - 0s 16ms/step - loss: 16.5069 - val_loss: 13.1984\n",
            "Epoch 476/500\n",
            "3/3 [==============================] - 0s 18ms/step - loss: 15.7879 - val_loss: 13.9179\n",
            "Epoch 477/500\n",
            "3/3 [==============================] - 0s 16ms/step - loss: 15.4703 - val_loss: 23.3977\n",
            "Epoch 478/500\n",
            "3/3 [==============================] - 0s 20ms/step - loss: 16.8474 - val_loss: 12.8693\n",
            "Epoch 479/500\n",
            "3/3 [==============================] - 0s 19ms/step - loss: 15.5363 - val_loss: 12.4721\n",
            "Epoch 480/500\n",
            "3/3 [==============================] - 0s 19ms/step - loss: 15.9153 - val_loss: 15.4023\n",
            "Epoch 481/500\n",
            "3/3 [==============================] - 0s 23ms/step - loss: 15.5111 - val_loss: 12.5910\n",
            "Epoch 482/500\n",
            "3/3 [==============================] - 0s 19ms/step - loss: 16.2099 - val_loss: 13.5051\n",
            "Epoch 483/500\n",
            "3/3 [==============================] - 0s 18ms/step - loss: 16.3774 - val_loss: 14.0742\n",
            "Epoch 484/500\n",
            "3/3 [==============================] - 0s 18ms/step - loss: 15.4159 - val_loss: 19.9855\n",
            "Epoch 485/500\n",
            "3/3 [==============================] - 0s 22ms/step - loss: 15.7590 - val_loss: 13.1521\n",
            "Epoch 486/500\n",
            "3/3 [==============================] - 0s 18ms/step - loss: 16.3926 - val_loss: 15.5971\n",
            "Epoch 487/500\n",
            "3/3 [==============================] - 0s 19ms/step - loss: 15.6000 - val_loss: 10.6133\n",
            "Epoch 488/500\n",
            "3/3 [==============================] - 0s 16ms/step - loss: 16.6431 - val_loss: 11.0834\n",
            "Epoch 489/500\n",
            "3/3 [==============================] - 0s 17ms/step - loss: 15.5245 - val_loss: 24.8047\n",
            "Epoch 490/500\n",
            "3/3 [==============================] - 0s 20ms/step - loss: 18.8727 - val_loss: 18.4811\n",
            "Epoch 491/500\n",
            "3/3 [==============================] - 0s 17ms/step - loss: 15.5544 - val_loss: 13.6172\n",
            "Epoch 492/500\n",
            "3/3 [==============================] - 0s 17ms/step - loss: 15.4341 - val_loss: 13.4460\n",
            "Epoch 493/500\n",
            "3/3 [==============================] - 0s 18ms/step - loss: 15.4761 - val_loss: 11.7710\n",
            "Epoch 494/500\n",
            "3/3 [==============================] - 0s 17ms/step - loss: 16.0801 - val_loss: 10.4829\n",
            "Epoch 495/500\n",
            "3/3 [==============================] - 0s 22ms/step - loss: 16.9871 - val_loss: 14.1427\n",
            "Epoch 496/500\n",
            "3/3 [==============================] - 0s 16ms/step - loss: 15.3746 - val_loss: 22.5106\n",
            "Epoch 497/500\n",
            "3/3 [==============================] - 0s 23ms/step - loss: 16.1768 - val_loss: 18.1588\n",
            "Epoch 498/500\n",
            "3/3 [==============================] - 0s 20ms/step - loss: 15.5368 - val_loss: 16.9451\n",
            "Epoch 499/500\n",
            "3/3 [==============================] - 0s 17ms/step - loss: 17.2793 - val_loss: 14.1013\n",
            "Epoch 500/500\n",
            "3/3 [==============================] - 0s 17ms/step - loss: 16.4878 - val_loss: 12.5800\n"
          ],
          "name": "stdout"
        },
        {
          "output_type": "execute_result",
          "data": {
            "text/plain": [
              "<keras.callbacks.History at 0x7f8035ab4c50>"
            ]
          },
          "metadata": {},
          "execution_count": 22
        }
      ]
    },
    {
      "cell_type": "code",
      "metadata": {
        "colab": {
          "base_uri": "https://localhost:8080/"
        },
        "id": "mb4k-F0FzMop",
        "outputId": "4d701c4e-5edd-4bae-bfa4-dec3d264ac05"
      },
      "source": [
        "model.evaluate(x_test, y_test)"
      ],
      "execution_count": null,
      "outputs": [
        {
          "output_type": "stream",
          "text": [
            "5/5 [==============================] - 0s 3ms/step - loss: 20.8662\n"
          ],
          "name": "stdout"
        },
        {
          "output_type": "execute_result",
          "data": {
            "text/plain": [
              "20.86615562438965"
            ]
          },
          "metadata": {},
          "execution_count": 12
        }
      ]
    },
    {
      "cell_type": "markdown",
      "metadata": {
        "id": "BbLoVUcZ1o77"
      },
      "source": [
        "*   train_loss: 16.4878\n",
        "*   val_loss: 12.5800\n",
        "*   test_loss: 20.8662"
      ]
    },
    {
      "cell_type": "markdown",
      "metadata": {
        "id": "l0X7yoZFBRZR"
      },
      "source": [
        "## 4.2 mnist"
      ]
    },
    {
      "cell_type": "code",
      "metadata": {
        "colab": {
          "base_uri": "https://localhost:8080/"
        },
        "id": "82o9tF8hzxFu",
        "outputId": "468cc69e-a8aa-45fe-ec65-e64e02e4d0bc"
      },
      "source": [
        "import tensorflow as tf\n",
        "\n",
        "(x_train, y_train), (x_test, y_test) = tf.keras.datasets.mnist.load_data()\n",
        "print(x_train.shape, y_train.shape)\n",
        "print(x_test.shape, y_test.shape)"
      ],
      "execution_count": null,
      "outputs": [
        {
          "output_type": "stream",
          "text": [
            "Downloading data from https://storage.googleapis.com/tensorflow/tf-keras-datasets/mnist.npz\n",
            "11493376/11490434 [==============================] - 0s 0us/step\n",
            "11501568/11490434 [==============================] - 0s 0us/step\n",
            "(60000, 28, 28) (60000,)\n",
            "(10000, 28, 28) (10000,)\n"
          ],
          "name": "stdout"
        }
      ]
    },
    {
      "cell_type": "code",
      "metadata": {
        "colab": {
          "base_uri": "https://localhost:8080/",
          "height": 301
        },
        "id": "fHKzZfIyBiRD",
        "outputId": "f618445d-0c3d-4bdd-9df3-1faf7841a837"
      },
      "source": [
        "import matplotlib.pyplot as plt\n",
        "\n",
        "print(y_train[100])\n",
        "plt.imshow(x_train[100])"
      ],
      "execution_count": null,
      "outputs": [
        {
          "output_type": "stream",
          "text": [
            "5\n"
          ],
          "name": "stdout"
        },
        {
          "output_type": "execute_result",
          "data": {
            "text/plain": [
              "<matplotlib.image.AxesImage at 0x7f7fdcb69c90>"
            ]
          },
          "metadata": {},
          "execution_count": 26
        },
        {
          "output_type": "display_data",
          "data": {
            "image/png": "[encoded data removed]",
            "text/plain": [
              "<Figure size 432x288 with 1 Axes>"
            ]
          },
          "metadata": {
            "needs_background": "light"
          }
        }
      ]
    },
    {
      "cell_type": "code",
      "metadata": {
        "colab": {
          "base_uri": "https://localhost:8080/"
        },
        "id": "RQqcQz7hCQEb",
        "outputId": "cda41442-86dd-453d-83d3-55cd88589d77"
      },
      "source": [
        "# 위에 픽셀 한칸마다 숫자가 들어가 있어서 이렇게 표현돼\n",
        "\n",
        "print(x_train[100])"
      ],
      "execution_count": null,
      "outputs": [
        {
          "output_type": "stream",
          "text": [
            "[[  0   0   0   0   0   0   0   0   0   0   0   0   0   0   0   0   0   0\n",
            "    0   0   0   0   0   0   0   0   0   0]\n",
            " [  0   0   0   0   0   0   0   0   0   0   0   0   0   0   0   0   0   0\n",
            "    0   0   0   0   0   0   0   0   0   0]\n",
            " [  0   0   0   0   0   0   0   0   0   0   0   0   0   0   0   0   0   0\n",
            "    0   0   0   0   0   0   0   0   0   0]\n",
            " [  0   0   0   0   0   0   0   0   0   0   0   0   0   0   0   0   0   0\n",
            "    0   0   0   0   0   0   0   0   0   0]\n",
            " [  0   0   0   0   0   0   0   0   0   0   0   0   0   0   0   0   0   0\n",
            "    0   0   0   0   0   0   0   0   0   0]\n",
            " [  0   0   0   0   0   0   0   0   0   0   0   0   0   0   0   0   0   0\n",
            "    0   0   0   0   0   0   0   0   0   0]\n",
            " [  0   0   0   0   0   0   0   0   0   0   0   0   0   2  18  46 136 136\n",
            "  244 255 241 103   0   0   0   0   0   0]\n",
            " [  0   0   0   0   0   0   0   0   0   0   0  15  94 163 253 253 253 253\n",
            "  238 218 204  35   0   0   0   0   0   0]\n",
            " [  0   0   0   0   0   0   0   0   0   0   0 131 253 253 253 253 237 200\n",
            "   57   0   0   0   0   0   0   0   0   0]\n",
            " [  0   0   0   0   0   0   0   0   0   0 155 246 253 247 108  65  45   0\n",
            "    0   0   0   0   0   0   0   0   0   0]\n",
            " [  0   0   0   0   0   0   0   0   0   0 207 253 253 230   0   0   0   0\n",
            "    0   0   0   0   0   0   0   0   0   0]\n",
            " [  0   0   0   0   0   0   0   0   0   0 157 253 253 125   0   0   0   0\n",
            "    0   0   0   0   0   0   0   0   0   0]\n",
            " [  0   0   0   0   0   0   0   0   0   0  89 253 250  57   0   0   0   0\n",
            "    0   0   0   0   0   0   0   0   0   0]\n",
            " [  0   0   0   0   0   0   0   0   0   0  89 253 247   0   0   0   0   0\n",
            "    0   0   0   0   0   0   0   0   0   0]\n",
            " [  0   0   0   0   0   0   0   0   0   0  89 253 247   0   0   0   0   0\n",
            "    0   0   0   0   0   0   0   0   0   0]\n",
            " [  0   0   0   0   0   0   0   0   0   0  89 253 247   0   0   0   0   0\n",
            "    0   0   0   0   0   0   0   0   0   0]\n",
            " [  0   0   0   0   0   0   0   0   0   0  21 231 249  34   0   0   0   0\n",
            "    0   0   0   0   0   0   0   0   0   0]\n",
            " [  0   0   0   0   0   0   0   0   0   0   0 225 253 231 213 213 123  16\n",
            "    0   0   0   0   0   0   0   0   0   0]\n",
            " [  0   0   0   0   0   0   0   0   0   0   0 172 253 253 253 253 253 190\n",
            "   63   0   0   0   0   0   0   0   0   0]\n",
            " [  0   0   0   0   0   0   0   0   0   0   0   2 116  72 124 209 253 253\n",
            "  141   0   0   0   0   0   0   0   0   0]\n",
            " [  0   0   0   0   0   0   0   0   0   0   0   0   0   0   0  25 219 253\n",
            "  206   3   0   0   0   0   0   0   0   0]\n",
            " [  0   0   0   0   0   0   0   0   0   0   0   0   0   0   0   0 104 246\n",
            "  253   5   0   0   0   0   0   0   0   0]\n",
            " [  0   0   0   0   0   0   0   0   0   0   0   0   0   0   0   0   0 213\n",
            "  253   5   0   0   0   0   0   0   0   0]\n",
            " [  0   0   0   0   0   0   0   0   0   0   0   0   0   0   0   0  26 226\n",
            "  253   5   0   0   0   0   0   0   0   0]\n",
            " [  0   0   0   0   0   0   0   0   0   0   0   0   0   0   0   0 132 253\n",
            "  209   3   0   0   0   0   0   0   0   0]\n",
            " [  0   0   0   0   0   0   0   0   0   0   0   0   0   0   0   0  78 253\n",
            "   86   0   0   0   0   0   0   0   0   0]\n",
            " [  0   0   0   0   0   0   0   0   0   0   0   0   0   0   0   0   0   0\n",
            "    0   0   0   0   0   0   0   0   0   0]\n",
            " [  0   0   0   0   0   0   0   0   0   0   0   0   0   0   0   0   0   0\n",
            "    0   0   0   0   0   0   0   0   0   0]]\n"
          ],
          "name": "stdout"
        }
      ]
    },
    {
      "cell_type": "code",
      "metadata": {
        "colab": {
          "base_uri": "https://localhost:8080/"
        },
        "id": "8pxJsqhvC9SZ",
        "outputId": "a4c2dc93-4fa9-4e20-bc8e-273532d63f2a"
      },
      "source": [
        "# 위의 28 * 28 = 784개의 숫자를 각각 컬럼으로 만들어서 60000장의 이미지를 표의 데이터로 바꿔줌\n",
        "\n",
        "x_train = x_train.reshape(60000, 784)\n",
        "x_test = x_test.reshape(10000, 784)\n",
        "print(x_train.shape, x_test.shape)"
      ],
      "execution_count": null,
      "outputs": [
        {
          "output_type": "stream",
          "text": [
            "(60000, 784) (10000, 784)\n"
          ],
          "name": "stdout"
        }
      ]
    },
    {
      "cell_type": "code",
      "metadata": {
        "colab": {
          "base_uri": "https://localhost:8080/"
        },
        "id": "Rk5tHG5ODVxD",
        "outputId": "3371f010-a6b5-4bc6-8ec1-3e8acf068859"
      },
      "source": [
        "# 종속변수를 원핫인코딩\n",
        "\n",
        "import pandas as pd\n",
        "y_train = pd.get_dummies(y_train)\n",
        "y_test = pd.get_dummies(y_test)\n",
        "print(y_train.shape, y_test.shape)"
      ],
      "execution_count": null,
      "outputs": [
        {
          "output_type": "stream",
          "text": [
            "(60000, 10) (10000, 10)\n"
          ],
          "name": "stdout"
        }
      ]
    },
    {
      "cell_type": "code",
      "metadata": {
        "colab": {
          "base_uri": "https://localhost:8080/",
          "height": 204
        },
        "id": "YwFp7mvGEFB6",
        "outputId": "82eca2a3-ae90-4af5-83cc-1280bf6885d9"
      },
      "source": [
        "y_train.head()"
      ],
      "execution_count": null,
      "outputs": [
        {
          "output_type": "execute_result",
          "data": {
            "text/html": [
              "<div>\n",
              "<style scoped>\n",
              "    .dataframe tbody tr th:only-of-type {\n",
              "        vertical-align: middle;\n",
              "    }\n",
              "\n",
              "    .dataframe tbody tr th {\n",
              "        vertical-align: top;\n",
              "    }\n",
              "\n",
              "    .dataframe thead th {\n",
              "        text-align: right;\n",
              "    }\n",
              "</style>\n",
              "<table border=\"1\" class=\"dataframe\">\n",
              "  <thead>\n",
              "    <tr style=\"text-align: right;\">\n",
              "      <th></th>\n",
              "      <th>0</th>\n",
              "      <th>1</th>\n",
              "      <th>2</th>\n",
              "      <th>3</th>\n",
              "      <th>4</th>\n",
              "      <th>5</th>\n",
              "      <th>6</th>\n",
              "      <th>7</th>\n",
              "      <th>8</th>\n",
              "      <th>9</th>\n",
              "    </tr>\n",
              "  </thead>\n",
              "  <tbody>\n",
              "    <tr>\n",
              "      <th>0</th>\n",
              "      <td>0</td>\n",
              "      <td>0</td>\n",
              "      <td>0</td>\n",
              "      <td>0</td>\n",
              "      <td>0</td>\n",
              "      <td>1</td>\n",
              "      <td>0</td>\n",
              "      <td>0</td>\n",
              "      <td>0</td>\n",
              "      <td>0</td>\n",
              "    </tr>\n",
              "    <tr>\n",
              "      <th>1</th>\n",
              "      <td>1</td>\n",
              "      <td>0</td>\n",
              "      <td>0</td>\n",
              "      <td>0</td>\n",
              "      <td>0</td>\n",
              "      <td>0</td>\n",
              "      <td>0</td>\n",
              "      <td>0</td>\n",
              "      <td>0</td>\n",
              "      <td>0</td>\n",
              "    </tr>\n",
              "    <tr>\n",
              "      <th>2</th>\n",
              "      <td>0</td>\n",
              "      <td>0</td>\n",
              "      <td>0</td>\n",
              "      <td>0</td>\n",
              "      <td>1</td>\n",
              "      <td>0</td>\n",
              "      <td>0</td>\n",
              "      <td>0</td>\n",
              "      <td>0</td>\n",
              "      <td>0</td>\n",
              "    </tr>\n",
              "    <tr>\n",
              "      <th>3</th>\n",
              "      <td>0</td>\n",
              "      <td>1</td>\n",
              "      <td>0</td>\n",
              "      <td>0</td>\n",
              "      <td>0</td>\n",
              "      <td>0</td>\n",
              "      <td>0</td>\n",
              "      <td>0</td>\n",
              "      <td>0</td>\n",
              "      <td>0</td>\n",
              "    </tr>\n",
              "    <tr>\n",
              "      <th>4</th>\n",
              "      <td>0</td>\n",
              "      <td>0</td>\n",
              "      <td>0</td>\n",
              "      <td>0</td>\n",
              "      <td>0</td>\n",
              "      <td>0</td>\n",
              "      <td>0</td>\n",
              "      <td>0</td>\n",
              "      <td>0</td>\n",
              "      <td>1</td>\n",
              "    </tr>\n",
              "  </tbody>\n",
              "</table>\n",
              "</div>"
            ],
            "text/plain": [
              "   0  1  2  3  4  5  6  7  8  9\n",
              "0  0  0  0  0  0  1  0  0  0  0\n",
              "1  1  0  0  0  0  0  0  0  0  0\n",
              "2  0  0  0  0  1  0  0  0  0  0\n",
              "3  0  1  0  0  0  0  0  0  0  0\n",
              "4  0  0  0  0  0  0  0  0  0  1"
            ]
          },
          "metadata": {},
          "execution_count": 36
        }
      ]
    },
    {
      "cell_type": "code",
      "metadata": {
        "colab": {
          "base_uri": "https://localhost:8080/"
        },
        "id": "wBwh_GuPEO59",
        "outputId": "092edd43-7867-4ff4-a4d6-d0dc1e93afe0"
      },
      "source": [
        "# model 만들기\n",
        "\n",
        "X = tf.keras.layers.Input(shape=[784])\n",
        "Y = tf.keras.layers.Dense(10, activation='softmax')(X)\n",
        "model = tf.keras.models.Model(X, Y)\n",
        "model.compile(loss='categorical_crossentropy', metrics='accuracy')\n",
        "\n",
        "model.summary()"
      ],
      "execution_count": null,
      "outputs": [
        {
          "output_type": "stream",
          "text": [
            "Model: \"model_5\"\n",
            "_________________________________________________________________\n",
            "Layer (type)                 Output Shape              Param #   \n",
            "=================================================================\n",
            "input_9 (InputLayer)         [(None, 784)]             0         \n",
            "_________________________________________________________________\n",
            "dense_21 (Dense)             (None, 10)                7850      \n",
            "=================================================================\n",
            "Total params: 7,850\n",
            "Trainable params: 7,850\n",
            "Non-trainable params: 0\n",
            "_________________________________________________________________\n"
          ],
          "name": "stdout"
        }
      ]
    },
    {
      "cell_type": "code",
      "metadata": {
        "colab": {
          "base_uri": "https://localhost:8080/"
        },
        "id": "xp6JMhp7E6-r",
        "outputId": "b34f1014-0e1d-4677-b070-1d253c18f082"
      },
      "source": [
        "model.fit(x_train, y_train, epochs=10, batch_size=128, shuffle=True, validation_split=0.2)"
      ],
      "execution_count": null,
      "outputs": [
        {
          "output_type": "stream",
          "text": [
            "Epoch 1/10\n",
            "375/375 [==============================] - 1s 4ms/step - loss: 3.4474 - accuracy: 0.8860 - val_loss: 5.2886 - val_accuracy: 0.8334\n",
            "Epoch 2/10\n",
            "375/375 [==============================] - 1s 3ms/step - loss: 3.3977 - accuracy: 0.8865 - val_loss: 3.5854 - val_accuracy: 0.8892\n",
            "Epoch 3/10\n",
            "375/375 [==============================] - 1s 3ms/step - loss: 3.3652 - accuracy: 0.8880 - val_loss: 5.1313 - val_accuracy: 0.8539\n",
            "Epoch 4/10\n",
            "375/375 [==============================] - 1s 4ms/step - loss: 3.3428 - accuracy: 0.8879 - val_loss: 3.7687 - val_accuracy: 0.8852\n",
            "Epoch 5/10\n",
            "375/375 [==============================] - 1s 3ms/step - loss: 3.3095 - accuracy: 0.8874 - val_loss: 3.1273 - val_accuracy: 0.9077\n",
            "Epoch 6/10\n",
            "375/375 [==============================] - 1s 3ms/step - loss: 3.2384 - accuracy: 0.8878 - val_loss: 3.6871 - val_accuracy: 0.8921\n",
            "Epoch 7/10\n",
            "375/375 [==============================] - 1s 3ms/step - loss: 3.2750 - accuracy: 0.8889 - val_loss: 3.8198 - val_accuracy: 0.8887\n",
            "Epoch 8/10\n",
            "375/375 [==============================] - 1s 3ms/step - loss: 3.2217 - accuracy: 0.8897 - val_loss: 3.3805 - val_accuracy: 0.8963\n",
            "Epoch 9/10\n",
            "375/375 [==============================] - 1s 3ms/step - loss: 3.2369 - accuracy: 0.8896 - val_loss: 3.4547 - val_accuracy: 0.8948\n",
            "Epoch 10/10\n",
            "375/375 [==============================] - 1s 3ms/step - loss: 3.2033 - accuracy: 0.8883 - val_loss: 3.9314 - val_accuracy: 0.8798\n"
          ],
          "name": "stdout"
        },
        {
          "output_type": "execute_result",
          "data": {
            "text/plain": [
              "<keras.callbacks.History at 0x7f7fe2650650>"
            ]
          },
          "metadata": {},
          "execution_count": 45
        }
      ]
    },
    {
      "cell_type": "code",
      "metadata": {
        "colab": {
          "base_uri": "https://localhost:8080/"
        },
        "id": "GXBNsbnhFGb1",
        "outputId": "7ae97696-6513-411e-f7a2-97ec6f3cc811"
      },
      "source": [
        "model.evaluate(x_test, y_test)"
      ],
      "execution_count": null,
      "outputs": [
        {
          "output_type": "stream",
          "text": [
            "313/313 [==============================] - 1s 2ms/step - loss: 3.9814 - accuracy: 0.8797\n"
          ],
          "name": "stdout"
        },
        {
          "output_type": "execute_result",
          "data": {
            "text/plain": [
              "[3.9813530445098877, 0.8797000050544739]"
            ]
          },
          "metadata": {},
          "execution_count": 46
        }
      ]
    },
    {
      "cell_type": "code",
      "metadata": {
        "id": "uu9wNtGLFYH6"
      },
      "source": [
        ""
      ],
      "execution_count": null,
      "outputs": []
    }
  ]
}