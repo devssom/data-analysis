{
  "nbformat": 4,
  "nbformat_minor": 0,
  "metadata": {
    "colab": {
      "name": "코로나 확진자 데이터 분석.ipynb",
      "provenance": [],
      "collapsed_sections": [
        "I_mtcjTuziYw",
        "WgIjfEF4zn1F",
        "UPAw6qkdzqdr",
        "LddLbyyCztji"
      ],
      "toc_visible": true,
      "authorship_tag": "ABX9TyM2e/ae0pe7uCVkyOdcNlWP",
      "include_colab_link": true
    },
    "kernelspec": {
      "name": "python3",
      "display_name": "Python 3"
    },
    "language_info": {
      "name": "python"
    }
  },
  "cells": [
    {
      "cell_type": "markdown",
      "metadata": {
        "id": "view-in-github",
        "colab_type": "text"
      },
      "source": [
        "<a href=\"https://colab.research.google.com/github/devssom/data-analysis/blob/main/%EC%BD%94%EB%A1%9C%EB%82%98_%ED%99%95%EC%A7%84%EC%9E%90_%EB%8D%B0%EC%9D%B4%ED%84%B0_%EB%B6%84%EC%84%9D.ipynb\" target=\"_parent\"><img src=\"https://colab.research.google.com/assets/colab-badge.svg\" alt=\"Open In Colab\"/></a>"
      ]
    },
    {
      "cell_type": "markdown",
      "metadata": {
        "id": "PRwqNYKqzbOp"
      },
      "source": [
        "# 코로나 확진자 데이터 분석"
      ]
    },
    {
      "cell_type": "markdown",
      "metadata": {
        "id": "I_mtcjTuziYw"
      },
      "source": [
        "## 프로젝트 목표\n",
        "- 서울시 코로나19 확진자 현황 데이터를 분석하여 유의미한 정보 도출\n",
        "- 탐색적 데이터 분석을 수행하기 위한 데이터 정제, 특성 엔지니어링, 시각화 방법 학습"
      ]
    },
    {
      "cell_type": "markdown",
      "metadata": {
        "id": "WgIjfEF4zn1F"
      },
      "source": [
        "## 프로젝트 목차\n",
        "1. **데이터 읽기:** 코로나 데이터를 불러오고 Dataframe 구조를 확인<br>\n",
        "    1.1. 데이터 불러오기<br>\n",
        "<br> \n",
        "2. **데이터 정제:** 비어 있는 데이터 또는 쓸모 없는 데이터를 삭제<br>\n",
        "    2.1. 비어있는 column 지우기<br>\n",
        "<br>\n",
        "3. **데이터 시각화:** 각 변수 별로 추가적인 정제 또는 feature engineering 과정을 거치고 시각화를 통하여 데이터의 특성 파악<br>\n",
        "    3.1. 확진일 데이터 전처리하기<br>\n",
        "    3.2. 월별 확진자 수 출력<br>\n",
        "    3.3. 8월 일별 확진자 수 출력<br>\n",
        "    3.4. 지역별 확진자 수 출력<br>\n",
        "    3.5. 8월달 지역별 확진자 수 출력<br>\n",
        "    3.6. 월별 관악구 확진자 수 출력<br>\n",
        "    3.7. 서울 지역에서 확진자를 지도에 출력<br>"
      ]
    },
    {
      "cell_type": "markdown",
      "metadata": {
        "id": "UPAw6qkdzqdr"
      },
      "source": [
        "## 데이터 출처\n",
        "-  https://www.data.go.kr/tcs/dss/selectFileDataDetailView.do?publicDataPk=15063273"
      ]
    },
    {
      "cell_type": "markdown",
      "metadata": {
        "id": "LddLbyyCztji"
      },
      "source": [
        "## 프로젝트 개요\n",
        "\n",
        "2020년 초에 발생한 코로나19 바이러스는 세계적으로 대유행하였고 이에 대한 많은 분석이 이루어지고 있습니다. 유행 초기엔 이를 분석할 데이터가 충분하지 않았지만 6개월 이상 지난 지금은 다양한 데이터 기관에서 코로나 관련 데이터를 공공으로 제공하고 있습니다.\n",
        "\n",
        "이번 프로젝트에서는 국내 공공데이터 포털에서 제공하는 `서울시 코로나19 확진자 현황` 데이터를 바탕으로 탐색적 데이터 분석을 수행해보겠습니다. 국내 데이터 중 확진자 비율이 제일 높고 사람이 제일 많은 서울시의 데이터를 선정하였으며, 이를 바탕으로 코로나19의 확진 추이 및 환자 특성에 대해서 데이터를 바탕으로 알아봅시다.\n",
        "\n"
      ]
    },
    {
      "cell_type": "markdown",
      "metadata": {
        "id": "2OmODmBjz7P0"
      },
      "source": [
        "# 데이터 읽기"
      ]
    },
    {
      "cell_type": "markdown",
      "metadata": {
        "id": "ZS0r_rJi0AJR"
      },
      "source": [
        "## 데이터 불러오기"
      ]
    },
    {
      "cell_type": "code",
      "metadata": {
        "id": "dZQfloRnztLq"
      },
      "source": [
        "import numpy as np\n",
        "import pandas as pd\n",
        "import matplotlib.pyplot as plt\n",
        "import seaborn as sns"
      ],
      "execution_count": 74,
      "outputs": []
    },
    {
      "cell_type": "code",
      "metadata": {
        "id": "uXWHf2fXzkyu"
      },
      "source": [
        "# pd.read_csv 로 데이터프레임 형태로 읽어오기\n",
        "\n",
        "corona_all = pd.read_excel(\"/content/서울시 코로나 확진자 데이터.xlsx\")"
      ],
      "execution_count": 44,
      "outputs": []
    },
    {
      "cell_type": "code",
      "metadata": {
        "colab": {
          "base_uri": "https://localhost:8080/",
          "height": 204
        },
        "id": "zDlkmIt6gQ0m",
        "outputId": "4d152aeb-bd62-441b-94af-cb05e68497e4"
      },
      "source": [
        "# 상위 5개 데이터 출력\n",
        "corona_all.head()"
      ],
      "execution_count": 55,
      "outputs": [
        {
          "output_type": "execute_result",
          "data": {
            "text/html": [
              "<div>\n",
              "<style scoped>\n",
              "    .dataframe tbody tr th:only-of-type {\n",
              "        vertical-align: middle;\n",
              "    }\n",
              "\n",
              "    .dataframe tbody tr th {\n",
              "        vertical-align: top;\n",
              "    }\n",
              "\n",
              "    .dataframe thead th {\n",
              "        text-align: right;\n",
              "    }\n",
              "</style>\n",
              "<table border=\"1\" class=\"dataframe\">\n",
              "  <thead>\n",
              "    <tr style=\"text-align: right;\">\n",
              "      <th></th>\n",
              "      <th>연번</th>\n",
              "      <th>확진일</th>\n",
              "      <th>환자번호</th>\n",
              "      <th>국적</th>\n",
              "      <th>환자정보</th>\n",
              "      <th>지역</th>\n",
              "      <th>여행력</th>\n",
              "      <th>접촉력</th>\n",
              "      <th>조치사항</th>\n",
              "      <th>상태</th>\n",
              "      <th>이동경로</th>\n",
              "      <th>등록일</th>\n",
              "      <th>수정일</th>\n",
              "      <th>노출여부</th>\n",
              "    </tr>\n",
              "  </thead>\n",
              "  <tbody>\n",
              "    <tr>\n",
              "      <th>0</th>\n",
              "      <td>60663</td>\n",
              "      <td>2021-07-22</td>\n",
              "      <td>NaN</td>\n",
              "      <td>NaN</td>\n",
              "      <td>NaN</td>\n",
              "      <td>종로구</td>\n",
              "      <td>NaN</td>\n",
              "      <td>기타 확진자 접촉</td>\n",
              "      <td>NaN</td>\n",
              "      <td>-</td>\n",
              "      <td>NaN</td>\n",
              "      <td>2021-07-23 11:00:37</td>\n",
              "      <td>2021-07-23 11:00:37</td>\n",
              "      <td>Y</td>\n",
              "    </tr>\n",
              "    <tr>\n",
              "      <th>1</th>\n",
              "      <td>60662</td>\n",
              "      <td>2021-07-22</td>\n",
              "      <td>NaN</td>\n",
              "      <td>NaN</td>\n",
              "      <td>NaN</td>\n",
              "      <td>관악구</td>\n",
              "      <td>NaN</td>\n",
              "      <td>관악구 소재 사우나 관련(?21.7.)</td>\n",
              "      <td>NaN</td>\n",
              "      <td>-</td>\n",
              "      <td>NaN</td>\n",
              "      <td>2021-07-23 11:00:37</td>\n",
              "      <td>2021-07-23 11:00:37</td>\n",
              "      <td>Y</td>\n",
              "    </tr>\n",
              "    <tr>\n",
              "      <th>2</th>\n",
              "      <td>60661</td>\n",
              "      <td>2021-07-22</td>\n",
              "      <td>NaN</td>\n",
              "      <td>NaN</td>\n",
              "      <td>NaN</td>\n",
              "      <td>성북구</td>\n",
              "      <td>NaN</td>\n",
              "      <td>기타 확진자 접촉</td>\n",
              "      <td>NaN</td>\n",
              "      <td>-</td>\n",
              "      <td>NaN</td>\n",
              "      <td>2021-07-23 11:00:37</td>\n",
              "      <td>2021-07-23 11:00:37</td>\n",
              "      <td>Y</td>\n",
              "    </tr>\n",
              "    <tr>\n",
              "      <th>3</th>\n",
              "      <td>60660</td>\n",
              "      <td>2021-07-22</td>\n",
              "      <td>NaN</td>\n",
              "      <td>NaN</td>\n",
              "      <td>NaN</td>\n",
              "      <td>성북구</td>\n",
              "      <td>NaN</td>\n",
              "      <td>기타 확진자 접촉</td>\n",
              "      <td>NaN</td>\n",
              "      <td>-</td>\n",
              "      <td>NaN</td>\n",
              "      <td>2021-07-23 11:00:37</td>\n",
              "      <td>2021-07-23 11:00:37</td>\n",
              "      <td>Y</td>\n",
              "    </tr>\n",
              "    <tr>\n",
              "      <th>4</th>\n",
              "      <td>60659</td>\n",
              "      <td>2021-07-22</td>\n",
              "      <td>NaN</td>\n",
              "      <td>NaN</td>\n",
              "      <td>NaN</td>\n",
              "      <td>성북구</td>\n",
              "      <td>NaN</td>\n",
              "      <td>기타 확진자 접촉</td>\n",
              "      <td>NaN</td>\n",
              "      <td>-</td>\n",
              "      <td>NaN</td>\n",
              "      <td>2021-07-23 11:00:37</td>\n",
              "      <td>2021-07-23 11:00:37</td>\n",
              "      <td>Y</td>\n",
              "    </tr>\n",
              "  </tbody>\n",
              "</table>\n",
              "</div>"
            ],
            "text/plain": [
              "      연번        확진일  환자번호  ...                 등록일                 수정일 노출여부\n",
              "0  60663 2021-07-22   NaN  ... 2021-07-23 11:00:37 2021-07-23 11:00:37    Y\n",
              "1  60662 2021-07-22   NaN  ... 2021-07-23 11:00:37 2021-07-23 11:00:37    Y\n",
              "2  60661 2021-07-22   NaN  ... 2021-07-23 11:00:37 2021-07-23 11:00:37    Y\n",
              "3  60660 2021-07-22   NaN  ... 2021-07-23 11:00:37 2021-07-23 11:00:37    Y\n",
              "4  60659 2021-07-22   NaN  ... 2021-07-23 11:00:37 2021-07-23 11:00:37    Y\n",
              "\n",
              "[5 rows x 14 columns]"
            ]
          },
          "metadata": {
            "tags": []
          },
          "execution_count": 55
        }
      ]
    },
    {
      "cell_type": "code",
      "metadata": {
        "colab": {
          "base_uri": "https://localhost:8080/"
        },
        "id": "wXu-WM5yiT5z",
        "outputId": "ae58008d-db43-4959-e917-809f86e67f13"
      },
      "source": [
        "# dataframe 정보를 요약해서 출력\n",
        "\n",
        "corona_all.info()"
      ],
      "execution_count": 46,
      "outputs": [
        {
          "output_type": "stream",
          "text": [
            "<class 'pandas.core.frame.DataFrame'>\n",
            "RangeIndex: 60663 entries, 0 to 60662\n",
            "Data columns (total 14 columns):\n",
            " #   Column  Non-Null Count  Dtype         \n",
            "---  ------  --------------  -----         \n",
            " 0   연번      60663 non-null  int64         \n",
            " 1   확진일     60663 non-null  datetime64[ns]\n",
            " 2   환자번호    0 non-null      float64       \n",
            " 3   국적      0 non-null      float64       \n",
            " 4   환자정보    0 non-null      float64       \n",
            " 5   지역      60663 non-null  object        \n",
            " 6   여행력     1366 non-null   object        \n",
            " 7   접촉력     60663 non-null  object        \n",
            " 8   조치사항    0 non-null      float64       \n",
            " 9   상태      60663 non-null  object        \n",
            " 10  이동경로    0 non-null      float64       \n",
            " 11  등록일     60663 non-null  datetime64[ns]\n",
            " 12  수정일     60663 non-null  datetime64[ns]\n",
            " 13  노출여부    60663 non-null  object        \n",
            "dtypes: datetime64[ns](3), float64(5), int64(1), object(5)\n",
            "memory usage: 6.5+ MB\n"
          ],
          "name": "stdout"
        }
      ]
    },
    {
      "cell_type": "markdown",
      "metadata": {
        "id": "nOoCiLCAlwQ5"
      },
      "source": [
        "## 데이터 정제\n",
        "데이터를 읽고 확인했다면 결측값(missing data), 이상치(outlier)를 처리하는 데이터 정제 과정"
      ]
    },
    {
      "cell_type": "markdown",
      "metadata": {
        "id": "Wbq7-Vsql4Sg"
      },
      "source": [
        "### 2.1. 비어있는 column 지우기\n",
        "`corona_all.info()` 코드를 통하여 `국적`, `환자정보`, `조치사항` 에 해당하는 데이터가 존재하지 않는 것을 알 수 있음.\n",
        "\n",
        "`dataframe.drop()`를 사용하여 불필요한 `국적`, `환자정보`, `조치사항` 의 column 데이터를 삭제하고 이 dataframe을 `corona_del_col`에 저장.\n"
      ]
    },
    {
      "cell_type": "code",
      "metadata": {
        "colab": {
          "base_uri": "https://localhost:8080/"
        },
        "id": "uMb_3Z7BlvoT",
        "outputId": "87bf18c5-dcc1-4ee7-e72f-c546212326e1"
      },
      "source": [
        "corona_del_col = corona_all.drop(columns = ['국적','환자정보','조치사항'])\n",
        "corona_del_col.info()"
      ],
      "execution_count": 66,
      "outputs": [
        {
          "output_type": "stream",
          "text": [
            "<class 'pandas.core.frame.DataFrame'>\n",
            "RangeIndex: 60663 entries, 0 to 60662\n",
            "Data columns (total 11 columns):\n",
            " #   Column  Non-Null Count  Dtype         \n",
            "---  ------  --------------  -----         \n",
            " 0   연번      60663 non-null  int64         \n",
            " 1   확진일     60663 non-null  datetime64[ns]\n",
            " 2   환자번호    0 non-null      float64       \n",
            " 3   지역      60663 non-null  object        \n",
            " 4   여행력     1366 non-null   object        \n",
            " 5   접촉력     60663 non-null  object        \n",
            " 6   상태      60663 non-null  object        \n",
            " 7   이동경로    0 non-null      float64       \n",
            " 8   등록일     60663 non-null  datetime64[ns]\n",
            " 9   수정일     60663 non-null  datetime64[ns]\n",
            " 10  노출여부    60663 non-null  object        \n",
            "dtypes: datetime64[ns](3), float64(2), int64(1), object(5)\n",
            "memory usage: 5.1+ MB\n"
          ],
          "name": "stdout"
        }
      ]
    },
    {
      "cell_type": "markdown",
      "metadata": {
        "id": "mV8jkts7m6eC"
      },
      "source": [
        "## 3. 데이터 시각화\n",
        "데이터 정제를 완료한 `corona_del_col` 데이터를 바탕으로 각 column의 변수별로 어떠한 데이터 분포를 하고 있는지 시각화를 통해 알아보기."
      ]
    },
    {
      "cell_type": "markdown",
      "metadata": {
        "id": "CO2i-_9MnG69"
      },
      "source": [
        "### 3.1. 확진일 데이터 전처리하기\n",
        "`확진일` 데이터를 간단히 출력해보면 `연-월-일` 형태의 날짜 형식임을 알 수 있음.\n",
        "월별, 일별 분석을 위해서 문자열 형식의 데이터를 나누어 숫자형 데이터로 변환하기."
      ]
    },
    {
      "cell_type": "code",
      "metadata": {
        "colab": {
          "base_uri": "https://localhost:8080/"
        },
        "id": "noabU5krlunX",
        "outputId": "0e02341d-f86b-4235-b779-112b51e6cba8"
      },
      "source": [
        "corona_del_col[\"확진일\"]"
      ],
      "execution_count": 67,
      "outputs": [
        {
          "output_type": "execute_result",
          "data": {
            "text/plain": [
              "0       2021-07-22\n",
              "1       2021-07-22\n",
              "2       2021-07-22\n",
              "3       2021-07-22\n",
              "4       2021-07-22\n",
              "           ...    \n",
              "60658   2020-01-31\n",
              "60659   2020-01-30\n",
              "60660   2020-01-30\n",
              "60661   2020-01-30\n",
              "60662   2020-01-24\n",
              "Name: 확진일, Length: 60663, dtype: datetime64[ns]"
            ]
          },
          "metadata": {
            "tags": []
          },
          "execution_count": 67
        }
      ]
    },
    {
      "cell_type": "markdown",
      "metadata": {
        "id": "t0Bqlm_rn-er"
      },
      "source": [
        "#### `확진일` 데이터를 `year`, `month`, `day` 데이터로 나누기\n",
        "`확진일`에 저장된 datetime 데이터를 나누어 `year`, `month`, `day` column에 int64 형태로 저장하기"
      ]
    },
    {
      "cell_type": "code",
      "metadata": {
        "id": "5dCBR_PylJYJ"
      },
      "source": [
        "# dataframe에 추가하기 전, 임시로 데이터를 저장해 둘 list를 선언.\n",
        "\n",
        "year = []\n",
        "month = []\n",
        "day = []\n",
        "\n",
        "for data in corona_del_col[\"확진일\"]:\n",
        "  # split 함수를 사용해서 연, 월, 일을 나누어 리스트에 저장하기\n",
        "  year.append(data.year)\n",
        "  month.append(data.month)\n",
        "  day.append(data.day)"
      ],
      "execution_count": 68,
      "outputs": []
    },
    {
      "cell_type": "code",
      "metadata": {
        "colab": {
          "base_uri": "https://localhost:8080/",
          "height": 419
        },
        "id": "KgNx7iFMpCPY",
        "outputId": "6d213c70-eab1-4a40-e71a-1cef55258821"
      },
      "source": [
        "# corona_del_col에 `year`, `month`, `day` column을 생성하며 동시에 list에 임시 저장된 데이터를 입력.\n",
        "\n",
        "corona_del_col[\"year\"] = year\n",
        "corona_del_col[\"month\"] = month\n",
        "corona_del_col[\"day\"] = day\n",
        "\n",
        "corona_del_col[\"year\"].astype(\"int64\")\n",
        "corona_del_col[\"month\"].astype(\"int64\")\n",
        "corona_del_col[\"day\"].astype(\"int64\")\n",
        "\n",
        "corona_del_col"
      ],
      "execution_count": 72,
      "outputs": [
        {
          "output_type": "execute_result",
          "data": {
            "text/html": [
              "<div>\n",
              "<style scoped>\n",
              "    .dataframe tbody tr th:only-of-type {\n",
              "        vertical-align: middle;\n",
              "    }\n",
              "\n",
              "    .dataframe tbody tr th {\n",
              "        vertical-align: top;\n",
              "    }\n",
              "\n",
              "    .dataframe thead th {\n",
              "        text-align: right;\n",
              "    }\n",
              "</style>\n",
              "<table border=\"1\" class=\"dataframe\">\n",
              "  <thead>\n",
              "    <tr style=\"text-align: right;\">\n",
              "      <th></th>\n",
              "      <th>연번</th>\n",
              "      <th>확진일</th>\n",
              "      <th>환자번호</th>\n",
              "      <th>지역</th>\n",
              "      <th>여행력</th>\n",
              "      <th>접촉력</th>\n",
              "      <th>상태</th>\n",
              "      <th>이동경로</th>\n",
              "      <th>등록일</th>\n",
              "      <th>수정일</th>\n",
              "      <th>노출여부</th>\n",
              "      <th>year</th>\n",
              "      <th>month</th>\n",
              "      <th>day</th>\n",
              "    </tr>\n",
              "  </thead>\n",
              "  <tbody>\n",
              "    <tr>\n",
              "      <th>0</th>\n",
              "      <td>60663</td>\n",
              "      <td>2021-07-22</td>\n",
              "      <td>NaN</td>\n",
              "      <td>종로구</td>\n",
              "      <td>NaN</td>\n",
              "      <td>기타 확진자 접촉</td>\n",
              "      <td>-</td>\n",
              "      <td>NaN</td>\n",
              "      <td>2021-07-23 11:00:37</td>\n",
              "      <td>2021-07-23 11:00:37</td>\n",
              "      <td>Y</td>\n",
              "      <td>2021</td>\n",
              "      <td>7</td>\n",
              "      <td>22</td>\n",
              "    </tr>\n",
              "    <tr>\n",
              "      <th>1</th>\n",
              "      <td>60662</td>\n",
              "      <td>2021-07-22</td>\n",
              "      <td>NaN</td>\n",
              "      <td>관악구</td>\n",
              "      <td>NaN</td>\n",
              "      <td>관악구 소재 사우나 관련(?21.7.)</td>\n",
              "      <td>-</td>\n",
              "      <td>NaN</td>\n",
              "      <td>2021-07-23 11:00:37</td>\n",
              "      <td>2021-07-23 11:00:37</td>\n",
              "      <td>Y</td>\n",
              "      <td>2021</td>\n",
              "      <td>7</td>\n",
              "      <td>22</td>\n",
              "    </tr>\n",
              "    <tr>\n",
              "      <th>2</th>\n",
              "      <td>60661</td>\n",
              "      <td>2021-07-22</td>\n",
              "      <td>NaN</td>\n",
              "      <td>성북구</td>\n",
              "      <td>NaN</td>\n",
              "      <td>기타 확진자 접촉</td>\n",
              "      <td>-</td>\n",
              "      <td>NaN</td>\n",
              "      <td>2021-07-23 11:00:37</td>\n",
              "      <td>2021-07-23 11:00:37</td>\n",
              "      <td>Y</td>\n",
              "      <td>2021</td>\n",
              "      <td>7</td>\n",
              "      <td>22</td>\n",
              "    </tr>\n",
              "    <tr>\n",
              "      <th>3</th>\n",
              "      <td>60660</td>\n",
              "      <td>2021-07-22</td>\n",
              "      <td>NaN</td>\n",
              "      <td>성북구</td>\n",
              "      <td>NaN</td>\n",
              "      <td>기타 확진자 접촉</td>\n",
              "      <td>-</td>\n",
              "      <td>NaN</td>\n",
              "      <td>2021-07-23 11:00:37</td>\n",
              "      <td>2021-07-23 11:00:37</td>\n",
              "      <td>Y</td>\n",
              "      <td>2021</td>\n",
              "      <td>7</td>\n",
              "      <td>22</td>\n",
              "    </tr>\n",
              "    <tr>\n",
              "      <th>4</th>\n",
              "      <td>60659</td>\n",
              "      <td>2021-07-22</td>\n",
              "      <td>NaN</td>\n",
              "      <td>성북구</td>\n",
              "      <td>NaN</td>\n",
              "      <td>기타 확진자 접촉</td>\n",
              "      <td>-</td>\n",
              "      <td>NaN</td>\n",
              "      <td>2021-07-23 11:00:37</td>\n",
              "      <td>2021-07-23 11:00:37</td>\n",
              "      <td>Y</td>\n",
              "      <td>2021</td>\n",
              "      <td>7</td>\n",
              "      <td>22</td>\n",
              "    </tr>\n",
              "    <tr>\n",
              "      <th>...</th>\n",
              "      <td>...</td>\n",
              "      <td>...</td>\n",
              "      <td>...</td>\n",
              "      <td>...</td>\n",
              "      <td>...</td>\n",
              "      <td>...</td>\n",
              "      <td>...</td>\n",
              "      <td>...</td>\n",
              "      <td>...</td>\n",
              "      <td>...</td>\n",
              "      <td>...</td>\n",
              "      <td>...</td>\n",
              "      <td>...</td>\n",
              "      <td>...</td>\n",
              "    </tr>\n",
              "    <tr>\n",
              "      <th>60658</th>\n",
              "      <td>5</td>\n",
              "      <td>2020-01-31</td>\n",
              "      <td>NaN</td>\n",
              "      <td>성북구</td>\n",
              "      <td>NaN</td>\n",
              "      <td>기타 확진자 접촉</td>\n",
              "      <td>퇴원</td>\n",
              "      <td>NaN</td>\n",
              "      <td>2021-05-27 11:08:12</td>\n",
              "      <td>2021-05-27 11:08:12</td>\n",
              "      <td>Y</td>\n",
              "      <td>2020</td>\n",
              "      <td>1</td>\n",
              "      <td>31</td>\n",
              "    </tr>\n",
              "    <tr>\n",
              "      <th>60659</th>\n",
              "      <td>4</td>\n",
              "      <td>2020-01-30</td>\n",
              "      <td>NaN</td>\n",
              "      <td>마포구</td>\n",
              "      <td>중국</td>\n",
              "      <td>해외유입</td>\n",
              "      <td>퇴원</td>\n",
              "      <td>NaN</td>\n",
              "      <td>2021-05-27 11:08:12</td>\n",
              "      <td>2021-05-27 11:08:12</td>\n",
              "      <td>Y</td>\n",
              "      <td>2020</td>\n",
              "      <td>1</td>\n",
              "      <td>30</td>\n",
              "    </tr>\n",
              "    <tr>\n",
              "      <th>60660</th>\n",
              "      <td>3</td>\n",
              "      <td>2020-01-30</td>\n",
              "      <td>NaN</td>\n",
              "      <td>종로구</td>\n",
              "      <td>NaN</td>\n",
              "      <td>종로구 집단발병</td>\n",
              "      <td>퇴원</td>\n",
              "      <td>NaN</td>\n",
              "      <td>2021-05-27 11:08:12</td>\n",
              "      <td>2021-05-27 11:08:12</td>\n",
              "      <td>Y</td>\n",
              "      <td>2020</td>\n",
              "      <td>1</td>\n",
              "      <td>30</td>\n",
              "    </tr>\n",
              "    <tr>\n",
              "      <th>60661</th>\n",
              "      <td>2</td>\n",
              "      <td>2020-01-30</td>\n",
              "      <td>NaN</td>\n",
              "      <td>중랑구</td>\n",
              "      <td>중국</td>\n",
              "      <td>해외유입</td>\n",
              "      <td>퇴원</td>\n",
              "      <td>NaN</td>\n",
              "      <td>2021-05-27 11:08:12</td>\n",
              "      <td>2021-05-27 11:08:12</td>\n",
              "      <td>Y</td>\n",
              "      <td>2020</td>\n",
              "      <td>1</td>\n",
              "      <td>30</td>\n",
              "    </tr>\n",
              "    <tr>\n",
              "      <th>60662</th>\n",
              "      <td>1</td>\n",
              "      <td>2020-01-24</td>\n",
              "      <td>NaN</td>\n",
              "      <td>강서구</td>\n",
              "      <td>중국</td>\n",
              "      <td>해외유입</td>\n",
              "      <td>퇴원</td>\n",
              "      <td>NaN</td>\n",
              "      <td>2021-05-27 11:08:12</td>\n",
              "      <td>2021-05-27 11:08:12</td>\n",
              "      <td>Y</td>\n",
              "      <td>2020</td>\n",
              "      <td>1</td>\n",
              "      <td>24</td>\n",
              "    </tr>\n",
              "  </tbody>\n",
              "</table>\n",
              "<p>60663 rows × 14 columns</p>\n",
              "</div>"
            ],
            "text/plain": [
              "          연번        확진일  환자번호   지역  ... 노출여부  year month  day\n",
              "0      60663 2021-07-22   NaN  종로구  ...    Y  2021     7   22\n",
              "1      60662 2021-07-22   NaN  관악구  ...    Y  2021     7   22\n",
              "2      60661 2021-07-22   NaN  성북구  ...    Y  2021     7   22\n",
              "3      60660 2021-07-22   NaN  성북구  ...    Y  2021     7   22\n",
              "4      60659 2021-07-22   NaN  성북구  ...    Y  2021     7   22\n",
              "...      ...        ...   ...  ...  ...  ...   ...   ...  ...\n",
              "60658      5 2020-01-31   NaN  성북구  ...    Y  2020     1   31\n",
              "60659      4 2020-01-30   NaN  마포구  ...    Y  2020     1   30\n",
              "60660      3 2020-01-30   NaN  종로구  ...    Y  2020     1   30\n",
              "60661      2 2020-01-30   NaN  중랑구  ...    Y  2020     1   30\n",
              "60662      1 2020-01-24   NaN  강서구  ...    Y  2020     1   24\n",
              "\n",
              "[60663 rows x 14 columns]"
            ]
          },
          "metadata": {
            "tags": []
          },
          "execution_count": 72
        }
      ]
    },
    {
      "cell_type": "markdown",
      "metadata": {
        "id": "lM_Zg_hpp9NA"
      },
      "source": [
        "### 3.2. 월별 확진자 수 출력\n",
        "나누어진 `month`의 데이터를 바탕으로 달별 확진자 수를 막대그래프로 출력."
      ]
    },
    {
      "cell_type": "code",
      "metadata": {
        "colab": {
          "base_uri": "https://localhost:8080/"
        },
        "id": "IR5FW7Zpp0VD",
        "outputId": "b24e84c2-5720-4c60-88bf-599eb4155450"
      },
      "source": [
        "# 그래프에서 x축의 순서를 정리하기 위하여 order list를 생성.\n",
        "\n",
        "order = []\n",
        "for i in range(1, 13):\n",
        "  order.append(str(i))\n",
        "\n",
        "order"
      ],
      "execution_count": 70,
      "outputs": [
        {
          "output_type": "execute_result",
          "data": {
            "text/plain": [
              "['1', '2', '3', '4', '5', '6', '7', '8', '9', '10', '11', '12']"
            ]
          },
          "metadata": {
            "tags": []
          },
          "execution_count": 70
        }
      ]
    },
    {
      "cell_type": "code",
      "metadata": {
        "colab": {
          "base_uri": "https://localhost:8080/",
          "height": 419
        },
        "id": "WrH8_fpDwCXP",
        "outputId": "542421ff-9fd1-4311-ef5b-2408f40a8532"
      },
      "source": [
        "# 2021년 데이터만 가져오기\n",
        "\n",
        "iscorona2021 = corona_del_col[\"year\"] == 2021\n",
        "corona2021 = corona_del_col[iscorona2021]\n",
        "corona2021"
      ],
      "execution_count": 105,
      "outputs": [
        {
          "output_type": "execute_result",
          "data": {
            "text/html": [
              "<div>\n",
              "<style scoped>\n",
              "    .dataframe tbody tr th:only-of-type {\n",
              "        vertical-align: middle;\n",
              "    }\n",
              "\n",
              "    .dataframe tbody tr th {\n",
              "        vertical-align: top;\n",
              "    }\n",
              "\n",
              "    .dataframe thead th {\n",
              "        text-align: right;\n",
              "    }\n",
              "</style>\n",
              "<table border=\"1\" class=\"dataframe\">\n",
              "  <thead>\n",
              "    <tr style=\"text-align: right;\">\n",
              "      <th></th>\n",
              "      <th>연번</th>\n",
              "      <th>확진일</th>\n",
              "      <th>환자번호</th>\n",
              "      <th>지역</th>\n",
              "      <th>여행력</th>\n",
              "      <th>접촉력</th>\n",
              "      <th>상태</th>\n",
              "      <th>이동경로</th>\n",
              "      <th>등록일</th>\n",
              "      <th>수정일</th>\n",
              "      <th>노출여부</th>\n",
              "      <th>year</th>\n",
              "      <th>month</th>\n",
              "      <th>day</th>\n",
              "    </tr>\n",
              "  </thead>\n",
              "  <tbody>\n",
              "    <tr>\n",
              "      <th>0</th>\n",
              "      <td>60663</td>\n",
              "      <td>2021-07-22</td>\n",
              "      <td>NaN</td>\n",
              "      <td>종로구</td>\n",
              "      <td>NaN</td>\n",
              "      <td>기타 확진자 접촉</td>\n",
              "      <td>-</td>\n",
              "      <td>NaN</td>\n",
              "      <td>2021-07-23 11:00:37</td>\n",
              "      <td>2021-07-23 11:00:37</td>\n",
              "      <td>Y</td>\n",
              "      <td>2021</td>\n",
              "      <td>7</td>\n",
              "      <td>22</td>\n",
              "    </tr>\n",
              "    <tr>\n",
              "      <th>1</th>\n",
              "      <td>60662</td>\n",
              "      <td>2021-07-22</td>\n",
              "      <td>NaN</td>\n",
              "      <td>관악구</td>\n",
              "      <td>NaN</td>\n",
              "      <td>관악구 소재 사우나 관련(?21.7.)</td>\n",
              "      <td>-</td>\n",
              "      <td>NaN</td>\n",
              "      <td>2021-07-23 11:00:37</td>\n",
              "      <td>2021-07-23 11:00:37</td>\n",
              "      <td>Y</td>\n",
              "      <td>2021</td>\n",
              "      <td>7</td>\n",
              "      <td>22</td>\n",
              "    </tr>\n",
              "    <tr>\n",
              "      <th>2</th>\n",
              "      <td>60661</td>\n",
              "      <td>2021-07-22</td>\n",
              "      <td>NaN</td>\n",
              "      <td>성북구</td>\n",
              "      <td>NaN</td>\n",
              "      <td>기타 확진자 접촉</td>\n",
              "      <td>-</td>\n",
              "      <td>NaN</td>\n",
              "      <td>2021-07-23 11:00:37</td>\n",
              "      <td>2021-07-23 11:00:37</td>\n",
              "      <td>Y</td>\n",
              "      <td>2021</td>\n",
              "      <td>7</td>\n",
              "      <td>22</td>\n",
              "    </tr>\n",
              "    <tr>\n",
              "      <th>3</th>\n",
              "      <td>60660</td>\n",
              "      <td>2021-07-22</td>\n",
              "      <td>NaN</td>\n",
              "      <td>성북구</td>\n",
              "      <td>NaN</td>\n",
              "      <td>기타 확진자 접촉</td>\n",
              "      <td>-</td>\n",
              "      <td>NaN</td>\n",
              "      <td>2021-07-23 11:00:37</td>\n",
              "      <td>2021-07-23 11:00:37</td>\n",
              "      <td>Y</td>\n",
              "      <td>2021</td>\n",
              "      <td>7</td>\n",
              "      <td>22</td>\n",
              "    </tr>\n",
              "    <tr>\n",
              "      <th>4</th>\n",
              "      <td>60659</td>\n",
              "      <td>2021-07-22</td>\n",
              "      <td>NaN</td>\n",
              "      <td>성북구</td>\n",
              "      <td>NaN</td>\n",
              "      <td>기타 확진자 접촉</td>\n",
              "      <td>-</td>\n",
              "      <td>NaN</td>\n",
              "      <td>2021-07-23 11:00:37</td>\n",
              "      <td>2021-07-23 11:00:37</td>\n",
              "      <td>Y</td>\n",
              "      <td>2021</td>\n",
              "      <td>7</td>\n",
              "      <td>22</td>\n",
              "    </tr>\n",
              "    <tr>\n",
              "      <th>...</th>\n",
              "      <td>...</td>\n",
              "      <td>...</td>\n",
              "      <td>...</td>\n",
              "      <td>...</td>\n",
              "      <td>...</td>\n",
              "      <td>...</td>\n",
              "      <td>...</td>\n",
              "      <td>...</td>\n",
              "      <td>...</td>\n",
              "      <td>...</td>\n",
              "      <td>...</td>\n",
              "      <td>...</td>\n",
              "      <td>...</td>\n",
              "      <td>...</td>\n",
              "    </tr>\n",
              "    <tr>\n",
              "      <th>41305</th>\n",
              "      <td>19358</td>\n",
              "      <td>2021-01-01</td>\n",
              "      <td>NaN</td>\n",
              "      <td>관악구</td>\n",
              "      <td>NaN</td>\n",
              "      <td>감염경로 조사중</td>\n",
              "      <td>퇴원</td>\n",
              "      <td>NaN</td>\n",
              "      <td>2021-05-27 11:08:51</td>\n",
              "      <td>2021-05-27 11:08:51</td>\n",
              "      <td>Y</td>\n",
              "      <td>2021</td>\n",
              "      <td>1</td>\n",
              "      <td>1</td>\n",
              "    </tr>\n",
              "    <tr>\n",
              "      <th>41306</th>\n",
              "      <td>19357</td>\n",
              "      <td>2021-01-01</td>\n",
              "      <td>NaN</td>\n",
              "      <td>동작구</td>\n",
              "      <td>NaN</td>\n",
              "      <td>감염경로 조사중</td>\n",
              "      <td>퇴원</td>\n",
              "      <td>NaN</td>\n",
              "      <td>2021-05-27 11:08:51</td>\n",
              "      <td>2021-05-27 11:08:51</td>\n",
              "      <td>Y</td>\n",
              "      <td>2021</td>\n",
              "      <td>1</td>\n",
              "      <td>1</td>\n",
              "    </tr>\n",
              "    <tr>\n",
              "      <th>41307</th>\n",
              "      <td>19356</td>\n",
              "      <td>2021-01-01</td>\n",
              "      <td>NaN</td>\n",
              "      <td>금천구</td>\n",
              "      <td>NaN</td>\n",
              "      <td>기타 확진자 접촉</td>\n",
              "      <td>퇴원</td>\n",
              "      <td>NaN</td>\n",
              "      <td>2021-05-27 11:08:51</td>\n",
              "      <td>2021-05-27 11:08:51</td>\n",
              "      <td>Y</td>\n",
              "      <td>2021</td>\n",
              "      <td>1</td>\n",
              "      <td>1</td>\n",
              "    </tr>\n",
              "    <tr>\n",
              "      <th>41308</th>\n",
              "      <td>19355</td>\n",
              "      <td>2021-01-01</td>\n",
              "      <td>NaN</td>\n",
              "      <td>동작구</td>\n",
              "      <td>NaN</td>\n",
              "      <td>감염경로 조사중</td>\n",
              "      <td>퇴원</td>\n",
              "      <td>NaN</td>\n",
              "      <td>2021-05-27 11:08:51</td>\n",
              "      <td>2021-05-27 11:08:51</td>\n",
              "      <td>Y</td>\n",
              "      <td>2021</td>\n",
              "      <td>1</td>\n",
              "      <td>1</td>\n",
              "    </tr>\n",
              "    <tr>\n",
              "      <th>41309</th>\n",
              "      <td>19354</td>\n",
              "      <td>2021-01-01</td>\n",
              "      <td>NaN</td>\n",
              "      <td>성동구</td>\n",
              "      <td>NaN</td>\n",
              "      <td>감염경로 조사중</td>\n",
              "      <td>퇴원</td>\n",
              "      <td>NaN</td>\n",
              "      <td>2021-05-27 11:08:51</td>\n",
              "      <td>2021-05-27 11:08:51</td>\n",
              "      <td>Y</td>\n",
              "      <td>2021</td>\n",
              "      <td>1</td>\n",
              "      <td>1</td>\n",
              "    </tr>\n",
              "  </tbody>\n",
              "</table>\n",
              "<p>41270 rows × 14 columns</p>\n",
              "</div>"
            ],
            "text/plain": [
              "          연번        확진일  환자번호   지역  ... 노출여부  year month  day\n",
              "0      60663 2021-07-22   NaN  종로구  ...    Y  2021     7   22\n",
              "1      60662 2021-07-22   NaN  관악구  ...    Y  2021     7   22\n",
              "2      60661 2021-07-22   NaN  성북구  ...    Y  2021     7   22\n",
              "3      60660 2021-07-22   NaN  성북구  ...    Y  2021     7   22\n",
              "4      60659 2021-07-22   NaN  성북구  ...    Y  2021     7   22\n",
              "...      ...        ...   ...  ...  ...  ...   ...   ...  ...\n",
              "41305  19358 2021-01-01   NaN  관악구  ...    Y  2021     1    1\n",
              "41306  19357 2021-01-01   NaN  동작구  ...    Y  2021     1    1\n",
              "41307  19356 2021-01-01   NaN  금천구  ...    Y  2021     1    1\n",
              "41308  19355 2021-01-01   NaN  동작구  ...    Y  2021     1    1\n",
              "41309  19354 2021-01-01   NaN  성동구  ...    Y  2021     1    1\n",
              "\n",
              "[41270 rows x 14 columns]"
            ]
          },
          "metadata": {
            "tags": []
          },
          "execution_count": 105
        }
      ]
    },
    {
      "cell_type": "code",
      "metadata": {
        "colab": {
          "base_uri": "https://localhost:8080/",
          "height": 339
        },
        "id": "8ynxiXSXrFY3",
        "outputId": "c1a7bc91-edf1-4b31-d74d-47647e0d880a"
      },
      "source": [
        "# 그래프의 사이즈를 조절.\n",
        "plt.figure(figsize=(10,5))\n",
        "\n",
        "# seaborn의 countplot 함수를 사용하여 출력.\n",
        "sns.set(style=\"darkgrid\")\n",
        "ax = sns.countplot(data=corona2021, x=\"month\")"
      ],
      "execution_count": 106,
      "outputs": [
        {
          "output_type": "display_data",
          "data": {
            "image/png": "[encoded data removed]",
            "text/plain": [
              "<Figure size 720x360 with 1 Axes>"
            ]
          },
          "metadata": {
            "tags": []
          }
        }
      ]
    },
    {
      "cell_type": "code",
      "metadata": {
        "colab": {
          "base_uri": "https://localhost:8080/",
          "height": 283
        },
        "id": "PAJAWVjvr6DX",
        "outputId": "bbcf0a80-eecf-428a-8b24-a49a793bdb26"
      },
      "source": [
        "# series의 plot 함수를 사용한 출력 방법도 있음.\n",
        "corona2021['month'].value_counts().plot(kind='bar')   "
      ],
      "execution_count": 107,
      "outputs": [
        {
          "output_type": "execute_result",
          "data": {
            "text/plain": [
              "<matplotlib.axes._subplots.AxesSubplot at 0x7f54bfbee1d0>"
            ]
          },
          "metadata": {
            "tags": []
          },
          "execution_count": 107
        },
        {
          "output_type": "display_data",
          "data": {
            "image/png": "[encoded data removed]",
            "text/plain": [
              "<Figure size 432x288 with 1 Axes>"
            ]
          },
          "metadata": {
            "tags": []
          }
        }
      ]
    },
    {
      "cell_type": "code",
      "metadata": {
        "colab": {
          "base_uri": "https://localhost:8080/"
        },
        "id": "K-C2EnrXyiN_",
        "outputId": "5f964c4a-c9cc-4238-d902-8e75349bc550"
      },
      "source": [
        "# 위에서 value_counts()는 각 데이터를 세어서 내림차순으로 정리하는 함수.\n",
        "corona2021['month'].value_counts()"
      ],
      "execution_count": 110,
      "outputs": [
        {
          "output_type": "execute_result",
          "data": {
            "text/plain": [
              "7    10342\n",
              "6     6257\n",
              "5     6030\n",
              "4     5804\n",
              "1     4878\n",
              "2     4061\n",
              "3     3898\n",
              "Name: month, dtype: int64"
            ]
          },
          "metadata": {
            "tags": []
          },
          "execution_count": 110
        }
      ]
    },
    {
      "cell_type": "code",
      "metadata": {
        "id": "_X6xYNMpyzmy"
      },
      "source": [
        ""
      ],
      "execution_count": null,
      "outputs": []
    }
  ]
}